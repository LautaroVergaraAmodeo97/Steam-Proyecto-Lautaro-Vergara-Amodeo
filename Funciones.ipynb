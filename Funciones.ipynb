{
 "cells": [
  {
   "cell_type": "markdown",
   "metadata": {},
   "source": [
    "## Lectura como siempre de los dataframes"
   ]
  },
  {
   "cell_type": "code",
   "execution_count": 2,
   "metadata": {},
   "outputs": [],
   "source": [
    "import pandas as pd\n"
   ]
  },
  {
   "cell_type": "code",
   "execution_count": 3,
   "metadata": {},
   "outputs": [],
   "source": [
    "df_primigenio = pd.read_parquet('df_bdev.parquet')\n",
    "df_ugenre = pd.read_parquet('df_ugenre.parquet')\n",
    "df_bdev = pd.read_parquet('df_bdev.parquet')\n",
    "df_sentimiento = pd.read_parquet('df_sentimiento.parquet')"
   ]
  },
  {
   "cell_type": "markdown",
   "metadata": {},
   "source": [
    "Creación de las funciones que van pidiendo "
   ]
  },
  {
   "cell_type": "markdown",
   "metadata": {},
   "source": [
    "Función def UserForGenre( genero : str ): Debe devolver el usuario que acumula más horas jugadas para el género dado y una lista de la acumulación de horas jugadas por año de lanzamiento."
   ]
  },
  {
   "cell_type": "code",
   "execution_count": 3,
   "metadata": {},
   "outputs": [
    {
     "name": "stdout",
     "output_type": "stream",
     "text": [
      "{'Usuario con más horas jugadas para Género Casual': '76561198034784208', 'Horas jugadas': [{'Año': 2016, 'Horas': 335}]}\n"
     ]
    }
   ],
   "source": [
    "def UserForGenre(genero: str):\n",
    "    # Filtrar el DataFrame por el género específico\n",
    "    df_genre = df_ugenre[df_ugenre['genres'] == genero]\n",
    "\n",
    "    # Agrupar por usuario y año, sumar las horas jugadas\n",
    "    grouped_df = df_genre.groupby(['user_id', 'year_release'])['playtime_forever'].sum().reset_index()\n",
    "\n",
    "    # Encontrar al usuario con más horas jugadas\n",
    "    max_user = grouped_df.loc[grouped_df['playtime_forever'].idxmax()]['user_id']\n",
    "\n",
    "    # Filtrar el DataFrame original para obtener las horas jugadas por año del usuario máximo\n",
    "    max_user_df = df_ugenre[df_ugenre['user_id'] == max_user]\n",
    "    max_user_hours_by_year = max_user_df.groupby('year_release')['playtime_forever'].sum().reset_index()\n",
    "\n",
    "    # Crear la lista de la acumulación de horas jugadas por año\n",
    "    horas_jugadas_por_anio = [{\"Año\": int(anio), \"Horas\": int(horas)} for anio, horas in zip(max_user_hours_by_year['year_release'], max_user_hours_by_year['playtime_forever'])]\n",
    "\n",
    "    # Crear el diccionario de retorno\n",
    "    resultado = {\"Usuario con más horas jugadas para Género \" + genero: max_user, \"Horas jugadas\": horas_jugadas_por_anio}\n",
    "\n",
    "    return resultado\n",
    "\n",
    "\n",
    "# Llamada de ejemplo con el género 'Action'\n",
    "resultado_ejemplo = UserForGenre('Casual')\n",
    "print(resultado_ejemplo)"
   ]
  },
  {
   "cell_type": "markdown",
   "metadata": {},
   "source": [
    "Función def best_developer_year( año : int ): Devuelve el top 3 de desarrolladores con juegos MÁS recomendados por usuarios para el año dado. (reviews.recommend = True y comentarios positivos)"
   ]
  },
  {
   "cell_type": "code",
   "execution_count": 4,
   "metadata": {},
   "outputs": [
    {
     "name": "stdout",
     "output_type": "stream",
     "text": [
      "{'Puesto 1': 'Team Fortress 2', 'Puesto 2': 'Terraria', 'Puesto 3': \"Garry's Mod\"}\n"
     ]
    }
   ],
   "source": [
    "def best_developer_year(year: int):\n",
    "    # Verificar que las columnas necesarias existan en el DataFrame\n",
    "    required_columns = {'year_review', 'recommend', 'Sentiment_Score', 'app_name'}\n",
    "    if not required_columns.issubset(df_bdev.columns):\n",
    "        raise KeyError(f\"Faltan las siguientes columnas necesarias: {required_columns - set(df_bdev.columns)}\")\n",
    "\n",
    "    # Eliminar filas donde 'year_review' es nulo\n",
    "    df_bdev_cleaned = df_bdev.dropna(subset=['year_review'])\n",
    "\n",
    "    # Filtrar por año\n",
    "    df_filtered = df_bdev_cleaned[df_bdev_cleaned['year_review'] == year]\n",
    "\n",
    "    # Filtrar por recomendaciones positivas/neutrales\n",
    "    df_filtered = df_filtered[(df_filtered['recommend'] == True) & (df_filtered['Sentiment_Score'].isin([1, 2]))]\n",
    "\n",
    "    # Obtener el top 3 de juegos más recomendados\n",
    "    top_games = df_filtered.groupby('app_name')['recommend'].count().sort_values(ascending=False).head(3)\n",
    "\n",
    "    # Crear el diccionario de resultados en el formato deseado\n",
    "    top_games_dict = {f'Puesto {i+1}': juego for i, juego in enumerate(top_games.index)}\n",
    "\n",
    "    # Devolver el diccionario en el formato deseado\n",
    "    return top_games_dict\n",
    "\n",
    "# Llamada de ejemplo con el año 2012\n",
    "resultado_ejemplo1 = best_developer_year(2012)\n",
    "print(resultado_ejemplo1)"
   ]
  },
  {
   "cell_type": "markdown",
   "metadata": {},
   "source": [
    "Función def developer_reviews_analysis( desarrolladora : str ): Según el desarrollador, se devuelve un diccionario con el nombre del desarrollador como llave y una lista con la cantidad total de registros de reseñas de usuarios que se encuentren categorizados con un análisis de sentimiento como valor positivo o negativo."
   ]
  },
  {
   "cell_type": "code",
   "execution_count": 6,
   "metadata": {},
   "outputs": [
    {
     "name": "stdout",
     "output_type": "stream",
     "text": [
      "{'valve': {'Negative': 992, 'Neutral': 4851, 'Positive': 3729}}\n"
     ]
    }
   ],
   "source": [
    "def developer_reviews_analysis(developer):\n",
    "    # Filtrar el dataframe por la desarrolladora especificada\n",
    "    developer_df = df_sentimiento[df_sentimiento['developer'] == developer]\n",
    "\n",
    "    # Sumar los valores de Sentiment_Score para cada categoría\n",
    "    negative_sum = developer_df[developer_df['Sentiment_Score'] == 0].shape[0]\n",
    "    neutral_sum = developer_df[developer_df['Sentiment_Score'] == 1].shape[0]\n",
    "    positive_sum = developer_df[developer_df['Sentiment_Score'] == 2].shape[0]\n",
    "\n",
    "    # Crear el diccionario de salida\n",
    "    result_dict = {\n",
    "        developer: {\n",
    "            'Negative': negative_sum,\n",
    "            'Neutral': neutral_sum,\n",
    "            'Positive': positive_sum\n",
    "        }\n",
    "    }\n",
    "\n",
    "    return result_dict\n",
    "\n",
    "# Llamada de ejemplo con el año 2012\n",
    "resultado_ejemplo1 = developer_reviews_analysis('valve')\n",
    "print(resultado_ejemplo1)"
   ]
  },
  {
   "cell_type": "markdown",
   "metadata": {},
   "source": [
    "Función def userdata( User_id : str ): Debe devolver cantidad de dinero gastado por el usuario, el porcentaje de recomendación en base a reviews.recommend y cantidad de items."
   ]
  },
  {
   "cell_type": "code",
   "execution_count": 8,
   "metadata": {},
   "outputs": [
    {
     "name": "stdout",
     "output_type": "stream",
     "text": [
      "{'Usuario X': '76561197970982479', 'Dinero gastado': '29.98 USD', '% de recomendación': '100.00%', 'cantidad de items': 2}\n"
     ]
    }
   ],
   "source": [
    "def userdata(user_id: str):\n",
    "    # Filtrar el DataFrame para obtener solo los datos del usuario especificado\n",
    "    user_data = df_bdev[df_bdev['user_id'] == user_id]\n",
    "\n",
    "    # Calcular el dinero gastado por el usuario\n",
    "    dinero_gastado = user_data['price'].sum()\n",
    "\n",
    "    # Calcular el porcentaje de recomendación\n",
    "    total_reviews = len(user_data)\n",
    "    recomendaciones_positivas = user_data['recommend'].sum()\n",
    "    porcentaje_recomendacion = (recomendaciones_positivas / total_reviews) * 100 if total_reviews > 0 else 0\n",
    "\n",
    "    # Calcular la cantidad de items\n",
    "    cantidad_items = user_data['item_id'].nunique()\n",
    "\n",
    "    # Crear el diccionario de resultados\n",
    "    resultado = {\n",
    "        \"Usuario X\": user_id,\n",
    "        \"Dinero gastado\": f\"{dinero_gastado:.2f} USD\",\n",
    "        \"% de recomendación\": f\"{porcentaje_recomendacion:.2f}%\",\n",
    "        \"cantidad de items\": cantidad_items\n",
    "    }\n",
    "\n",
    "    # Devolver el diccionario en el formato deseado\n",
    "    return resultado\n",
    "\n",
    "resultado_ejemplo1 = userdata('76561197970982479')\n",
    "print(resultado_ejemplo1)\n"
   ]
  },
  {
   "cell_type": "markdown",
   "metadata": {},
   "source": [
    "Función def developer( desarrollador : str ): Cantidad de items y porcentaje de contenido Free por año según empresa desarrolladora. Ejemplo de retorno:"
   ]
  },
  {
   "cell_type": "code",
   "execution_count": 9,
   "metadata": {},
   "outputs": [
    {
     "name": "stdout",
     "output_type": "stream",
     "text": [
      "    Año  Cantidad de Items Contenido Free\n",
      "0  1997                  1          0.00%\n",
      "1  2011                  2          0.00%\n",
      "2  2015                 28        100.00%\n"
     ]
    }
   ],
   "source": [
    "def developer(desarrollador: str):\n",
    "    # Filtrar el DataFrame para obtener solo los datos del desarrollador especificado\n",
    "    developer_data = df_bdev[df_bdev['developer'].str.lower() == desarrollador.lower()]\n",
    "\n",
    "    # Verificar si el DataFrame filtrado no está vacío\n",
    "    if developer_data.empty:\n",
    "        return f\"No se encontraron datos para el desarrollador: {desarrollador}\"\n",
    "\n",
    "    # Agrupar por año y calcular la cantidad de items y el porcentaje de contenido gratuito\n",
    "    grouped_data = developer_data.groupby('year_release').agg(\n",
    "        cantidad_items=('item_id', 'count'),\n",
    "        contenido_free_pct=('price', lambda x: (x == 0).mean() * 100)\n",
    "    ).reset_index()\n",
    "\n",
    "    # Renombrar las columnas para el formato deseado\n",
    "    grouped_data.columns = ['Año', 'Cantidad de Items', 'Contenido Free']\n",
    "\n",
    "    # Formatear el porcentaje de contenido gratuito\n",
    "    grouped_data['Contenido Free'] = grouped_data['Contenido Free'].map('{:.2f}%'.format)\n",
    "\n",
    "    # Devolver el DataFrame con el resultado\n",
    "    return grouped_data\n",
    "\n",
    "\n",
    "\n",
    "resultado_ejemplo1 = developer('Stainless Games Ltd')\n",
    "print(resultado_ejemplo1)"
   ]
  },
  {
   "cell_type": "markdown",
   "metadata": {},
   "source": [
    "Función def recomendacion_usuario( id de usuario ): Ingresando el id de un usuario, deberíamos recibir una lista con 5 juegos recomendados para dicho usuario."
   ]
  },
  {
   "cell_type": "code",
   "execution_count": 10,
   "metadata": {},
   "outputs": [
    {
     "name": "stdout",
     "output_type": "stream",
     "text": [
      "['Counter-Strike: Global Offensive', 'Left 4 Dead 2', 'BioShock Infinite', 'Counter-Strike: Source', 'Half-Life 2']\n"
     ]
    },
    {
     "name": "stderr",
     "output_type": "stream",
     "text": [
      "C:\\Users\\User\\AppData\\Local\\Temp\\ipykernel_15756\\167750673.py:17: SettingWithCopyWarning: \n",
      "A value is trying to be set on a copy of a slice from a DataFrame.\n",
      "Try using .loc[row_indexer,col_indexer] = value instead\n",
      "\n",
      "See the caveats in the documentation: https://pandas.pydata.org/pandas-docs/stable/user_guide/indexing.html#returning-a-view-versus-a-copy\n",
      "  juegos_recomendados['positive_recommendations'] = juegos_recomendados.groupby('item_id')['recommend'].transform('sum')\n"
     ]
    }
   ],
   "source": [
    "def recomendacion_usuario(user_id: str):\n",
    "    # Verificar que el usuario existe en el DataFrame\n",
    "    if user_id not in df_bdev['user_id'].values:\n",
    "        return f\"No se encontró el usuario con id: {user_id}\"\n",
    "\n",
    "    # Obtener los datos de los juegos revisados por el usuario\n",
    "    juegos_usuario = df_bdev[df_bdev['user_id'] == user_id]\n",
    "\n",
    "    # Obtener los géneros de los juegos revisados por el usuario\n",
    "    generos_usuario = juegos_usuario['genres'].unique()\n",
    "\n",
    "    # Filtrar los juegos que coincidan con los géneros y que el usuario no haya revisado\n",
    "    juegos_recomendados = df_bdev[(df_bdev['genres'].isin(generos_usuario)) & \n",
    "                                  (~df_bdev['item_id'].isin(juegos_usuario['item_id']))]\n",
    "\n",
    "    # Ordenar los juegos por el número de recomendaciones positivas\n",
    "    juegos_recomendados['positive_recommendations'] = juegos_recomendados.groupby('item_id')['recommend'].transform('sum')\n",
    "    top_recomendados = juegos_recomendados.sort_values(by='positive_recommendations', ascending=False).drop_duplicates('item_id').head(5)\n",
    "\n",
    "    # Crear la lista de juegos recomendados\n",
    "    lista_recomendaciones = top_recomendados['app_name'].tolist()\n",
    "\n",
    "    return lista_recomendaciones\n",
    "\n",
    "resultado_ejemplo1 = recomendacion_usuario('76561197970982479')\n",
    "print(resultado_ejemplo1)\n"
   ]
  }
 ],
 "metadata": {
  "kernelspec": {
   "display_name": "Python 3",
   "language": "python",
   "name": "python3"
  },
  "language_info": {
   "codemirror_mode": {
    "name": "ipython",
    "version": 3
   },
   "file_extension": ".py",
   "mimetype": "text/x-python",
   "name": "python",
   "nbconvert_exporter": "python",
   "pygments_lexer": "ipython3",
   "version": "3.11.9"
  }
 },
 "nbformat": 4,
 "nbformat_minor": 2
}
