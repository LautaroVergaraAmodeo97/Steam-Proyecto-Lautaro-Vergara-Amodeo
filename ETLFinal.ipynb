{
 "cells": [
  {
   "cell_type": "markdown",
   "metadata": {},
   "source": [
    "**En esta sección vamos a limpiar los datos que tenemos en nuestros tres datasets**\n"
   ]
  },
  {
   "cell_type": "markdown",
   "metadata": {},
   "source": [
    "**En este primer momento vamos a leer lo que sería nuestro dataset 'output_steam_games.json'**"
   ]
  },
  {
   "cell_type": "code",
   "execution_count": 4,
   "metadata": {},
   "outputs": [
    {
     "data": {
      "text/html": [
       "<div>\n",
       "<style scoped>\n",
       "    .dataframe tbody tr th:only-of-type {\n",
       "        vertical-align: middle;\n",
       "    }\n",
       "\n",
       "    .dataframe tbody tr th {\n",
       "        vertical-align: top;\n",
       "    }\n",
       "\n",
       "    .dataframe thead th {\n",
       "        text-align: right;\n",
       "    }\n",
       "</style>\n",
       "<table border=\"1\" class=\"dataframe\">\n",
       "  <thead>\n",
       "    <tr style=\"text-align: right;\">\n",
       "      <th></th>\n",
       "      <th>publisher</th>\n",
       "      <th>genres</th>\n",
       "      <th>app_name</th>\n",
       "      <th>title</th>\n",
       "      <th>url</th>\n",
       "      <th>release_date</th>\n",
       "      <th>tags</th>\n",
       "      <th>reviews_url</th>\n",
       "      <th>specs</th>\n",
       "      <th>price</th>\n",
       "      <th>early_access</th>\n",
       "      <th>id</th>\n",
       "      <th>developer</th>\n",
       "    </tr>\n",
       "  </thead>\n",
       "  <tbody>\n",
       "    <tr>\n",
       "      <th>0</th>\n",
       "      <td>None</td>\n",
       "      <td>None</td>\n",
       "      <td>None</td>\n",
       "      <td>None</td>\n",
       "      <td>None</td>\n",
       "      <td>None</td>\n",
       "      <td>None</td>\n",
       "      <td>None</td>\n",
       "      <td>None</td>\n",
       "      <td>None</td>\n",
       "      <td>NaN</td>\n",
       "      <td>NaN</td>\n",
       "      <td>None</td>\n",
       "    </tr>\n",
       "    <tr>\n",
       "      <th>1</th>\n",
       "      <td>None</td>\n",
       "      <td>None</td>\n",
       "      <td>None</td>\n",
       "      <td>None</td>\n",
       "      <td>None</td>\n",
       "      <td>None</td>\n",
       "      <td>None</td>\n",
       "      <td>None</td>\n",
       "      <td>None</td>\n",
       "      <td>None</td>\n",
       "      <td>NaN</td>\n",
       "      <td>NaN</td>\n",
       "      <td>None</td>\n",
       "    </tr>\n",
       "    <tr>\n",
       "      <th>2</th>\n",
       "      <td>None</td>\n",
       "      <td>None</td>\n",
       "      <td>None</td>\n",
       "      <td>None</td>\n",
       "      <td>None</td>\n",
       "      <td>None</td>\n",
       "      <td>None</td>\n",
       "      <td>None</td>\n",
       "      <td>None</td>\n",
       "      <td>None</td>\n",
       "      <td>NaN</td>\n",
       "      <td>NaN</td>\n",
       "      <td>None</td>\n",
       "    </tr>\n",
       "  </tbody>\n",
       "</table>\n",
       "</div>"
      ],
      "text/plain": [
       "  publisher genres app_name title   url release_date  tags reviews_url specs  \\\n",
       "0      None   None     None  None  None         None  None        None  None   \n",
       "1      None   None     None  None  None         None  None        None  None   \n",
       "2      None   None     None  None  None         None  None        None  None   \n",
       "\n",
       "  price  early_access  id developer  \n",
       "0  None           NaN NaN      None  \n",
       "1  None           NaN NaN      None  \n",
       "2  None           NaN NaN      None  "
      ]
     },
     "execution_count": 4,
     "metadata": {},
     "output_type": "execute_result"
    }
   ],
   "source": [
    "import pandas as pd\n",
    "import numpy as np\n",
    "\n",
    "\n",
    "data1= pd.read_json('output_steam_games.json', encoding='utf-8', lines=True)\n",
    "\n",
    "data1.head(3)"
   ]
  },
  {
   "cell_type": "markdown",
   "metadata": {},
   "source": [
    "Con data1.info() vamos a ver las cantidades de entradas que tiene el dataset además de ver los Dtypes y la cantidad de nulos."
   ]
  },
  {
   "cell_type": "code",
   "execution_count": 87,
   "metadata": {},
   "outputs": [
    {
     "name": "stdout",
     "output_type": "stream",
     "text": [
      "<class 'pandas.core.frame.DataFrame'>\n",
      "RangeIndex: 120445 entries, 0 to 120444\n",
      "Data columns (total 13 columns):\n",
      " #   Column        Non-Null Count  Dtype  \n",
      "---  ------        --------------  -----  \n",
      " 0   publisher     24083 non-null  object \n",
      " 1   genres        28852 non-null  object \n",
      " 2   app_name      32133 non-null  object \n",
      " 3   title         30085 non-null  object \n",
      " 4   url           32135 non-null  object \n",
      " 5   release_date  30068 non-null  object \n",
      " 6   tags          31972 non-null  object \n",
      " 7   reviews_url   32133 non-null  object \n",
      " 8   specs         31465 non-null  object \n",
      " 9   price         30758 non-null  object \n",
      " 10  early_access  32135 non-null  float64\n",
      " 11  id            32133 non-null  float64\n",
      " 12  developer     28836 non-null  object \n",
      "dtypes: float64(2), object(11)\n",
      "memory usage: 11.9+ MB\n"
     ]
    }
   ],
   "source": [
    "data1.info()"
   ]
  },
  {
   "cell_type": "markdown",
   "metadata": {},
   "source": [
    "Con la librería missigno vamos a poder ver la cantidad de nulos que hay en todo el json."
   ]
  },
  {
   "cell_type": "markdown",
   "metadata": {},
   "source": [
    "!pip install missingno"
   ]
  },
  {
   "cell_type": "code",
   "execution_count": 10,
   "metadata": {},
   "outputs": [
    {
     "data": {
      "text/plain": [
       "<Axes: >"
      ]
     },
     "execution_count": 10,
     "metadata": {},
     "output_type": "execute_result"
    },
    {
     "data": {
      "image/png": "[encoded data removed]",
      "text/plain": [
       "<Figure size 2500x1000 with 2 Axes>"
      ]
     },
     "metadata": {},
     "output_type": "display_data"
    }
   ],
   "source": [
    "import missingno as msno\n",
    "\n",
    "%matplotlib inline\n",
    "msno.matrix(data1)"
   ]
  },
  {
   "cell_type": "markdown",
   "metadata": {},
   "source": [
    "La idea es eliminar las filas que están totalmentes vacías y trabajar con aquellas que contengan algo de información ya que si dejo totalmente todos los datos no creo que sea de toda utilidad imputarlos ya que hay una gran mayoría de Nulos."
   ]
  },
  {
   "cell_type": "code",
   "execution_count": 88,
   "metadata": {},
   "outputs": [],
   "source": [
    "data1.dropna(how='all',inplace=True)"
   ]
  },
  {
   "cell_type": "markdown",
   "metadata": {},
   "source": [
    "Ahora vamos a ver que mediante data1.info() vamos a ver que se redujo una cantidad totalemente considerable el json debido a la eliminación de todos las filas que tenían Nan"
   ]
  },
  {
   "cell_type": "code",
   "execution_count": 89,
   "metadata": {},
   "outputs": [
    {
     "name": "stdout",
     "output_type": "stream",
     "text": [
      "<class 'pandas.core.frame.DataFrame'>\n",
      "Index: 32135 entries, 88310 to 120444\n",
      "Data columns (total 13 columns):\n",
      " #   Column        Non-Null Count  Dtype  \n",
      "---  ------        --------------  -----  \n",
      " 0   publisher     24083 non-null  object \n",
      " 1   genres        28852 non-null  object \n",
      " 2   app_name      32133 non-null  object \n",
      " 3   title         30085 non-null  object \n",
      " 4   url           32135 non-null  object \n",
      " 5   release_date  30068 non-null  object \n",
      " 6   tags          31972 non-null  object \n",
      " 7   reviews_url   32133 non-null  object \n",
      " 8   specs         31465 non-null  object \n",
      " 9   price         30758 non-null  object \n",
      " 10  early_access  32135 non-null  float64\n",
      " 11  id            32133 non-null  float64\n",
      " 12  developer     28836 non-null  object \n",
      "dtypes: float64(2), object(11)\n",
      "memory usage: 3.4+ MB\n"
     ]
    }
   ],
   "source": [
    "data1.info()"
   ]
  },
  {
   "cell_type": "code",
   "execution_count": 90,
   "metadata": {},
   "outputs": [],
   "source": [
    "data1['id']=data1['id'].astype(str)"
   ]
  },
  {
   "cell_type": "markdown",
   "metadata": {},
   "source": [
    "Ahora vamos a proceder a ver nuevamente mediante Missigno la gran limpieza de datos"
   ]
  },
  {
   "cell_type": "code",
   "execution_count": 16,
   "metadata": {},
   "outputs": [
    {
     "data": {
      "text/plain": [
       "<Axes: >"
      ]
     },
     "execution_count": 16,
     "metadata": {},
     "output_type": "execute_result"
    },
    {
     "data": {
      "image/png": "[encoded data removed]",
      "text/plain": [
       "<Figure size 2500x1000 with 2 Axes>"
      ]
     },
     "metadata": {},
     "output_type": "display_data"
    }
   ],
   "source": [
    "%matplotlib inline\n",
    "msno.matrix(data1)"
   ]
  },
  {
   "cell_type": "markdown",
   "metadata": {},
   "source": [
    "Ahora vamos a imputar para tener algo con que trabajar ya que por lo menos tenemos datos con que trabajar a comparación de la primera imagen que podríamos ver"
   ]
  },
  {
   "cell_type": "code",
   "execution_count": 91,
   "metadata": {},
   "outputs": [
    {
     "name": "stdout",
     "output_type": "stream",
     "text": [
      "La columna genres contiene listas. Limpiando...\n",
      "La columna tags contiene listas. Limpiando...\n",
      "La columna specs contiene listas. Limpiando...\n",
      "Después de limpiar:\n",
      "Columnas categóricas:               publisher                                       genres  \\\n",
      "88310         Kotoshiro      Action Casual Indie Simulation Strategy   \n",
      "88311  Making Fun, Inc.              Free to Play Indie RPG Strategy   \n",
      "88312      Poolians.com  Casual Free to Play Indie Simulation Sports   \n",
      "88313              彼岸领域                      Action Adventure Casual   \n",
      "88314                                                                  \n",
      "\n",
      "                      app_name                    title  \\\n",
      "88310      Lost Summoner Kitty      Lost Summoner Kitty   \n",
      "88311                Ironbound                Ironbound   \n",
      "88312  Real Pool 3D - Poolians  Real Pool 3D - Poolians   \n",
      "88313                  弹炸人2222                  弹炸人2222   \n",
      "88314            Log Challenge                            \n",
      "\n",
      "                                                     url release_date  \\\n",
      "88310  http://store.steampowered.com/app/761140/Lost_...   2018-01-04   \n",
      "88311  http://store.steampowered.com/app/643980/Ironb...   2018-01-04   \n",
      "88312  http://store.steampowered.com/app/670290/Real_...   2017-07-24   \n",
      "88313     http://store.steampowered.com/app/767400/2222/   2017-12-07   \n",
      "88314  http://store.steampowered.com/app/773570/Log_C...                \n",
      "\n",
      "                                                    tags  \\\n",
      "88310            Strategy Action Indie Casual Simulation   \n",
      "88311  Free to Play Strategy Indie RPG Card Game Trad...   \n",
      "88312  Free to Play Simulation Sports Casual Indie Mu...   \n",
      "88313                            Action Adventure Casual   \n",
      "88314                         Action Indie Casual Sports   \n",
      "\n",
      "                                             reviews_url  \\\n",
      "88310  http://steamcommunity.com/app/761140/reviews/?...   \n",
      "88311  http://steamcommunity.com/app/643980/reviews/?...   \n",
      "88312  http://steamcommunity.com/app/670290/reviews/?...   \n",
      "88313  http://steamcommunity.com/app/767400/reviews/?...   \n",
      "88314  http://steamcommunity.com/app/773570/reviews/?...   \n",
      "\n",
      "                                                   specs         price  \\\n",
      "88310                                      Single-player          4.99   \n",
      "88311  Single-player Multi-player Online Multi-Player...  Free To Play   \n",
      "88312  Single-player Multi-player Online Multi-Player...  Free to Play   \n",
      "88313                                      Single-player          0.99   \n",
      "88314  Single-player Full controller support HTC Vive...          2.99   \n",
      "\n",
      "             id         developer  \n",
      "88310  761140.0         Kotoshiro  \n",
      "88311  643980.0  Secret Level SRL  \n",
      "88312  670290.0      Poolians.com  \n",
      "88313  767400.0              彼岸领域  \n",
      "88314  773570.0                    \n",
      "Columnas numéricas:        early_access\n",
      "88310           0.0\n",
      "88311           0.0\n",
      "88312           0.0\n",
      "88313           0.0\n",
      "88314           0.0\n",
      "<class 'pandas.core.frame.DataFrame'>\n",
      "Index: 32135 entries, 88310 to 120444\n",
      "Data columns (total 13 columns):\n",
      " #   Column        Non-Null Count  Dtype  \n",
      "---  ------        --------------  -----  \n",
      " 0   publisher     32135 non-null  object \n",
      " 1   genres        32135 non-null  object \n",
      " 2   app_name      32135 non-null  object \n",
      " 3   title         32135 non-null  object \n",
      " 4   url           32135 non-null  object \n",
      " 5   release_date  32135 non-null  object \n",
      " 6   tags          32135 non-null  object \n",
      " 7   reviews_url   32135 non-null  object \n",
      " 8   specs         32135 non-null  object \n",
      " 9   price         32135 non-null  object \n",
      " 10  early_access  32135 non-null  float64\n",
      " 11  id            32135 non-null  object \n",
      " 12  developer     32135 non-null  object \n",
      "dtypes: float64(1), object(12)\n",
      "memory usage: 3.4+ MB\n"
     ]
    }
   ],
   "source": [
    "from sklearn.impute import SimpleImputer\n",
    "\n",
    "\n",
    "# Identificar columnas numéricas y categóricas\n",
    "columnas_numericas = data1.select_dtypes(include=['float64']).columns\n",
    "columnas_object = data1.select_dtypes(include=['object']).columns\n",
    "\n",
    "# Limpiar celdas que contienen listas en columnas categóricas\n",
    "#Esto lo hice porque a la hora de realizarlo me daba errores de que devolvían listas.\n",
    "for col in columnas_object:\n",
    "    if data1[col].apply(lambda x: isinstance(x, list)).any():\n",
    "        print(f\"La columna {col} contiene listas. Limpiando...\")\n",
    "        data1[col] = data1[col].apply(lambda x: ' '.join(x) if isinstance(x, list) else x)\n",
    "\n",
    "# Limpiar valores 'None' en columnas categóricas\n",
    "data1[columnas_object] = data1[columnas_object].fillna('')\n",
    "\n",
    "# Limpiar celdas que contienen listas en columnas numéricas\n",
    "#Esto lo hice porque a la hora de realizarlo me daba errores de que devolvían listas.\n",
    "for col in columnas_numericas:\n",
    "    if data1[col].apply(lambda x: isinstance(x, list)).any():\n",
    "        print(f\"La columna {col} contiene listas. Limpiando...\")\n",
    "        data1[col] = data1[col].apply(lambda x: sum(x) if isinstance(x, list) else x)\n",
    "\n",
    "# Verificar que las columnas están limpias\n",
    "print(\"Después de limpiar:\")\n",
    "print(\"Columnas categóricas:\", data1[columnas_object].head())\n",
    "print(\"Columnas numéricas:\", data1[columnas_numericas].head())\n",
    "\n",
    "# Imputador para columnas numéricas (usaremos la media como ejemplo)\n",
    "imputador_numerico = SimpleImputer(strategy='mean')\n",
    "\n",
    "# Imputador para columnas categóricas (usaremos la moda como ejemplo)\n",
    "imputador_categorico = SimpleImputer(strategy='most_frequent')\n",
    "\n",
    "# Aplicar imputación a las columnas numéricas\n",
    "data1[columnas_numericas] = imputador_numerico.fit_transform(data1[columnas_numericas])\n",
    "\n",
    "# Aplicar imputación a las columnas categóricas\n",
    "data1[columnas_object] = imputador_categorico.fit_transform(data1[columnas_object])\n",
    "\n",
    "# Verificar resultados\n",
    "data1.info()\n"
   ]
  },
  {
   "cell_type": "markdown",
   "metadata": {},
   "source": [
    "Una vez que ya está imputado. Lo que vamos a hacer es limpiar todos los datos duplicados que pueden llegar a estar presente en el dataset. De paso vanos a ordenar un poco mejor nuestro dataset."
   ]
  },
  {
   "cell_type": "code",
   "execution_count": 92,
   "metadata": {},
   "outputs": [],
   "source": [
    "column_order = [\"id\", \"publisher\", \"genres\", \"app_name\", \"release_date\", \"price\", \"early_access\", \"developer\"]\n",
    "df_juegos = data1[column_order]"
   ]
  },
  {
   "cell_type": "code",
   "execution_count": 93,
   "metadata": {},
   "outputs": [
    {
     "name": "stdout",
     "output_type": "stream",
     "text": [
      "filas con duplicados\n"
     ]
    },
    {
     "data": {
      "text/html": [
       "<div>\n",
       "<style scoped>\n",
       "    .dataframe tbody tr th:only-of-type {\n",
       "        vertical-align: middle;\n",
       "    }\n",
       "\n",
       "    .dataframe tbody tr th {\n",
       "        vertical-align: top;\n",
       "    }\n",
       "\n",
       "    .dataframe thead th {\n",
       "        text-align: right;\n",
       "    }\n",
       "</style>\n",
       "<table border=\"1\" class=\"dataframe\">\n",
       "  <thead>\n",
       "    <tr style=\"text-align: right;\">\n",
       "      <th></th>\n",
       "      <th>id</th>\n",
       "      <th>publisher</th>\n",
       "      <th>genres</th>\n",
       "      <th>app_name</th>\n",
       "      <th>release_date</th>\n",
       "      <th>price</th>\n",
       "      <th>early_access</th>\n",
       "      <th>developer</th>\n",
       "    </tr>\n",
       "  </thead>\n",
       "  <tbody>\n",
       "    <tr>\n",
       "      <th>88384</th>\n",
       "      <td>nan</td>\n",
       "      <td></td>\n",
       "      <td></td>\n",
       "      <td></td>\n",
       "      <td></td>\n",
       "      <td>19.99</td>\n",
       "      <td>0.0</td>\n",
       "      <td></td>\n",
       "    </tr>\n",
       "    <tr>\n",
       "      <th>102204</th>\n",
       "      <td>612880.0</td>\n",
       "      <td>Bethesda Softworks</td>\n",
       "      <td>Action</td>\n",
       "      <td>Wolfenstein II: The New Colossus</td>\n",
       "      <td>2017-10-26</td>\n",
       "      <td>59.99</td>\n",
       "      <td>0.0</td>\n",
       "      <td>Machine Games</td>\n",
       "    </tr>\n",
       "    <tr>\n",
       "      <th>102883</th>\n",
       "      <td>612880.0</td>\n",
       "      <td>Bethesda Softworks</td>\n",
       "      <td>Action</td>\n",
       "      <td>Wolfenstein II: The New Colossus</td>\n",
       "      <td>2017-10-26</td>\n",
       "      <td>59.99</td>\n",
       "      <td>0.0</td>\n",
       "      <td>Machine Games</td>\n",
       "    </tr>\n",
       "    <tr>\n",
       "      <th>119271</th>\n",
       "      <td>nan</td>\n",
       "      <td>Warner Bros. Interactive Entertainment, Feral ...</td>\n",
       "      <td>Action Adventure</td>\n",
       "      <td>Batman: Arkham City - Game of the Year Edition</td>\n",
       "      <td>2012-09-07</td>\n",
       "      <td>19.99</td>\n",
       "      <td>0.0</td>\n",
       "      <td>Rocksteady Studios,Feral Interactive (Mac)</td>\n",
       "    </tr>\n",
       "  </tbody>\n",
       "</table>\n",
       "</div>"
      ],
      "text/plain": [
       "              id                                          publisher  \\\n",
       "88384        nan                                                      \n",
       "102204  612880.0                                 Bethesda Softworks   \n",
       "102883  612880.0                                 Bethesda Softworks   \n",
       "119271       nan  Warner Bros. Interactive Entertainment, Feral ...   \n",
       "\n",
       "                  genres                                        app_name  \\\n",
       "88384                                                                      \n",
       "102204            Action                Wolfenstein II: The New Colossus   \n",
       "102883            Action                Wolfenstein II: The New Colossus   \n",
       "119271  Action Adventure  Batman: Arkham City - Game of the Year Edition   \n",
       "\n",
       "       release_date  price  early_access  \\\n",
       "88384                19.99           0.0   \n",
       "102204   2017-10-26  59.99           0.0   \n",
       "102883   2017-10-26  59.99           0.0   \n",
       "119271   2012-09-07  19.99           0.0   \n",
       "\n",
       "                                         developer  \n",
       "88384                                               \n",
       "102204                               Machine Games  \n",
       "102883                               Machine Games  \n",
       "119271  Rocksteady Studios,Feral Interactive (Mac)  "
      ]
     },
     "execution_count": 93,
     "metadata": {},
     "output_type": "execute_result"
    }
   ],
   "source": [
    "duplicados = (lambda df,columna: df[df.duplicated(subset=columna,keep=False)])(df_juegos,'id')\n",
    "\n",
    "print('filas con duplicados')\n",
    "duplicados"
   ]
  },
  {
   "cell_type": "markdown",
   "metadata": {},
   "source": [
    "Ahora que ya están a la vista los duplicados vamos a proceder a eliminarlos"
   ]
  },
  {
   "cell_type": "code",
   "execution_count": 94,
   "metadata": {},
   "outputs": [],
   "source": [
    "df_juegos=df_juegos.drop([88384,102883])"
   ]
  },
  {
   "cell_type": "markdown",
   "metadata": {},
   "source": [
    "Para una última corroboración vamos a demostrar que ya no existen más los nulos"
   ]
  },
  {
   "cell_type": "code",
   "execution_count": 96,
   "metadata": {},
   "outputs": [
    {
     "name": "stdout",
     "output_type": "stream",
     "text": [
      "filas con duplicados\n"
     ]
    },
    {
     "data": {
      "text/html": [
       "<div>\n",
       "<style scoped>\n",
       "    .dataframe tbody tr th:only-of-type {\n",
       "        vertical-align: middle;\n",
       "    }\n",
       "\n",
       "    .dataframe tbody tr th {\n",
       "        vertical-align: top;\n",
       "    }\n",
       "\n",
       "    .dataframe thead th {\n",
       "        text-align: right;\n",
       "    }\n",
       "</style>\n",
       "<table border=\"1\" class=\"dataframe\">\n",
       "  <thead>\n",
       "    <tr style=\"text-align: right;\">\n",
       "      <th></th>\n",
       "      <th>id</th>\n",
       "      <th>publisher</th>\n",
       "      <th>genres</th>\n",
       "      <th>app_name</th>\n",
       "      <th>release_date</th>\n",
       "      <th>price</th>\n",
       "      <th>early_access</th>\n",
       "      <th>developer</th>\n",
       "    </tr>\n",
       "  </thead>\n",
       "  <tbody>\n",
       "  </tbody>\n",
       "</table>\n",
       "</div>"
      ],
      "text/plain": [
       "Empty DataFrame\n",
       "Columns: [id, publisher, genres, app_name, release_date, price, early_access, developer]\n",
       "Index: []"
      ]
     },
     "execution_count": 96,
     "metadata": {},
     "output_type": "execute_result"
    }
   ],
   "source": [
    "duplicados = (lambda df,columna: df[df.duplicated(subset=columna,keep=False)])(df_juegos,'id')\n",
    "\n",
    "print('filas con duplicados')\n",
    "duplicados"
   ]
  },
  {
   "cell_type": "markdown",
   "metadata": {},
   "source": [
    "Ahora vamos a tratar con una columna que es complicada que es 'release_date' ya que no tiene formato de datetime y hay que transformalos para extraer su año de lanzamiento"
   ]
  },
  {
   "cell_type": "code",
   "execution_count": 97,
   "metadata": {},
   "outputs": [],
   "source": [
    "#A partir de la columna 'release_date' lo estamos parseando con pd.to_datetime\n",
    "df_juegos['anio_lanzamiento']=pd.to_datetime(df_juegos['release_date'],errors='coerce',format='%Y-%m-%d')\n",
    "\n"
   ]
  },
  {
   "cell_type": "markdown",
   "metadata": {},
   "source": [
    "Ahora como una miniprueba vamos a ver la columna de anio_lanzamiento"
   ]
  },
  {
   "cell_type": "code",
   "execution_count": 98,
   "metadata": {},
   "outputs": [
    {
     "data": {
      "text/plain": [
       "88310    2018-01-04\n",
       "88311    2018-01-04\n",
       "88312    2017-07-24\n",
       "88313    2017-12-07\n",
       "88314           NaT\n",
       "            ...    \n",
       "120440   2018-01-04\n",
       "120441   2018-01-04\n",
       "120442   2018-01-04\n",
       "120443   2017-09-02\n",
       "120444          NaT\n",
       "Name: anio_lanzamiento, Length: 32133, dtype: datetime64[ns]"
      ]
     },
     "execution_count": 98,
     "metadata": {},
     "output_type": "execute_result"
    }
   ],
   "source": [
    "df_juegos['anio_lanzamiento']"
   ]
  },
  {
   "cell_type": "markdown",
   "metadata": {},
   "source": [
    "Como podemos observar, hay datos que no se transformaron de la manera correcta (sumado a que todavía no hemos extraido del todo el año)"
   ]
  },
  {
   "cell_type": "code",
   "execution_count": 99,
   "metadata": {},
   "outputs": [
    {
     "name": "stdout",
     "output_type": "stream",
     "text": [
      "Fechas no convertidas\n",
      "['' 'Soon..' '2017' 'Beta测试已开启' 'Jun 2009' 'Oct 2010' 'Feb 2011'\n",
      " 'Aug 2014' 'Sep 2014' 'Apr 2015' 'Apr 2016' 'Jul 2016' 'June 2016'\n",
      " 'Coming Soon' 'Q2 2017' 'TBA' \"When it's done\" 'coming soon' 'Q2 2018'\n",
      " '2018' 'Winter 2017' 'soon' 'Mar 2018' '14 July' 'Jul 2017' 'Summer 2017'\n",
      " 'Spring 2018' 'Winter 2018' 'To be Announced' 'October 2017' 'TBD'\n",
      " 'Fall 2017' 'Nov 2017' 'Q1 2018' 'Dec 2017' 'Январь 2018' 'Soon'\n",
      " 'First quarter of 2018' 'H2 2018' '21 Jun, 2017' '2018年初頭発売予定'\n",
      " 'Please wait warmly' 'early access' 'SOON' 'Feb 2018'\n",
      " 'Coming Soon/Próximamente' 'August 2017' '2018 [Now get free Pre Alpha]'\n",
      " '1st Quarter 2018' 'Jan 2018' '预热群52756441' '2018年1月' 'Coming soon'\n",
      " 'Fall 2018'\n",
      " '0̵1̴0̵0̶1̷0̶0̵0̴ ̴0̶0̶1̶1̶0̷0̶1̵1̴ ̸0̶0̶1̶1̵0̶1̷0̴0̵ ̴0̶1̷0̸1̵0̷0̴1̶0̴ ̴0̷0̴1̷1̶0̶1̵1̷1̵ ̵'\n",
      " '\"\"\"Soon\"\"\"' 'Spring 2017' 'Demo coming soon.' 'Coming 2017'\n",
      " 'Not yet available' \"C'est bientôt...                    (ou pas)\"\n",
      " 'January 2019' 'Q4 2017' 'Early 2018'\n",
      " 'Datachunks conflicted. Be vigiliant.' 'Q2 2018 (Tentative)'\n",
      " 'Demo is available now!' 'Oct 2017' 'Play Beta in demo!' '2017 Q4'\n",
      " 'August 2018' 'Coming Soon!' 'Early Spring 2018' 'TBA 2017'\n",
      " 'To be announced' 'When it is finished' 'Aug 2017' 'Release Date TBA'\n",
      " 'Coming Q1 2018' 'When it is ready' 'Early Access Starting Soon!'\n",
      " 'December 2017' 'Comming Soon' 'Early Access soon' 'To Be Announced'\n",
      " 'Apr 2017' 'Coming Q3 2017' 'Coming soon..' 'Early 2017' 'End 2017'\n",
      " '2017 Q1' 'Q1 2017' 'Jan 2017' 'January 2017' \"When it's done (2017)\"\n",
      " 'Q1 (ish), 2017' 'Nov 2016' 'Oct 2016' 'Soon™' 'Jun 2016' 'Aug 2015'\n",
      " \"When it's done!\" 'Jun 2015' 'May 2015' 'Feb 2015' 'Jan 2015' 'Nov 2014'\n",
      " 'Jul 2014' 'May 2014' 'Feb 2013' 'Dec 2012' 'Jul 2010' 'Mar 2010'\n",
      " 'Jan 2010' 'Oct 2009' 'Sep 2009' 'Late 2016 - Early 2017'\n",
      " 'Coming Fall 2017' 'Coming late 2017' 'Hitting Early Access in 2017'\n",
      " 'SOON™' '2018 early' '15.01.2018' 'Q1, 2018' '2016' 'January 2018']\n"
     ]
    }
   ],
   "source": [
    "#Obtenemos las fechas que no se pueden convertir por el momento\n",
    "fechas_no_convertidas=df_juegos[df_juegos['anio_lanzamiento'].isna()]['release_date'].unique()\n",
    "\n",
    "#Mostramos los que no están convertidos aún\n",
    "print(\"Fechas no convertidas\")\n",
    "print(fechas_no_convertidas)\n"
   ]
  },
  {
   "cell_type": "markdown",
   "metadata": {},
   "source": [
    "Como se puede observar todavía hay valores que no están convertidos. Vamos a crear una especie de función Regex para convertir esas fechas"
   ]
  },
  {
   "cell_type": "code",
   "execution_count": 100,
   "metadata": {},
   "outputs": [],
   "source": [
    "#Esta va a ser nuestra función \"Regex\"\n",
    "import re\n",
    "def formato(data):\n",
    "    formula=re.search(r'\\b(?:19|20)\\d{2}\\b', str(data))\n",
    "    if(formula):\n",
    "        anio=formula.group()\n",
    "        return f\"{anio}-01-01\"\n",
    "    else:\n",
    "        return None\n",
    "    \n",
    "    \n",
    "#Es hora de ver si se aplica correctamente la función\n",
    "\n",
    "df_juegos['anio_lanzamiento']=df_juegos['release_date'].apply(formato)    "
   ]
  },
  {
   "cell_type": "markdown",
   "metadata": {},
   "source": [
    "Ahora vamos a ver los valores unicos de la columna"
   ]
  },
  {
   "cell_type": "code",
   "execution_count": 101,
   "metadata": {},
   "outputs": [
    {
     "name": "stdout",
     "output_type": "stream",
     "text": [
      "['2018-01-01' '2017-01-01' None '1997-01-01' '1998-01-01' '2016-01-01'\n",
      " '2006-01-01' '2005-01-01' '2003-01-01' '2007-01-01' '2002-01-01'\n",
      " '2000-01-01' '1995-01-01' '1996-01-01' '1994-01-01' '2001-01-01'\n",
      " '1993-01-01' '2004-01-01' '1999-01-01' '2008-01-01' '2009-01-01'\n",
      " '1992-01-01' '1989-01-01' '2010-01-01' '2011-01-01' '2013-01-01'\n",
      " '2012-01-01' '2014-01-01' '1983-01-01' '1984-01-01' '2015-01-01'\n",
      " '1990-01-01' '1988-01-01' '1991-01-01' '1985-01-01' '1982-01-01'\n",
      " '1987-01-01' '1981-01-01' '1986-01-01' '2021-01-01' '2019-01-01'\n",
      " '1975-01-01' '1970-01-01' '1980-01-01']\n"
     ]
    }
   ],
   "source": [
    "fechas_unicas=df_juegos['anio_lanzamiento'].unique()\n",
    "print(fechas_unicas)"
   ]
  },
  {
   "cell_type": "markdown",
   "metadata": {},
   "source": [
    "Una vez hecho lo anterior podemos convertir lo que no tiene formato de fecha a valores perdidos y extraer el año para crear \"annio lanzamiento\". Eliminamos después la columna \"release_date\" ya que no nos va a ser útil después."
   ]
  },
  {
   "cell_type": "code",
   "execution_count": 102,
   "metadata": {},
   "outputs": [
    {
     "data": {
      "text/html": [
       "<div>\n",
       "<style scoped>\n",
       "    .dataframe tbody tr th:only-of-type {\n",
       "        vertical-align: middle;\n",
       "    }\n",
       "\n",
       "    .dataframe tbody tr th {\n",
       "        vertical-align: top;\n",
       "    }\n",
       "\n",
       "    .dataframe thead th {\n",
       "        text-align: right;\n",
       "    }\n",
       "</style>\n",
       "<table border=\"1\" class=\"dataframe\">\n",
       "  <thead>\n",
       "    <tr style=\"text-align: right;\">\n",
       "      <th></th>\n",
       "      <th>id</th>\n",
       "      <th>publisher</th>\n",
       "      <th>genres</th>\n",
       "      <th>app_name</th>\n",
       "      <th>price</th>\n",
       "      <th>early_access</th>\n",
       "      <th>developer</th>\n",
       "      <th>anio</th>\n",
       "    </tr>\n",
       "  </thead>\n",
       "  <tbody>\n",
       "    <tr>\n",
       "      <th>88310</th>\n",
       "      <td>761140.0</td>\n",
       "      <td>Kotoshiro</td>\n",
       "      <td>Action Casual Indie Simulation Strategy</td>\n",
       "      <td>Lost Summoner Kitty</td>\n",
       "      <td>4.99</td>\n",
       "      <td>0.0</td>\n",
       "      <td>Kotoshiro</td>\n",
       "      <td>2018.0</td>\n",
       "    </tr>\n",
       "    <tr>\n",
       "      <th>88311</th>\n",
       "      <td>643980.0</td>\n",
       "      <td>Making Fun, Inc.</td>\n",
       "      <td>Free to Play Indie RPG Strategy</td>\n",
       "      <td>Ironbound</td>\n",
       "      <td>Free To Play</td>\n",
       "      <td>0.0</td>\n",
       "      <td>Secret Level SRL</td>\n",
       "      <td>2018.0</td>\n",
       "    </tr>\n",
       "    <tr>\n",
       "      <th>88312</th>\n",
       "      <td>670290.0</td>\n",
       "      <td>Poolians.com</td>\n",
       "      <td>Casual Free to Play Indie Simulation Sports</td>\n",
       "      <td>Real Pool 3D - Poolians</td>\n",
       "      <td>Free to Play</td>\n",
       "      <td>0.0</td>\n",
       "      <td>Poolians.com</td>\n",
       "      <td>2017.0</td>\n",
       "    </tr>\n",
       "    <tr>\n",
       "      <th>88313</th>\n",
       "      <td>767400.0</td>\n",
       "      <td>彼岸领域</td>\n",
       "      <td>Action Adventure Casual</td>\n",
       "      <td>弹炸人2222</td>\n",
       "      <td>0.99</td>\n",
       "      <td>0.0</td>\n",
       "      <td>彼岸领域</td>\n",
       "      <td>2017.0</td>\n",
       "    </tr>\n",
       "    <tr>\n",
       "      <th>88314</th>\n",
       "      <td>773570.0</td>\n",
       "      <td></td>\n",
       "      <td></td>\n",
       "      <td>Log Challenge</td>\n",
       "      <td>2.99</td>\n",
       "      <td>0.0</td>\n",
       "      <td></td>\n",
       "      <td>NaN</td>\n",
       "    </tr>\n",
       "    <tr>\n",
       "      <th>...</th>\n",
       "      <td>...</td>\n",
       "      <td>...</td>\n",
       "      <td>...</td>\n",
       "      <td>...</td>\n",
       "      <td>...</td>\n",
       "      <td>...</td>\n",
       "      <td>...</td>\n",
       "      <td>...</td>\n",
       "    </tr>\n",
       "    <tr>\n",
       "      <th>120440</th>\n",
       "      <td>773640.0</td>\n",
       "      <td>Ghost_RUS Games</td>\n",
       "      <td>Casual Indie Simulation Strategy</td>\n",
       "      <td>Colony On Mars</td>\n",
       "      <td>1.99</td>\n",
       "      <td>0.0</td>\n",
       "      <td>Nikita \"Ghost_RUS\"</td>\n",
       "      <td>2018.0</td>\n",
       "    </tr>\n",
       "    <tr>\n",
       "      <th>120441</th>\n",
       "      <td>733530.0</td>\n",
       "      <td>Sacada</td>\n",
       "      <td>Casual Indie Strategy</td>\n",
       "      <td>LOGistICAL: South Africa</td>\n",
       "      <td>4.99</td>\n",
       "      <td>0.0</td>\n",
       "      <td>Sacada</td>\n",
       "      <td>2018.0</td>\n",
       "    </tr>\n",
       "    <tr>\n",
       "      <th>120442</th>\n",
       "      <td>610660.0</td>\n",
       "      <td>Laush Studio</td>\n",
       "      <td>Indie Racing Simulation</td>\n",
       "      <td>Russian Roads</td>\n",
       "      <td>1.99</td>\n",
       "      <td>0.0</td>\n",
       "      <td>Laush Dmitriy Sergeevich</td>\n",
       "      <td>2018.0</td>\n",
       "    </tr>\n",
       "    <tr>\n",
       "      <th>120443</th>\n",
       "      <td>658870.0</td>\n",
       "      <td>SIXNAILS</td>\n",
       "      <td>Casual Indie</td>\n",
       "      <td>EXIT 2 - Directions</td>\n",
       "      <td>4.99</td>\n",
       "      <td>0.0</td>\n",
       "      <td>xropi,stev3ns</td>\n",
       "      <td>2017.0</td>\n",
       "    </tr>\n",
       "    <tr>\n",
       "      <th>120444</th>\n",
       "      <td>681550.0</td>\n",
       "      <td></td>\n",
       "      <td></td>\n",
       "      <td>Maze Run VR</td>\n",
       "      <td>4.99</td>\n",
       "      <td>1.0</td>\n",
       "      <td></td>\n",
       "      <td>NaN</td>\n",
       "    </tr>\n",
       "  </tbody>\n",
       "</table>\n",
       "<p>32133 rows × 8 columns</p>\n",
       "</div>"
      ],
      "text/plain": [
       "              id         publisher  \\\n",
       "88310   761140.0         Kotoshiro   \n",
       "88311   643980.0  Making Fun, Inc.   \n",
       "88312   670290.0      Poolians.com   \n",
       "88313   767400.0              彼岸领域   \n",
       "88314   773570.0                     \n",
       "...          ...               ...   \n",
       "120440  773640.0   Ghost_RUS Games   \n",
       "120441  733530.0            Sacada   \n",
       "120442  610660.0      Laush Studio   \n",
       "120443  658870.0          SIXNAILS   \n",
       "120444  681550.0                     \n",
       "\n",
       "                                             genres                  app_name  \\\n",
       "88310       Action Casual Indie Simulation Strategy       Lost Summoner Kitty   \n",
       "88311               Free to Play Indie RPG Strategy                 Ironbound   \n",
       "88312   Casual Free to Play Indie Simulation Sports   Real Pool 3D - Poolians   \n",
       "88313                       Action Adventure Casual                   弹炸人2222   \n",
       "88314                                                           Log Challenge   \n",
       "...                                             ...                       ...   \n",
       "120440             Casual Indie Simulation Strategy            Colony On Mars   \n",
       "120441                        Casual Indie Strategy  LOGistICAL: South Africa   \n",
       "120442                      Indie Racing Simulation             Russian Roads   \n",
       "120443                                 Casual Indie       EXIT 2 - Directions   \n",
       "120444                                                            Maze Run VR   \n",
       "\n",
       "               price  early_access                 developer    anio  \n",
       "88310           4.99           0.0                 Kotoshiro  2018.0  \n",
       "88311   Free To Play           0.0          Secret Level SRL  2018.0  \n",
       "88312   Free to Play           0.0              Poolians.com  2017.0  \n",
       "88313           0.99           0.0                      彼岸领域  2017.0  \n",
       "88314           2.99           0.0                               NaN  \n",
       "...              ...           ...                       ...     ...  \n",
       "120440          1.99           0.0        Nikita \"Ghost_RUS\"  2018.0  \n",
       "120441          4.99           0.0                    Sacada  2018.0  \n",
       "120442          1.99           0.0  Laush Dmitriy Sergeevich  2018.0  \n",
       "120443          4.99           0.0             xropi,stev3ns  2017.0  \n",
       "120444          4.99           1.0                               NaN  \n",
       "\n",
       "[32133 rows x 8 columns]"
      ]
     },
     "execution_count": 102,
     "metadata": {},
     "output_type": "execute_result"
    }
   ],
   "source": [
    "#Vamos a reparsear nuestra columna como hicimos anteriormente\n",
    "df_juegos['anio_lanzamiento']=pd.to_datetime(df_juegos['anio_lanzamiento'],errors='coerce')\n",
    "\n",
    "#Ahora vamos a crear la columna anio con los años extraidos solamente\n",
    "df_juegos['anio']= df_juegos['anio_lanzamiento'].dt.year\n",
    "\n",
    "#Ahora vamos a eliminar la columna 'release_date' y 'anio_lanzamiento' \n",
    "#ya que no nos sirven más\n",
    "df_juegos=df_juegos.drop(['release_date','anio_lanzamiento'],axis=1)\n",
    "df_juegos"
   ]
  },
  {
   "cell_type": "markdown",
   "metadata": {},
   "source": [
    "Ahora vamos a parsear de float a int los años"
   ]
  },
  {
   "cell_type": "code",
   "execution_count": 103,
   "metadata": {},
   "outputs": [
    {
     "data": {
      "text/plain": [
       "88310     2018\n",
       "88311     2018\n",
       "88312     2017\n",
       "88313     2017\n",
       "88314     <NA>\n",
       "          ... \n",
       "120440    2018\n",
       "120441    2018\n",
       "120442    2018\n",
       "120443    2017\n",
       "120444    <NA>\n",
       "Name: anio, Length: 32133, dtype: Int64"
      ]
     },
     "execution_count": 103,
     "metadata": {},
     "output_type": "execute_result"
    }
   ],
   "source": [
    "df_juegos['anio']= pd.to_numeric(df_juegos['anio'],errors='coerce').astype('Int64')\n",
    "\n",
    "df_juegos['anio']\n"
   ]
  },
  {
   "cell_type": "markdown",
   "metadata": {},
   "source": [
    "Ahora vamos a ver la columna price para ver que podemos tratar"
   ]
  },
  {
   "cell_type": "code",
   "execution_count": 104,
   "metadata": {},
   "outputs": [
    {
     "data": {
      "text/plain": [
       "array([4.99, 'Free To Play', 'Free to Play', 0.99, 2.99, 3.99, 9.99,\n",
       "       18.99, 29.99, '', 'Free', 10.99, 1.5899999999999999, 14.99, 1.99,\n",
       "       59.99, 8.99, 6.99, 7.99, 39.99, 19.99, 7.49, 12.99, 5.99, 2.49,\n",
       "       15.99, 1.25, 24.99, 17.99, 61.99, 3.49, 11.99, 13.99, 'Free Demo',\n",
       "       'Play for Free!', 34.99, 74.76, 1.49, 32.99, 99.99, 14.95, 69.99,\n",
       "       16.99, 79.99, 49.99, 5.0, 44.99, 13.98, 29.96, 119.99, 109.99,\n",
       "       149.99, 771.71, 'Install Now', 21.99, 89.99,\n",
       "       'Play WARMACHINE: Tactics Demo', 0.98, 139.92, 4.29, 64.99,\n",
       "       'Free Mod', 54.99, 74.99, 'Install Theme', 0.89, 'Third-party',\n",
       "       0.5, 'Play Now', 299.99, 1.29, 3.0, 15.0, 5.49, 23.99, 49.0, 20.99,\n",
       "       10.93, 1.3900000000000001, 'Free HITMAN™ Holiday Pack', 36.99,\n",
       "       4.49, 2.0, 4.0, 9.0, 234.99, 1.9500000000000002, 1.5, 199.0, 189.0,\n",
       "       6.66, 27.99, 10.49, 129.99, 179.0, 26.99, 399.99, 31.99, 399.0,\n",
       "       20.0, 40.0, 3.33, 199.99, 22.99, 320.0, 38.85, 71.7, 59.95, 995.0,\n",
       "       27.49, 3.39, 6.0, 19.95, 499.99, 16.06, 4.68, 131.4, 44.98, 202.76,\n",
       "       1.0, 2.3, 0.9500000000000001, 172.24, 249.99, 2.9699999999999998,\n",
       "       10.96, 10.0, 30.0, 2.66, 6.48, 19.29, 11.15, 18.9, 2.89,\n",
       "       'Play the Demo', 99.0, 87.94, 599.0, 8.98, 9.69, 0.49, 9.98, 9.95,\n",
       "       7.0, 'Starting at $499.00', 'Starting at $449.00', 12.89, 6.49,\n",
       "       1.87, 42.99, 41.99, 289.99, 'Free to Try', 23.96, 5.65, 12.0,\n",
       "       13.37, 189.96, 124.99, 'Free Movie', 19.98, 160.91, 'Free to Use'],\n",
       "      dtype=object)"
      ]
     },
     "execution_count": 104,
     "metadata": {},
     "output_type": "execute_result"
    }
   ],
   "source": [
    "df_juegos['price'].unique()"
   ]
  },
  {
   "cell_type": "markdown",
   "metadata": {},
   "source": [
    "Podemos ver desde precios normales hasta valores como \"Free To play\",\"Play Demo\",\"Free to Use\",etc. Lo que vamos a hacer es normalizarlo y poner en 0 a esos valores"
   ]
  },
  {
   "cell_type": "code",
   "execution_count": 105,
   "metadata": {},
   "outputs": [
    {
     "data": {
      "text/plain": [
       "88310     4.99\n",
       "88311     0.00\n",
       "88312     0.00\n",
       "88313     0.99\n",
       "88314     2.99\n",
       "          ... \n",
       "120440    1.99\n",
       "120441    4.99\n",
       "120442    1.99\n",
       "120443    4.99\n",
       "120444    4.99\n",
       "Name: price, Length: 32133, dtype: float64"
      ]
     },
     "execution_count": 105,
     "metadata": {},
     "output_type": "execute_result"
    }
   ],
   "source": [
    "#Convertimos los valores que podemos identificar como precio de partida\n",
    "df_juegos[\"price\"] = df_juegos[\"price\"].replace(\"Starting at $499.00\", 499.00)\n",
    "\n",
    "#Ahora vamos a convertir la columna en una columna numerica\n",
    "df_juegos['price'] = pd.to_numeric(df_juegos['price'],errors='coerce').fillna(0)\n",
    "\n",
    "df_juegos['price']"
   ]
  },
  {
   "cell_type": "markdown",
   "metadata": {},
   "source": [
    "Ahora vamos a ver la columna developer que es más que nada hacer una función regex"
   ]
  },
  {
   "cell_type": "code",
   "execution_count": 106,
   "metadata": {},
   "outputs": [
    {
     "data": {
      "text/plain": [
       "array(['Kotoshiro', 'Secret Level SRL', 'Poolians.com', ...,\n",
       "       'Oscar Ortigueira López,OrtiGames/OrtiSoft', 'INGAME',\n",
       "       'Bidoniera Games'], dtype=object)"
      ]
     },
     "execution_count": 106,
     "metadata": {},
     "output_type": "execute_result"
    }
   ],
   "source": [
    "df_juegos['developer'].unique()"
   ]
  },
  {
   "cell_type": "code",
   "execution_count": 107,
   "metadata": {},
   "outputs": [],
   "source": [
    "df_juegos[\"developer\"] = df_juegos[\"developer\"].apply(lambda name: re.sub(r\"\\s+\", \" \", re.sub(r\"[^a-zA-Z\\s]\", \"\", name.lower().strip())) if isinstance(name, str) else name)"
   ]
  },
  {
   "cell_type": "markdown",
   "metadata": {},
   "source": [
    "Necesitamos desanidar la columna genres porque hay una lista dentro de esa columna"
   ]
  },
  {
   "cell_type": "markdown",
   "metadata": {},
   "source": [
    "El método explode() de pandas se utiliza para transformar una columna de listas en varias filas, duplicando las otras columnas de forma que cada elemento de la lista ocupe una fila distinta. Este método es particularmente útil cuando tienes columnas con listas y deseas \"aplanar\" esos datos para facilitar su análisis."
   ]
  },
  {
   "cell_type": "code",
   "execution_count": 108,
   "metadata": {},
   "outputs": [
    {
     "data": {
      "text/html": [
       "<div>\n",
       "<style scoped>\n",
       "    .dataframe tbody tr th:only-of-type {\n",
       "        vertical-align: middle;\n",
       "    }\n",
       "\n",
       "    .dataframe tbody tr th {\n",
       "        vertical-align: top;\n",
       "    }\n",
       "\n",
       "    .dataframe thead th {\n",
       "        text-align: right;\n",
       "    }\n",
       "</style>\n",
       "<table border=\"1\" class=\"dataframe\">\n",
       "  <thead>\n",
       "    <tr style=\"text-align: right;\">\n",
       "      <th></th>\n",
       "      <th>id</th>\n",
       "      <th>publisher</th>\n",
       "      <th>genres</th>\n",
       "      <th>app_name</th>\n",
       "      <th>price</th>\n",
       "      <th>early_access</th>\n",
       "      <th>developer</th>\n",
       "      <th>anio</th>\n",
       "    </tr>\n",
       "  </thead>\n",
       "  <tbody>\n",
       "    <tr>\n",
       "      <th>88310</th>\n",
       "      <td>761140.0</td>\n",
       "      <td>Kotoshiro</td>\n",
       "      <td>Action Casual Indie Simulation Strategy</td>\n",
       "      <td>Lost Summoner Kitty</td>\n",
       "      <td>4.99</td>\n",
       "      <td>0.0</td>\n",
       "      <td>kotoshiro</td>\n",
       "      <td>2018</td>\n",
       "    </tr>\n",
       "    <tr>\n",
       "      <th>88311</th>\n",
       "      <td>643980.0</td>\n",
       "      <td>Making Fun, Inc.</td>\n",
       "      <td>Free to Play Indie RPG Strategy</td>\n",
       "      <td>Ironbound</td>\n",
       "      <td>0.00</td>\n",
       "      <td>0.0</td>\n",
       "      <td>secret level srl</td>\n",
       "      <td>2018</td>\n",
       "    </tr>\n",
       "    <tr>\n",
       "      <th>88312</th>\n",
       "      <td>670290.0</td>\n",
       "      <td>Poolians.com</td>\n",
       "      <td>Casual Free to Play Indie Simulation Sports</td>\n",
       "      <td>Real Pool 3D - Poolians</td>\n",
       "      <td>0.00</td>\n",
       "      <td>0.0</td>\n",
       "      <td>poolianscom</td>\n",
       "      <td>2017</td>\n",
       "    </tr>\n",
       "    <tr>\n",
       "      <th>88313</th>\n",
       "      <td>767400.0</td>\n",
       "      <td>彼岸领域</td>\n",
       "      <td>Action Adventure Casual</td>\n",
       "      <td>弹炸人2222</td>\n",
       "      <td>0.99</td>\n",
       "      <td>0.0</td>\n",
       "      <td></td>\n",
       "      <td>2017</td>\n",
       "    </tr>\n",
       "    <tr>\n",
       "      <th>88314</th>\n",
       "      <td>773570.0</td>\n",
       "      <td></td>\n",
       "      <td></td>\n",
       "      <td>Log Challenge</td>\n",
       "      <td>2.99</td>\n",
       "      <td>0.0</td>\n",
       "      <td></td>\n",
       "      <td>&lt;NA&gt;</td>\n",
       "    </tr>\n",
       "    <tr>\n",
       "      <th>...</th>\n",
       "      <td>...</td>\n",
       "      <td>...</td>\n",
       "      <td>...</td>\n",
       "      <td>...</td>\n",
       "      <td>...</td>\n",
       "      <td>...</td>\n",
       "      <td>...</td>\n",
       "      <td>...</td>\n",
       "    </tr>\n",
       "    <tr>\n",
       "      <th>120440</th>\n",
       "      <td>773640.0</td>\n",
       "      <td>Ghost_RUS Games</td>\n",
       "      <td>Casual Indie Simulation Strategy</td>\n",
       "      <td>Colony On Mars</td>\n",
       "      <td>1.99</td>\n",
       "      <td>0.0</td>\n",
       "      <td>nikita ghostrus</td>\n",
       "      <td>2018</td>\n",
       "    </tr>\n",
       "    <tr>\n",
       "      <th>120441</th>\n",
       "      <td>733530.0</td>\n",
       "      <td>Sacada</td>\n",
       "      <td>Casual Indie Strategy</td>\n",
       "      <td>LOGistICAL: South Africa</td>\n",
       "      <td>4.99</td>\n",
       "      <td>0.0</td>\n",
       "      <td>sacada</td>\n",
       "      <td>2018</td>\n",
       "    </tr>\n",
       "    <tr>\n",
       "      <th>120442</th>\n",
       "      <td>610660.0</td>\n",
       "      <td>Laush Studio</td>\n",
       "      <td>Indie Racing Simulation</td>\n",
       "      <td>Russian Roads</td>\n",
       "      <td>1.99</td>\n",
       "      <td>0.0</td>\n",
       "      <td>laush dmitriy sergeevich</td>\n",
       "      <td>2018</td>\n",
       "    </tr>\n",
       "    <tr>\n",
       "      <th>120443</th>\n",
       "      <td>658870.0</td>\n",
       "      <td>SIXNAILS</td>\n",
       "      <td>Casual Indie</td>\n",
       "      <td>EXIT 2 - Directions</td>\n",
       "      <td>4.99</td>\n",
       "      <td>0.0</td>\n",
       "      <td>xropistevns</td>\n",
       "      <td>2017</td>\n",
       "    </tr>\n",
       "    <tr>\n",
       "      <th>120444</th>\n",
       "      <td>681550.0</td>\n",
       "      <td></td>\n",
       "      <td></td>\n",
       "      <td>Maze Run VR</td>\n",
       "      <td>4.99</td>\n",
       "      <td>1.0</td>\n",
       "      <td></td>\n",
       "      <td>&lt;NA&gt;</td>\n",
       "    </tr>\n",
       "  </tbody>\n",
       "</table>\n",
       "<p>32133 rows × 8 columns</p>\n",
       "</div>"
      ],
      "text/plain": [
       "              id         publisher  \\\n",
       "88310   761140.0         Kotoshiro   \n",
       "88311   643980.0  Making Fun, Inc.   \n",
       "88312   670290.0      Poolians.com   \n",
       "88313   767400.0              彼岸领域   \n",
       "88314   773570.0                     \n",
       "...          ...               ...   \n",
       "120440  773640.0   Ghost_RUS Games   \n",
       "120441  733530.0            Sacada   \n",
       "120442  610660.0      Laush Studio   \n",
       "120443  658870.0          SIXNAILS   \n",
       "120444  681550.0                     \n",
       "\n",
       "                                             genres                  app_name  \\\n",
       "88310       Action Casual Indie Simulation Strategy       Lost Summoner Kitty   \n",
       "88311               Free to Play Indie RPG Strategy                 Ironbound   \n",
       "88312   Casual Free to Play Indie Simulation Sports   Real Pool 3D - Poolians   \n",
       "88313                       Action Adventure Casual                   弹炸人2222   \n",
       "88314                                                           Log Challenge   \n",
       "...                                             ...                       ...   \n",
       "120440             Casual Indie Simulation Strategy            Colony On Mars   \n",
       "120441                        Casual Indie Strategy  LOGistICAL: South Africa   \n",
       "120442                      Indie Racing Simulation             Russian Roads   \n",
       "120443                                 Casual Indie       EXIT 2 - Directions   \n",
       "120444                                                            Maze Run VR   \n",
       "\n",
       "        price  early_access                 developer  anio  \n",
       "88310    4.99           0.0                 kotoshiro  2018  \n",
       "88311    0.00           0.0          secret level srl  2018  \n",
       "88312    0.00           0.0               poolianscom  2017  \n",
       "88313    0.99           0.0                            2017  \n",
       "88314    2.99           0.0                            <NA>  \n",
       "...       ...           ...                       ...   ...  \n",
       "120440   1.99           0.0           nikita ghostrus  2018  \n",
       "120441   4.99           0.0                    sacada  2018  \n",
       "120442   1.99           0.0  laush dmitriy sergeevich  2018  \n",
       "120443   4.99           0.0               xropistevns  2017  \n",
       "120444   4.99           1.0                            <NA>  \n",
       "\n",
       "[32133 rows x 8 columns]"
      ]
     },
     "execution_count": 108,
     "metadata": {},
     "output_type": "execute_result"
    }
   ],
   "source": [
    "# \"desempaquetamos\" la columna\n",
    "df_juegos = df_juegos.explode(\"genres\")\n",
    "\n",
    "#tratamos sus respectivos valores perdidos\n",
    "df_juegos = df_juegos.dropna(subset=[\"genres\"])\n",
    "\n",
    "## visualizamos cómo quedó la columna\n",
    "df_juegos"
   ]
  },
  {
   "cell_type": "markdown",
   "metadata": {},
   "source": [
    "Ajustes finales sobre los formatos Nan\n"
   ]
  },
  {
   "cell_type": "code",
   "execution_count": 109,
   "metadata": {},
   "outputs": [
    {
     "name": "stdout",
     "output_type": "stream",
     "text": [
      "id              0.0\n",
      "publisher       0.0\n",
      "genres          0.0\n",
      "app_name        0.0\n",
      "price           0.0\n",
      "early_access    0.0\n",
      "developer       0.0\n",
      "anio            0.0\n",
      "dtype: float64\n"
     ]
    }
   ],
   "source": [
    "# Lista de columnas a procesar\n",
    "columnas_a_procesar = ['id', 'publisher', 'genres', 'app_name', 'developer', 'anio']\n",
    "# Convertir \"annio_lanzamiento\" a string\n",
    "df_juegos['anio'] = df_juegos['anio'].astype(str)\n",
    "\n",
    "# Reemplazar NaN, <NA>, y None con \"Sin dato\" en las columnas especificadas\n",
    "reemplazos = {\n",
    "    np.nan: 'Sin dato',\n",
    "    pd.NA: 'Sin dato',\n",
    "    None: 'Sin dato',\n",
    "}\n",
    "df_juegos[columnas_a_procesar] = df_juegos[columnas_a_procesar].replace(reemplazos)\n",
    "\n",
    "# Calcular el porcentaje de valores nulos\n",
    "porcentaje_nulos = df_juegos.isna().mean() * 100\n",
    "print(porcentaje_nulos)"
   ]
  },
  {
   "cell_type": "code",
   "execution_count": 110,
   "metadata": {},
   "outputs": [
    {
     "data": {
      "text/html": [
       "<div>\n",
       "<style scoped>\n",
       "    .dataframe tbody tr th:only-of-type {\n",
       "        vertical-align: middle;\n",
       "    }\n",
       "\n",
       "    .dataframe tbody tr th {\n",
       "        vertical-align: top;\n",
       "    }\n",
       "\n",
       "    .dataframe thead th {\n",
       "        text-align: right;\n",
       "    }\n",
       "</style>\n",
       "<table border=\"1\" class=\"dataframe\">\n",
       "  <thead>\n",
       "    <tr style=\"text-align: right;\">\n",
       "      <th></th>\n",
       "      <th>id</th>\n",
       "      <th>publisher</th>\n",
       "      <th>genres</th>\n",
       "      <th>app_name</th>\n",
       "      <th>price</th>\n",
       "      <th>early_access</th>\n",
       "      <th>developer</th>\n",
       "      <th>anio</th>\n",
       "    </tr>\n",
       "  </thead>\n",
       "  <tbody>\n",
       "    <tr>\n",
       "      <th>88313</th>\n",
       "      <td>767400.0</td>\n",
       "      <td>彼岸领域</td>\n",
       "      <td>Action Adventure Casual</td>\n",
       "      <td>弹炸人2222</td>\n",
       "      <td>0.99</td>\n",
       "      <td>0.0</td>\n",
       "      <td></td>\n",
       "      <td>2017</td>\n",
       "    </tr>\n",
       "    <tr>\n",
       "      <th>88314</th>\n",
       "      <td>773570.0</td>\n",
       "      <td></td>\n",
       "      <td></td>\n",
       "      <td>Log Challenge</td>\n",
       "      <td>2.99</td>\n",
       "      <td>0.0</td>\n",
       "      <td></td>\n",
       "      <td>&lt;NA&gt;</td>\n",
       "    </tr>\n",
       "    <tr>\n",
       "      <th>88316</th>\n",
       "      <td>774276.0</td>\n",
       "      <td></td>\n",
       "      <td>Free to Play Indie Simulation Sports</td>\n",
       "      <td>SNOW - All Access Basic Pass</td>\n",
       "      <td>9.99</td>\n",
       "      <td>0.0</td>\n",
       "      <td>poppermost productions</td>\n",
       "      <td>2018</td>\n",
       "    </tr>\n",
       "    <tr>\n",
       "      <th>88320</th>\n",
       "      <td>768570.0</td>\n",
       "      <td>Qucheza</td>\n",
       "      <td>Action Indie Simulation Early Access</td>\n",
       "      <td>Uncanny Islands</td>\n",
       "      <td>0.00</td>\n",
       "      <td>1.0</td>\n",
       "      <td>qucheza</td>\n",
       "      <td>&lt;NA&gt;</td>\n",
       "    </tr>\n",
       "    <tr>\n",
       "      <th>88321</th>\n",
       "      <td>724910.0</td>\n",
       "      <td></td>\n",
       "      <td></td>\n",
       "      <td>Icarus Six Sixty Six</td>\n",
       "      <td>0.00</td>\n",
       "      <td>0.0</td>\n",
       "      <td></td>\n",
       "      <td>&lt;NA&gt;</td>\n",
       "    </tr>\n",
       "    <tr>\n",
       "      <th>...</th>\n",
       "      <td>...</td>\n",
       "      <td>...</td>\n",
       "      <td>...</td>\n",
       "      <td>...</td>\n",
       "      <td>...</td>\n",
       "      <td>...</td>\n",
       "      <td>...</td>\n",
       "      <td>...</td>\n",
       "    </tr>\n",
       "    <tr>\n",
       "      <th>120428</th>\n",
       "      <td>775640.0</td>\n",
       "      <td></td>\n",
       "      <td></td>\n",
       "      <td>Robotpencil Presents: Exercise: Brushwork</td>\n",
       "      <td>3.99</td>\n",
       "      <td>0.0</td>\n",
       "      <td></td>\n",
       "      <td>2018</td>\n",
       "    </tr>\n",
       "    <tr>\n",
       "      <th>120429</th>\n",
       "      <td>777930.0</td>\n",
       "      <td></td>\n",
       "      <td></td>\n",
       "      <td>Robotpencil Presents: Creative Composition</td>\n",
       "      <td>3.99</td>\n",
       "      <td>0.0</td>\n",
       "      <td></td>\n",
       "      <td>2018</td>\n",
       "    </tr>\n",
       "    <tr>\n",
       "      <th>120430</th>\n",
       "      <td>775370.0</td>\n",
       "      <td></td>\n",
       "      <td></td>\n",
       "      <td>The Gamble House</td>\n",
       "      <td>4.99</td>\n",
       "      <td>0.0</td>\n",
       "      <td></td>\n",
       "      <td>2016</td>\n",
       "    </tr>\n",
       "    <tr>\n",
       "      <th>120431</th>\n",
       "      <td>777950.0</td>\n",
       "      <td></td>\n",
       "      <td></td>\n",
       "      <td>Kalen Chock Presents: 2017 Free Tutorial</td>\n",
       "      <td>0.00</td>\n",
       "      <td>0.0</td>\n",
       "      <td></td>\n",
       "      <td>2018</td>\n",
       "    </tr>\n",
       "    <tr>\n",
       "      <th>120444</th>\n",
       "      <td>681550.0</td>\n",
       "      <td></td>\n",
       "      <td></td>\n",
       "      <td>Maze Run VR</td>\n",
       "      <td>4.99</td>\n",
       "      <td>1.0</td>\n",
       "      <td></td>\n",
       "      <td>&lt;NA&gt;</td>\n",
       "    </tr>\n",
       "  </tbody>\n",
       "</table>\n",
       "<p>8419 rows × 8 columns</p>\n",
       "</div>"
      ],
      "text/plain": [
       "              id publisher                                genres  \\\n",
       "88313   767400.0      彼岸领域               Action Adventure Casual   \n",
       "88314   773570.0                                                   \n",
       "88316   774276.0            Free to Play Indie Simulation Sports   \n",
       "88320   768570.0   Qucheza  Action Indie Simulation Early Access   \n",
       "88321   724910.0                                                   \n",
       "...          ...       ...                                   ...   \n",
       "120428  775640.0                                                   \n",
       "120429  777930.0                                                   \n",
       "120430  775370.0                                                   \n",
       "120431  777950.0                                                   \n",
       "120444  681550.0                                                   \n",
       "\n",
       "                                          app_name  price  early_access  \\\n",
       "88313                                      弹炸人2222   0.99           0.0   \n",
       "88314                                Log Challenge   2.99           0.0   \n",
       "88316                 SNOW - All Access Basic Pass   9.99           0.0   \n",
       "88320                              Uncanny Islands   0.00           1.0   \n",
       "88321                         Icarus Six Sixty Six   0.00           0.0   \n",
       "...                                            ...    ...           ...   \n",
       "120428   Robotpencil Presents: Exercise: Brushwork   3.99           0.0   \n",
       "120429  Robotpencil Presents: Creative Composition   3.99           0.0   \n",
       "120430                            The Gamble House   4.99           0.0   \n",
       "120431    Kalen Chock Presents: 2017 Free Tutorial   0.00           0.0   \n",
       "120444                                 Maze Run VR   4.99           1.0   \n",
       "\n",
       "                     developer  anio  \n",
       "88313                           2017  \n",
       "88314                           <NA>  \n",
       "88316   poppermost productions  2018  \n",
       "88320                  qucheza  <NA>  \n",
       "88321                           <NA>  \n",
       "...                        ...   ...  \n",
       "120428                          2018  \n",
       "120429                          2018  \n",
       "120430                          2016  \n",
       "120431                          2018  \n",
       "120444                          <NA>  \n",
       "\n",
       "[8419 rows x 8 columns]"
      ]
     },
     "execution_count": 110,
     "metadata": {},
     "output_type": "execute_result"
    }
   ],
   "source": [
    "# Establecemos las presentaciones posibles de valores nulos como cadenas\n",
    "representaciones_nulos = [\"<NA>\", \"None\", \"NA\", \"<na>\", \"none\", \"na\", \"N/A\", \"n.a.\", \"n.a\", \"N/A/\", \"missing\", \"null\", \"\"]\n",
    "\n",
    "# creamos una máscara que identifique las filas con alguna representación de valor nulo que pusimos arriba\n",
    "mask_nulos = df_juegos.apply(lambda col: col.astype(str).isin(representaciones_nulos)).any(axis=1)\n",
    "\n",
    "# Filtrar y mostrar las filas que contienen alguna representación de valor nulo\n",
    "filas_nulos_cadena = df_juegos[mask_nulos]\n",
    "filas_nulos_cadena"
   ]
  },
  {
   "cell_type": "code",
   "execution_count": 111,
   "metadata": {},
   "outputs": [
    {
     "data": {
      "text/html": [
       "<div>\n",
       "<style scoped>\n",
       "    .dataframe tbody tr th:only-of-type {\n",
       "        vertical-align: middle;\n",
       "    }\n",
       "\n",
       "    .dataframe tbody tr th {\n",
       "        vertical-align: top;\n",
       "    }\n",
       "\n",
       "    .dataframe thead th {\n",
       "        text-align: right;\n",
       "    }\n",
       "</style>\n",
       "<table border=\"1\" class=\"dataframe\">\n",
       "  <thead>\n",
       "    <tr style=\"text-align: right;\">\n",
       "      <th></th>\n",
       "      <th>id</th>\n",
       "      <th>publisher</th>\n",
       "      <th>genres</th>\n",
       "      <th>app_name</th>\n",
       "      <th>price</th>\n",
       "      <th>early_access</th>\n",
       "      <th>developer</th>\n",
       "      <th>anio</th>\n",
       "    </tr>\n",
       "  </thead>\n",
       "  <tbody>\n",
       "    <tr>\n",
       "      <th>88313</th>\n",
       "      <td>767400.0</td>\n",
       "      <td>彼岸领域</td>\n",
       "      <td>Action Adventure Casual</td>\n",
       "      <td>弹炸人2222</td>\n",
       "      <td>0.99</td>\n",
       "      <td>0.0</td>\n",
       "      <td></td>\n",
       "      <td>2017</td>\n",
       "    </tr>\n",
       "    <tr>\n",
       "      <th>88314</th>\n",
       "      <td>773570.0</td>\n",
       "      <td></td>\n",
       "      <td></td>\n",
       "      <td>Log Challenge</td>\n",
       "      <td>2.99</td>\n",
       "      <td>0.0</td>\n",
       "      <td></td>\n",
       "      <td>&lt;NA&gt;</td>\n",
       "    </tr>\n",
       "    <tr>\n",
       "      <th>88316</th>\n",
       "      <td>774276.0</td>\n",
       "      <td></td>\n",
       "      <td>Free to Play Indie Simulation Sports</td>\n",
       "      <td>SNOW - All Access Basic Pass</td>\n",
       "      <td>9.99</td>\n",
       "      <td>0.0</td>\n",
       "      <td>poppermost productions</td>\n",
       "      <td>2018</td>\n",
       "    </tr>\n",
       "    <tr>\n",
       "      <th>88320</th>\n",
       "      <td>768570.0</td>\n",
       "      <td>Qucheza</td>\n",
       "      <td>Action Indie Simulation Early Access</td>\n",
       "      <td>Uncanny Islands</td>\n",
       "      <td>0.00</td>\n",
       "      <td>1.0</td>\n",
       "      <td>qucheza</td>\n",
       "      <td>&lt;NA&gt;</td>\n",
       "    </tr>\n",
       "    <tr>\n",
       "      <th>88321</th>\n",
       "      <td>724910.0</td>\n",
       "      <td></td>\n",
       "      <td></td>\n",
       "      <td>Icarus Six Sixty Six</td>\n",
       "      <td>0.00</td>\n",
       "      <td>0.0</td>\n",
       "      <td></td>\n",
       "      <td>&lt;NA&gt;</td>\n",
       "    </tr>\n",
       "    <tr>\n",
       "      <th>...</th>\n",
       "      <td>...</td>\n",
       "      <td>...</td>\n",
       "      <td>...</td>\n",
       "      <td>...</td>\n",
       "      <td>...</td>\n",
       "      <td>...</td>\n",
       "      <td>...</td>\n",
       "      <td>...</td>\n",
       "    </tr>\n",
       "    <tr>\n",
       "      <th>120428</th>\n",
       "      <td>775640.0</td>\n",
       "      <td></td>\n",
       "      <td></td>\n",
       "      <td>Robotpencil Presents: Exercise: Brushwork</td>\n",
       "      <td>3.99</td>\n",
       "      <td>0.0</td>\n",
       "      <td></td>\n",
       "      <td>2018</td>\n",
       "    </tr>\n",
       "    <tr>\n",
       "      <th>120429</th>\n",
       "      <td>777930.0</td>\n",
       "      <td></td>\n",
       "      <td></td>\n",
       "      <td>Robotpencil Presents: Creative Composition</td>\n",
       "      <td>3.99</td>\n",
       "      <td>0.0</td>\n",
       "      <td></td>\n",
       "      <td>2018</td>\n",
       "    </tr>\n",
       "    <tr>\n",
       "      <th>120430</th>\n",
       "      <td>775370.0</td>\n",
       "      <td></td>\n",
       "      <td></td>\n",
       "      <td>The Gamble House</td>\n",
       "      <td>4.99</td>\n",
       "      <td>0.0</td>\n",
       "      <td></td>\n",
       "      <td>2016</td>\n",
       "    </tr>\n",
       "    <tr>\n",
       "      <th>120431</th>\n",
       "      <td>777950.0</td>\n",
       "      <td></td>\n",
       "      <td></td>\n",
       "      <td>Kalen Chock Presents: 2017 Free Tutorial</td>\n",
       "      <td>0.00</td>\n",
       "      <td>0.0</td>\n",
       "      <td></td>\n",
       "      <td>2018</td>\n",
       "    </tr>\n",
       "    <tr>\n",
       "      <th>120444</th>\n",
       "      <td>681550.0</td>\n",
       "      <td></td>\n",
       "      <td></td>\n",
       "      <td>Maze Run VR</td>\n",
       "      <td>4.99</td>\n",
       "      <td>1.0</td>\n",
       "      <td></td>\n",
       "      <td>&lt;NA&gt;</td>\n",
       "    </tr>\n",
       "  </tbody>\n",
       "</table>\n",
       "<p>8419 rows × 8 columns</p>\n",
       "</div>"
      ],
      "text/plain": [
       "              id publisher                                genres  \\\n",
       "88313   767400.0      彼岸领域               Action Adventure Casual   \n",
       "88314   773570.0                                                   \n",
       "88316   774276.0            Free to Play Indie Simulation Sports   \n",
       "88320   768570.0   Qucheza  Action Indie Simulation Early Access   \n",
       "88321   724910.0                                                   \n",
       "...          ...       ...                                   ...   \n",
       "120428  775640.0                                                   \n",
       "120429  777930.0                                                   \n",
       "120430  775370.0                                                   \n",
       "120431  777950.0                                                   \n",
       "120444  681550.0                                                   \n",
       "\n",
       "                                          app_name  price  early_access  \\\n",
       "88313                                      弹炸人2222   0.99           0.0   \n",
       "88314                                Log Challenge   2.99           0.0   \n",
       "88316                 SNOW - All Access Basic Pass   9.99           0.0   \n",
       "88320                              Uncanny Islands   0.00           1.0   \n",
       "88321                         Icarus Six Sixty Six   0.00           0.0   \n",
       "...                                            ...    ...           ...   \n",
       "120428   Robotpencil Presents: Exercise: Brushwork   3.99           0.0   \n",
       "120429  Robotpencil Presents: Creative Composition   3.99           0.0   \n",
       "120430                            The Gamble House   4.99           0.0   \n",
       "120431    Kalen Chock Presents: 2017 Free Tutorial   0.00           0.0   \n",
       "120444                                 Maze Run VR   4.99           1.0   \n",
       "\n",
       "                     developer  anio  \n",
       "88313                           2017  \n",
       "88314                           <NA>  \n",
       "88316   poppermost productions  2018  \n",
       "88320                  qucheza  <NA>  \n",
       "88321                           <NA>  \n",
       "...                        ...   ...  \n",
       "120428                          2018  \n",
       "120429                          2018  \n",
       "120430                          2016  \n",
       "120431                          2018  \n",
       "120444                          <NA>  \n",
       "\n",
       "[8419 rows x 8 columns]"
      ]
     },
     "execution_count": 111,
     "metadata": {},
     "output_type": "execute_result"
    }
   ],
   "source": [
    "# Representaciones posibles de valores nulos como cadenas, tambien de valores vacios. \n",
    "# Esto ultimo porque estandarizamos developer después de cambiar a \"Sin dato\"\n",
    "representaciones_nulos = [\"<NA>\", \"None\", \"NA\", \"<na>\", \"none\", \"na\", \"N/A\", \"n.a.\", \"n.a\", \"N/A/\", \"missing\", \"null\", \"sin dato\", \"\"]\n",
    "\n",
    "# Crear una máscara que identifique las filas con alguna representación de valor nulo\n",
    "mask_nulos = df_juegos.apply(lambda col: col.astype(str).isin(representaciones_nulos)).any(axis=1)\n",
    "\n",
    "# Filtrar y mostrar las filas que contienen alguna representación de valor nulo\n",
    "filas_nulos_cadena = df_juegos[mask_nulos]\n",
    "filas_nulos_cadena"
   ]
  },
  {
   "cell_type": "code",
   "execution_count": 112,
   "metadata": {},
   "outputs": [],
   "source": [
    "representaciones_nulos = [\"<NA>\", \"None\", \"NA\", \"<na>\", \"none\", \"na\", \"N/A\", \"n.a.\", \"n.a\", \"N/A/\", \"missing\", \"null\", \"sin dato\", \"\"]\n",
    "\n",
    "# Reemplazar todas las representaciones de valores nulos por \"Sin dato\"\n",
    "df_juegos.replace(representaciones_nulos, \"Sin dato\", inplace=True)"
   ]
  },
  {
   "cell_type": "code",
   "execution_count": 113,
   "metadata": {},
   "outputs": [
    {
     "data": {
      "text/html": [
       "<div>\n",
       "<style scoped>\n",
       "    .dataframe tbody tr th:only-of-type {\n",
       "        vertical-align: middle;\n",
       "    }\n",
       "\n",
       "    .dataframe tbody tr th {\n",
       "        vertical-align: top;\n",
       "    }\n",
       "\n",
       "    .dataframe thead th {\n",
       "        text-align: right;\n",
       "    }\n",
       "</style>\n",
       "<table border=\"1\" class=\"dataframe\">\n",
       "  <thead>\n",
       "    <tr style=\"text-align: right;\">\n",
       "      <th></th>\n",
       "      <th>id</th>\n",
       "      <th>publisher</th>\n",
       "      <th>genres</th>\n",
       "      <th>app_name</th>\n",
       "      <th>price</th>\n",
       "      <th>early_access</th>\n",
       "      <th>developer</th>\n",
       "      <th>anio</th>\n",
       "    </tr>\n",
       "  </thead>\n",
       "  <tbody>\n",
       "  </tbody>\n",
       "</table>\n",
       "</div>"
      ],
      "text/plain": [
       "Empty DataFrame\n",
       "Columns: [id, publisher, genres, app_name, price, early_access, developer, anio]\n",
       "Index: []"
      ]
     },
     "execution_count": 113,
     "metadata": {},
     "output_type": "execute_result"
    }
   ],
   "source": [
    "# Representaciones posibles de valores nulos como cadenas, tambien de valores vacios. \n",
    "# Esto ultimo porque estandarizamos developer después de cambiar a \"Sin dato\"\n",
    "representaciones_nulos = [\"<NA>\", \"None\", \"NA\", \"<na>\", \"none\", \"na\", \"N/A\", \"n.a.\", \"n.a\", \"N/A/\", \"missing\", \"null\", \"sin dato\", \"\"]\n",
    "\n",
    "# Crear una máscara que identifique las filas con alguna representación de valor nulo\n",
    "mask_nulos = df_juegos.apply(lambda col: col.astype(str).isin(representaciones_nulos)).any(axis=1)\n",
    "\n",
    "# Filtrar y mostrar las filas que contienen alguna representación de valor nulo\n",
    "filas_nulos_cadena = df_juegos[mask_nulos]\n",
    "filas_nulos_cadena"
   ]
  },
  {
   "cell_type": "markdown",
   "metadata": {},
   "source": [
    "Tuve que instalar pyarrow porque me tiraba error a la hora de querer exportarlo a parquet"
   ]
  },
  {
   "cell_type": "code",
   "execution_count": 60,
   "metadata": {},
   "outputs": [
    {
     "name": "stdout",
     "output_type": "stream",
     "text": [
      "Requirement already satisfied: pyarrow in c:\\users\\user\\appdata\\local\\packages\\pythonsoftwarefoundation.python.3.11_qbz5n2kfra8p0\\localcache\\local-packages\\python311\\site-packages (15.0.2)\n",
      "Requirement already satisfied: numpy<2,>=1.16.6 in c:\\users\\user\\appdata\\local\\packages\\pythonsoftwarefoundation.python.3.11_qbz5n2kfra8p0\\localcache\\local-packages\\python311\\site-packages (from pyarrow) (1.26.4)\n",
      "Note: you may need to restart the kernel to use updated packages.\n"
     ]
    }
   ],
   "source": [
    "pip install pyarrow"
   ]
  },
  {
   "cell_type": "code",
   "execution_count": 114,
   "metadata": {},
   "outputs": [],
   "source": [
    "df_juegos.to_parquet('steam_games_listo.parquet', engine='pyarrow')"
   ]
  },
  {
   "cell_type": "markdown",
   "metadata": {},
   "source": [
    "Vamos a abrirlo para corrobar que no hay problemas"
   ]
  },
  {
   "cell_type": "code",
   "execution_count": 115,
   "metadata": {},
   "outputs": [],
   "source": [
    "steam_parquet= pd.read_parquet('steam_games_listo.parquet')"
   ]
  },
  {
   "cell_type": "markdown",
   "metadata": {},
   "source": [
    "Por suerte salio todo correcto"
   ]
  },
  {
   "cell_type": "code",
   "execution_count": 116,
   "metadata": {},
   "outputs": [
    {
     "name": "stdout",
     "output_type": "stream",
     "text": [
      "<class 'pandas.core.frame.DataFrame'>\n",
      "Index: 32133 entries, 88310 to 120444\n",
      "Data columns (total 8 columns):\n",
      " #   Column        Non-Null Count  Dtype  \n",
      "---  ------        --------------  -----  \n",
      " 0   id            32133 non-null  object \n",
      " 1   publisher     32133 non-null  object \n",
      " 2   genres        32133 non-null  object \n",
      " 3   app_name      32133 non-null  object \n",
      " 4   price         32133 non-null  float64\n",
      " 5   early_access  32133 non-null  float64\n",
      " 6   developer     32133 non-null  object \n",
      " 7   anio          32133 non-null  object \n",
      "dtypes: float64(2), object(6)\n",
      "memory usage: 2.2+ MB\n"
     ]
    }
   ],
   "source": [
    "steam_parquet.info()"
   ]
  },
  {
   "cell_type": "markdown",
   "metadata": {},
   "source": [
    "**Lectura de nuestro dataset australian_user_reviews**"
   ]
  },
  {
   "cell_type": "markdown",
   "metadata": {},
   "source": [
    "En esta parte vamos a leer nuestro dataset de australian_user_reviews.json"
   ]
  },
  {
   "cell_type": "code",
   "execution_count": 23,
   "metadata": {},
   "outputs": [],
   "source": [
    "def descomprimir(archivos_gz,carpeta_destino):\n",
    "    for archivos_gz in archivos_gz:\n",
    "        with gzip.open(archivos_gz,'rb') as f_in:\n",
    "            contenido=f_in.read()\n",
    "            archivo_destino= os.path.join(carpeta_destino,os.path.splitext(os.path.basename(archivos_gz))[0])\n",
    "            with open(archivo_destino,'wb') as f_out:\n",
    "                f_out.write(contenido)\n",
    "            print(f'Archivo descomprimido {archivo_destino}')\n",
    "            \n",
    "\n",
    "\n",
    "archivo_gz_a_descomprimir= ['C:/Users/User/OneDrive/Escritorio/Proyecto Final Individual/PI MLOps - STEAM/user_reviews.json.gz'] \n",
    "\n",
    "carpeta_destino= 'C:/Users/User/OneDrive/Escritorio/Proyecto Final Individual/PI MLOps - STEAM'\n",
    "              "
   ]
  },
  {
   "cell_type": "markdown",
   "metadata": {},
   "source": [
    "Arreglar en un futuro la dirección en open porque Render no tiene esa función.\n"
   ]
  },
  {
   "cell_type": "markdown",
   "metadata": {},
   "source": [
    "Al final decidí que voy a subir esto a github y luego voy a crear otro proyecto para usarlo en Render"
   ]
  },
  {
   "cell_type": "code",
   "execution_count": 24,
   "metadata": {},
   "outputs": [
    {
     "data": {
      "text/html": [
       "<div>\n",
       "<style scoped>\n",
       "    .dataframe tbody tr th:only-of-type {\n",
       "        vertical-align: middle;\n",
       "    }\n",
       "\n",
       "    .dataframe tbody tr th {\n",
       "        vertical-align: top;\n",
       "    }\n",
       "\n",
       "    .dataframe thead th {\n",
       "        text-align: right;\n",
       "    }\n",
       "</style>\n",
       "<table border=\"1\" class=\"dataframe\">\n",
       "  <thead>\n",
       "    <tr style=\"text-align: right;\">\n",
       "      <th></th>\n",
       "      <th>user_id</th>\n",
       "      <th>user_url</th>\n",
       "      <th>reviews</th>\n",
       "    </tr>\n",
       "  </thead>\n",
       "  <tbody>\n",
       "    <tr>\n",
       "      <th>7308</th>\n",
       "      <td>laygittlefiggernaggot</td>\n",
       "      <td>http://steamcommunity.com/id/laygittlefiggerna...</td>\n",
       "      <td>[{'funny': '', 'posted': 'Posted April 16, 201...</td>\n",
       "    </tr>\n",
       "    <tr>\n",
       "      <th>18478</th>\n",
       "      <td>muttox</td>\n",
       "      <td>http://steamcommunity.com/id/muttox</td>\n",
       "      <td>[{'funny': '', 'posted': 'Posted April 7, 2013...</td>\n",
       "    </tr>\n",
       "  </tbody>\n",
       "</table>\n",
       "</div>"
      ],
      "text/plain": [
       "                     user_id  \\\n",
       "7308   laygittlefiggernaggot   \n",
       "18478                 muttox   \n",
       "\n",
       "                                                user_url  \\\n",
       "7308   http://steamcommunity.com/id/laygittlefiggerna...   \n",
       "18478                http://steamcommunity.com/id/muttox   \n",
       "\n",
       "                                                 reviews  \n",
       "7308   [{'funny': '', 'posted': 'Posted April 16, 201...  \n",
       "18478  [{'funny': '', 'posted': 'Posted April 7, 2013...  "
      ]
     },
     "execution_count": 24,
     "metadata": {},
     "output_type": "execute_result"
    }
   ],
   "source": [
    "import ast\n",
    "\n",
    "rows = []\n",
    "#Abrir el archivo \"user_reviews.json/australian_user_reviews.json\" con la codificación MacRoman.\n",
    "with open('./australian_user_reviews.json', encoding='utf-8') as f:\n",
    "    # Leer cada línea del archivo.\n",
    "    for line in f.readlines():\n",
    "        # Utilizar \"ast.literal_eval\" para convertir cada línea en un diccionario de Python\n",
    "        # y agregarlo a la lista \"rows\".\n",
    "        rows.append(ast.literal_eval(line))\n",
    "\n",
    "#Crear un DataFrame de Pandas a partir de la lista de diccionarios \"rows\".\n",
    "df_user_reviews = pd.DataFrame(rows)\n",
    "#Veamos unos registros al azar\n",
    "df_user_reviews.sample(2)"
   ]
  },
  {
   "cell_type": "markdown",
   "metadata": {},
   "source": [
    "Vemos mediante missigno que al parecer no hay datos que esten vacios pero eso lo vamos a ir investigando más adelante "
   ]
  },
  {
   "cell_type": "code",
   "execution_count": 25,
   "metadata": {},
   "outputs": [
    {
     "data": {
      "text/plain": [
       "<Axes: >"
      ]
     },
     "execution_count": 25,
     "metadata": {},
     "output_type": "execute_result"
    },
    {
     "data": {
      "image/png": "[encoded data removed]",
      "text/plain": [
       "<Figure size 2500x1000 with 2 Axes>"
      ]
     },
     "metadata": {},
     "output_type": "display_data"
    }
   ],
   "source": [
    "import missingno as msno\n",
    "\n",
    "%matplotlib inline\n",
    "msno.matrix(df_user_reviews)"
   ]
  },
  {
   "cell_type": "markdown",
   "metadata": {},
   "source": [
    "Voy a comprobar ahora cuantos duplicados existen\n"
   ]
  },
  {
   "cell_type": "code",
   "execution_count": 26,
   "metadata": {},
   "outputs": [
    {
     "name": "stdout",
     "output_type": "stream",
     "text": [
      "                    user_id  \\\n",
      "9         76561198156664158   \n",
      "50                   Rivtex   \n",
      "83        76561198094224872   \n",
      "119    DieMadchenschanderin   \n",
      "147               relesprit   \n",
      "...                     ...   \n",
      "17819     76561198076474887   \n",
      "17916           yolofaceguy   \n",
      "18028     76561198075591109   \n",
      "18234     76561198092022514   \n",
      "18309        SuchGayMuchWow   \n",
      "\n",
      "                                                user_url  \\\n",
      "9      http://steamcommunity.com/profiles/76561198156...   \n",
      "50                   http://steamcommunity.com/id/Rivtex   \n",
      "83     http://steamcommunity.com/profiles/76561198094...   \n",
      "119    http://steamcommunity.com/id/DieMadchenschanderin   \n",
      "147               http://steamcommunity.com/id/relesprit   \n",
      "...                                                  ...   \n",
      "17819  http://steamcommunity.com/profiles/76561198076...   \n",
      "17916           http://steamcommunity.com/id/yolofaceguy   \n",
      "18028  http://steamcommunity.com/profiles/76561198075...   \n",
      "18234  http://steamcommunity.com/profiles/76561198092...   \n",
      "18309        http://steamcommunity.com/id/SuchGayMuchWow   \n",
      "\n",
      "                                                 reviews  \n",
      "9      [{'funny': '', 'posted': 'Posted June 16.', 'l...  \n",
      "50     [{'funny': '', 'posted': 'Posted December 23, ...  \n",
      "83                                                    []  \n",
      "119    [{'funny': '', 'posted': 'Posted August 29, 20...  \n",
      "147    [{'funny': '', 'posted': 'Posted December 27, ...  \n",
      "...                                                  ...  \n",
      "17819  [{'funny': '', 'posted': 'Posted April 12.', '...  \n",
      "17916  [{'funny': '', 'posted': 'Posted October 31, 2...  \n",
      "18028  [{'funny': '', 'posted': 'Posted December 26, ...  \n",
      "18234  [{'funny': '', 'posted': 'Posted July 3.', 'la...  \n",
      "18309  [{'funny': '', 'posted': 'Posted July 18, 2015...  \n",
      "\n",
      "[623 rows x 3 columns]\n"
     ]
    }
   ],
   "source": [
    "duplicados = (lambda df, columna: df[df.duplicated(subset=columna, keep=False)])(df_user_reviews, \"user_id\")\n",
    "print(duplicados)"
   ]
  },
  {
   "cell_type": "markdown",
   "metadata": {},
   "source": [
    "Al parecer hay una cantidad exorbitante de datos que son totalemente identicos, lo que vamos a hacer es eliminarlos pero le vamos a dejar que con el id ya que es el único dato \"único\" que nos puede ayudar"
   ]
  },
  {
   "cell_type": "code",
   "execution_count": 27,
   "metadata": {},
   "outputs": [],
   "source": [
    "def unico(df, columna_id):\n",
    "    # Eliminar duplicados manteniendo solo la primera aparición\n",
    "    df_sin_duplicados = df.drop_duplicates(subset=columna_id,keep='first')\n",
    "\n",
    "    return df_sin_duplicados\n",
    "\n",
    "df_user_reviews = unico(df_user_reviews,'user_id')"
   ]
  },
  {
   "cell_type": "markdown",
   "metadata": {},
   "source": [
    "Una vez que ya saco los repetidos vamos a desanidar la columna review como hicimos con el dataset anterior mediante el método de explode()"
   ]
  },
  {
   "cell_type": "code",
   "execution_count": 28,
   "metadata": {},
   "outputs": [
    {
     "data": {
      "text/html": [
       "<div>\n",
       "<style scoped>\n",
       "    .dataframe tbody tr th:only-of-type {\n",
       "        vertical-align: middle;\n",
       "    }\n",
       "\n",
       "    .dataframe tbody tr th {\n",
       "        vertical-align: top;\n",
       "    }\n",
       "\n",
       "    .dataframe thead th {\n",
       "        text-align: right;\n",
       "    }\n",
       "</style>\n",
       "<table border=\"1\" class=\"dataframe\">\n",
       "  <thead>\n",
       "    <tr style=\"text-align: right;\">\n",
       "      <th></th>\n",
       "      <th>user_id</th>\n",
       "      <th>user_url</th>\n",
       "      <th>funny</th>\n",
       "      <th>posted</th>\n",
       "      <th>last_edited</th>\n",
       "      <th>item_id</th>\n",
       "      <th>helpful</th>\n",
       "      <th>recommend</th>\n",
       "      <th>review</th>\n",
       "      <th>0</th>\n",
       "    </tr>\n",
       "  </thead>\n",
       "  <tbody>\n",
       "    <tr>\n",
       "      <th>0</th>\n",
       "      <td>76561197970982479</td>\n",
       "      <td>http://steamcommunity.com/profiles/76561197970...</td>\n",
       "      <td></td>\n",
       "      <td>Posted November 5, 2011.</td>\n",
       "      <td></td>\n",
       "      <td>1250</td>\n",
       "      <td>No ratings yet</td>\n",
       "      <td>True</td>\n",
       "      <td>Simple yet with great replayability. In my opi...</td>\n",
       "      <td>NaN</td>\n",
       "    </tr>\n",
       "    <tr>\n",
       "      <th>0</th>\n",
       "      <td>76561197970982479</td>\n",
       "      <td>http://steamcommunity.com/profiles/76561197970...</td>\n",
       "      <td></td>\n",
       "      <td>Posted July 15, 2011.</td>\n",
       "      <td></td>\n",
       "      <td>22200</td>\n",
       "      <td>No ratings yet</td>\n",
       "      <td>True</td>\n",
       "      <td>It's unique and worth a playthrough.</td>\n",
       "      <td>NaN</td>\n",
       "    </tr>\n",
       "    <tr>\n",
       "      <th>0</th>\n",
       "      <td>76561197970982479</td>\n",
       "      <td>http://steamcommunity.com/profiles/76561197970...</td>\n",
       "      <td></td>\n",
       "      <td>Posted April 21, 2011.</td>\n",
       "      <td></td>\n",
       "      <td>43110</td>\n",
       "      <td>No ratings yet</td>\n",
       "      <td>True</td>\n",
       "      <td>Great atmosphere. The gunplay can be a bit chu...</td>\n",
       "      <td>NaN</td>\n",
       "    </tr>\n",
       "    <tr>\n",
       "      <th>1</th>\n",
       "      <td>js41637</td>\n",
       "      <td>http://steamcommunity.com/id/js41637</td>\n",
       "      <td></td>\n",
       "      <td>Posted June 24, 2014.</td>\n",
       "      <td></td>\n",
       "      <td>251610</td>\n",
       "      <td>15 of 20 people (75%) found this review helpful</td>\n",
       "      <td>True</td>\n",
       "      <td>I know what you think when you see this title ...</td>\n",
       "      <td>NaN</td>\n",
       "    </tr>\n",
       "    <tr>\n",
       "      <th>1</th>\n",
       "      <td>js41637</td>\n",
       "      <td>http://steamcommunity.com/id/js41637</td>\n",
       "      <td></td>\n",
       "      <td>Posted September 8, 2013.</td>\n",
       "      <td></td>\n",
       "      <td>227300</td>\n",
       "      <td>0 of 1 people (0%) found this review helpful</td>\n",
       "      <td>True</td>\n",
       "      <td>For a simple (it's actually not all that simpl...</td>\n",
       "      <td>NaN</td>\n",
       "    </tr>\n",
       "    <tr>\n",
       "      <th>...</th>\n",
       "      <td>...</td>\n",
       "      <td>...</td>\n",
       "      <td>...</td>\n",
       "      <td>...</td>\n",
       "      <td>...</td>\n",
       "      <td>...</td>\n",
       "      <td>...</td>\n",
       "      <td>...</td>\n",
       "      <td>...</td>\n",
       "      <td>...</td>\n",
       "    </tr>\n",
       "    <tr>\n",
       "      <th>25797</th>\n",
       "      <td>76561198312638244</td>\n",
       "      <td>http://steamcommunity.com/profiles/76561198312...</td>\n",
       "      <td></td>\n",
       "      <td>Posted July 10.</td>\n",
       "      <td></td>\n",
       "      <td>70</td>\n",
       "      <td>No ratings yet</td>\n",
       "      <td>True</td>\n",
       "      <td>a must have classic from steam definitely wort...</td>\n",
       "      <td>NaN</td>\n",
       "    </tr>\n",
       "    <tr>\n",
       "      <th>25797</th>\n",
       "      <td>76561198312638244</td>\n",
       "      <td>http://steamcommunity.com/profiles/76561198312...</td>\n",
       "      <td></td>\n",
       "      <td>Posted July 8.</td>\n",
       "      <td></td>\n",
       "      <td>362890</td>\n",
       "      <td>No ratings yet</td>\n",
       "      <td>True</td>\n",
       "      <td>this game is a perfect remake of the original ...</td>\n",
       "      <td>NaN</td>\n",
       "    </tr>\n",
       "    <tr>\n",
       "      <th>25798</th>\n",
       "      <td>LydiaMorley</td>\n",
       "      <td>http://steamcommunity.com/id/LydiaMorley</td>\n",
       "      <td>1 person found this review funny</td>\n",
       "      <td>Posted July 3.</td>\n",
       "      <td></td>\n",
       "      <td>273110</td>\n",
       "      <td>1 of 2 people (50%) found this review helpful</td>\n",
       "      <td>True</td>\n",
       "      <td>had so much fun plaing this and collecting res...</td>\n",
       "      <td>NaN</td>\n",
       "    </tr>\n",
       "    <tr>\n",
       "      <th>25798</th>\n",
       "      <td>LydiaMorley</td>\n",
       "      <td>http://steamcommunity.com/id/LydiaMorley</td>\n",
       "      <td></td>\n",
       "      <td>Posted July 20.</td>\n",
       "      <td></td>\n",
       "      <td>730</td>\n",
       "      <td>No ratings yet</td>\n",
       "      <td>True</td>\n",
       "      <td>:D</td>\n",
       "      <td>NaN</td>\n",
       "    </tr>\n",
       "    <tr>\n",
       "      <th>25798</th>\n",
       "      <td>LydiaMorley</td>\n",
       "      <td>http://steamcommunity.com/id/LydiaMorley</td>\n",
       "      <td></td>\n",
       "      <td>Posted July 2.</td>\n",
       "      <td></td>\n",
       "      <td>440</td>\n",
       "      <td>No ratings yet</td>\n",
       "      <td>True</td>\n",
       "      <td>so much fun :D</td>\n",
       "      <td>NaN</td>\n",
       "    </tr>\n",
       "  </tbody>\n",
       "</table>\n",
       "<p>58458 rows × 10 columns</p>\n",
       "</div>"
      ],
      "text/plain": [
       "                 user_id                                           user_url  \\\n",
       "0      76561197970982479  http://steamcommunity.com/profiles/76561197970...   \n",
       "0      76561197970982479  http://steamcommunity.com/profiles/76561197970...   \n",
       "0      76561197970982479  http://steamcommunity.com/profiles/76561197970...   \n",
       "1                js41637               http://steamcommunity.com/id/js41637   \n",
       "1                js41637               http://steamcommunity.com/id/js41637   \n",
       "...                  ...                                                ...   \n",
       "25797  76561198312638244  http://steamcommunity.com/profiles/76561198312...   \n",
       "25797  76561198312638244  http://steamcommunity.com/profiles/76561198312...   \n",
       "25798        LydiaMorley           http://steamcommunity.com/id/LydiaMorley   \n",
       "25798        LydiaMorley           http://steamcommunity.com/id/LydiaMorley   \n",
       "25798        LydiaMorley           http://steamcommunity.com/id/LydiaMorley   \n",
       "\n",
       "                                  funny                     posted  \\\n",
       "0                                         Posted November 5, 2011.   \n",
       "0                                            Posted July 15, 2011.   \n",
       "0                                           Posted April 21, 2011.   \n",
       "1                                            Posted June 24, 2014.   \n",
       "1                                        Posted September 8, 2013.   \n",
       "...                                 ...                        ...   \n",
       "25797                                              Posted July 10.   \n",
       "25797                                               Posted July 8.   \n",
       "25798  1 person found this review funny             Posted July 3.   \n",
       "25798                                              Posted July 20.   \n",
       "25798                                               Posted July 2.   \n",
       "\n",
       "      last_edited item_id                                          helpful  \\\n",
       "0                    1250                                   No ratings yet   \n",
       "0                   22200                                   No ratings yet   \n",
       "0                   43110                                   No ratings yet   \n",
       "1                  251610  15 of 20 people (75%) found this review helpful   \n",
       "1                  227300     0 of 1 people (0%) found this review helpful   \n",
       "...           ...     ...                                              ...   \n",
       "25797                  70                                   No ratings yet   \n",
       "25797              362890                                   No ratings yet   \n",
       "25798              273110    1 of 2 people (50%) found this review helpful   \n",
       "25798                 730                                   No ratings yet   \n",
       "25798                 440                                   No ratings yet   \n",
       "\n",
       "      recommend                                             review   0  \n",
       "0          True  Simple yet with great replayability. In my opi... NaN  \n",
       "0          True               It's unique and worth a playthrough. NaN  \n",
       "0          True  Great atmosphere. The gunplay can be a bit chu... NaN  \n",
       "1          True  I know what you think when you see this title ... NaN  \n",
       "1          True  For a simple (it's actually not all that simpl... NaN  \n",
       "...         ...                                                ...  ..  \n",
       "25797      True  a must have classic from steam definitely wort... NaN  \n",
       "25797      True  this game is a perfect remake of the original ... NaN  \n",
       "25798      True  had so much fun plaing this and collecting res... NaN  \n",
       "25798      True                                                 :D NaN  \n",
       "25798      True                                     so much fun :D NaN  \n",
       "\n",
       "[58458 rows x 10 columns]"
      ]
     },
     "execution_count": 28,
     "metadata": {},
     "output_type": "execute_result"
    }
   ],
   "source": [
    "desanidado= df_user_reviews.explode('reviews')\n",
    "df_desanidado= pd.concat([desanidado.drop(['reviews'],axis=1),desanidado['reviews'].apply(pd.Series)],axis=1)\n",
    "df_desanidado"
   ]
  },
  {
   "cell_type": "markdown",
   "metadata": {},
   "source": [
    "Vamos a hacer una limpieza de columnas del dataframe"
   ]
  },
  {
   "cell_type": "code",
   "execution_count": 29,
   "metadata": {},
   "outputs": [
    {
     "name": "stdout",
     "output_type": "stream",
     "text": [
      "                 user_id                                           user_url  \\\n",
      "0      76561197970982479  http://steamcommunity.com/profiles/76561197970...   \n",
      "0      76561197970982479  http://steamcommunity.com/profiles/76561197970...   \n",
      "0      76561197970982479  http://steamcommunity.com/profiles/76561197970...   \n",
      "1                js41637               http://steamcommunity.com/id/js41637   \n",
      "1                js41637               http://steamcommunity.com/id/js41637   \n",
      "...                  ...                                                ...   \n",
      "25797  76561198312638244  http://steamcommunity.com/profiles/76561198312...   \n",
      "25797  76561198312638244  http://steamcommunity.com/profiles/76561198312...   \n",
      "25798        LydiaMorley           http://steamcommunity.com/id/LydiaMorley   \n",
      "25798        LydiaMorley           http://steamcommunity.com/id/LydiaMorley   \n",
      "25798        LydiaMorley           http://steamcommunity.com/id/LydiaMorley   \n",
      "\n",
      "                                  funny                     posted  \\\n",
      "0                                         Posted November 5, 2011.   \n",
      "0                                            Posted July 15, 2011.   \n",
      "0                                           Posted April 21, 2011.   \n",
      "1                                            Posted June 24, 2014.   \n",
      "1                                        Posted September 8, 2013.   \n",
      "...                                 ...                        ...   \n",
      "25797                                              Posted July 10.   \n",
      "25797                                               Posted July 8.   \n",
      "25798  1 person found this review funny             Posted July 3.   \n",
      "25798                                              Posted July 20.   \n",
      "25798                                               Posted July 2.   \n",
      "\n",
      "      last_edited item_id                                          helpful  \\\n",
      "0                    1250                                   No ratings yet   \n",
      "0                   22200                                   No ratings yet   \n",
      "0                   43110                                   No ratings yet   \n",
      "1                  251610  15 of 20 people (75%) found this review helpful   \n",
      "1                  227300     0 of 1 people (0%) found this review helpful   \n",
      "...           ...     ...                                              ...   \n",
      "25797                  70                                   No ratings yet   \n",
      "25797              362890                                   No ratings yet   \n",
      "25798              273110    1 of 2 people (50%) found this review helpful   \n",
      "25798                 730                                   No ratings yet   \n",
      "25798                 440                                   No ratings yet   \n",
      "\n",
      "      recommend                                             review  \n",
      "0          True  Simple yet with great replayability. In my opi...  \n",
      "0          True               It's unique and worth a playthrough.  \n",
      "0          True  Great atmosphere. The gunplay can be a bit chu...  \n",
      "1          True  I know what you think when you see this title ...  \n",
      "1          True  For a simple (it's actually not all that simpl...  \n",
      "...         ...                                                ...  \n",
      "25797      True  a must have classic from steam definitely wort...  \n",
      "25797      True  this game is a perfect remake of the original ...  \n",
      "25798      True  had so much fun plaing this and collecting res...  \n",
      "25798      True                                                 :D  \n",
      "25798      True                                     so much fun :D  \n",
      "\n",
      "[58458 rows x 9 columns]\n"
     ]
    }
   ],
   "source": [
    "#Estas son las columnas que queremos\n",
    "columnas_a_quedar=['user_id','user_url','funny','posted','last_edited','item_id','helpful','recommend','review']\n",
    "#Creamos el nuevo dataframe con el df_desanidado anterior mas las nuevas columnas\n",
    "df_user_reviews=df_desanidado[columnas_a_quedar].copy()\n",
    "\n",
    "print(df_user_reviews)"
   ]
  },
  {
   "cell_type": "markdown",
   "metadata": {},
   "source": [
    "Una vez que tenemos las columnas que queremos vamos a ver los nulos que contiene el nuevo dataframe y vamos a limpiarlo totalemente"
   ]
  },
  {
   "cell_type": "code",
   "execution_count": 31,
   "metadata": {},
   "outputs": [],
   "source": [
    "#Vamos a reemplazar los datos vacios de tipo object con ''\n",
    "df_user_reviews.replace('',None,inplace=True)"
   ]
  },
  {
   "cell_type": "code",
   "execution_count": 32,
   "metadata": {},
   "outputs": [
    {
     "name": "stdout",
     "output_type": "stream",
     "text": [
      "user_id            0\n",
      "user_url           0\n",
      "funny          50448\n",
      "posted            28\n",
      "last_edited    52421\n",
      "item_id           28\n",
      "helpful           28\n",
      "recommend         28\n",
      "review            58\n",
      "dtype: int64\n"
     ]
    }
   ],
   "source": [
    "#Aqui gacemos una especie de muestra de la cantidad de nulos que hay en cada columna\n",
    "nulos = df_user_reviews.isna().sum()\n",
    "print(nulos)"
   ]
  },
  {
   "cell_type": "markdown",
   "metadata": {},
   "source": [
    "Vamos a proceder a eliminar las columnas funny y last_edited"
   ]
  },
  {
   "cell_type": "code",
   "execution_count": 33,
   "metadata": {},
   "outputs": [],
   "source": [
    "df_user_reviews = df_user_reviews.drop(['funny','last_edited'],axis=1)"
   ]
  },
  {
   "cell_type": "code",
   "execution_count": 34,
   "metadata": {},
   "outputs": [
    {
     "name": "stdout",
     "output_type": "stream",
     "text": [
      "user_id       0\n",
      "user_url      0\n",
      "posted       28\n",
      "item_id      28\n",
      "helpful      28\n",
      "recommend    28\n",
      "review       58\n",
      "dtype: int64\n"
     ]
    }
   ],
   "source": [
    "#Hacemos otra verificación para ver nomás\n",
    "nulos = df_user_reviews.isna().sum()\n",
    "print(nulos)"
   ]
  },
  {
   "cell_type": "markdown",
   "metadata": {},
   "source": [
    "A comparación de las tablas que eliminamos, vamos a tratar de eliminarlas solamente las que tengan todas vacias "
   ]
  },
  {
   "cell_type": "code",
   "execution_count": 35,
   "metadata": {},
   "outputs": [
    {
     "name": "stdout",
     "output_type": "stream",
     "text": [
      "                 user_id                                           user_url  \\\n",
      "0      76561197970982479  http://steamcommunity.com/profiles/76561197970...   \n",
      "0      76561197970982479  http://steamcommunity.com/profiles/76561197970...   \n",
      "0      76561197970982479  http://steamcommunity.com/profiles/76561197970...   \n",
      "1                js41637               http://steamcommunity.com/id/js41637   \n",
      "1                js41637               http://steamcommunity.com/id/js41637   \n",
      "...                  ...                                                ...   \n",
      "25797  76561198312638244  http://steamcommunity.com/profiles/76561198312...   \n",
      "25797  76561198312638244  http://steamcommunity.com/profiles/76561198312...   \n",
      "25798        LydiaMorley           http://steamcommunity.com/id/LydiaMorley   \n",
      "25798        LydiaMorley           http://steamcommunity.com/id/LydiaMorley   \n",
      "25798        LydiaMorley           http://steamcommunity.com/id/LydiaMorley   \n",
      "\n",
      "                          posted item_id  \\\n",
      "0       Posted November 5, 2011.    1250   \n",
      "0          Posted July 15, 2011.   22200   \n",
      "0         Posted April 21, 2011.   43110   \n",
      "1          Posted June 24, 2014.  251610   \n",
      "1      Posted September 8, 2013.  227300   \n",
      "...                          ...     ...   \n",
      "25797            Posted July 10.      70   \n",
      "25797             Posted July 8.  362890   \n",
      "25798             Posted July 3.  273110   \n",
      "25798            Posted July 20.     730   \n",
      "25798             Posted July 2.     440   \n",
      "\n",
      "                                               helpful recommend  \\\n",
      "0                                       No ratings yet      True   \n",
      "0                                       No ratings yet      True   \n",
      "0                                       No ratings yet      True   \n",
      "1      15 of 20 people (75%) found this review helpful      True   \n",
      "1         0 of 1 people (0%) found this review helpful      True   \n",
      "...                                                ...       ...   \n",
      "25797                                   No ratings yet      True   \n",
      "25797                                   No ratings yet      True   \n",
      "25798    1 of 2 people (50%) found this review helpful      True   \n",
      "25798                                   No ratings yet      True   \n",
      "25798                                   No ratings yet      True   \n",
      "\n",
      "                                                  review  \n",
      "0      Simple yet with great replayability. In my opi...  \n",
      "0                   It's unique and worth a playthrough.  \n",
      "0      Great atmosphere. The gunplay can be a bit chu...  \n",
      "1      I know what you think when you see this title ...  \n",
      "1      For a simple (it's actually not all that simpl...  \n",
      "...                                                  ...  \n",
      "25797  a must have classic from steam definitely wort...  \n",
      "25797  this game is a perfect remake of the original ...  \n",
      "25798  had so much fun plaing this and collecting res...  \n",
      "25798                                                 :D  \n",
      "25798                                     so much fun :D  \n",
      "\n",
      "[58430 rows x 7 columns]\n"
     ]
    }
   ],
   "source": [
    "limpieza = ['posted','item_id','helpful','recommend','review']\n",
    "\n",
    "#Como hicimos con el data anterior (el de juegos_steam), vamos a eliminar todo aquellos que sea Nan completo\n",
    "df_user_reviews=df_user_reviews.dropna(subset=limpieza,how='all')\n",
    "print(df_user_reviews)"
   ]
  },
  {
   "cell_type": "code",
   "execution_count": 36,
   "metadata": {},
   "outputs": [
    {
     "name": "stdout",
     "output_type": "stream",
     "text": [
      "user_id       0\n",
      "user_url      0\n",
      "posted        0\n",
      "item_id       0\n",
      "helpful       0\n",
      "recommend     0\n",
      "review       30\n",
      "dtype: int64\n"
     ]
    }
   ],
   "source": [
    "#Hacemos otra verificación para ver nomás\n",
    "nulos = df_user_reviews.isna().sum()\n",
    "print(nulos)"
   ]
  },
  {
   "cell_type": "markdown",
   "metadata": {},
   "source": [
    "Queda un poquito en lo que es review, así que hacemos la ultima limpieza"
   ]
  },
  {
   "cell_type": "code",
   "execution_count": 37,
   "metadata": {},
   "outputs": [],
   "source": [
    "df_user_reviews=df_user_reviews.dropna(subset=['review'])"
   ]
  },
  {
   "cell_type": "code",
   "execution_count": 38,
   "metadata": {},
   "outputs": [
    {
     "name": "stdout",
     "output_type": "stream",
     "text": [
      "user_id      0\n",
      "user_url     0\n",
      "posted       0\n",
      "item_id      0\n",
      "helpful      0\n",
      "recommend    0\n",
      "review       0\n",
      "dtype: int64\n"
     ]
    }
   ],
   "source": [
    "#Hacemos otra verificación para ver nomás\n",
    "nulos = df_user_reviews.isna().sum()\n",
    "print(nulos)"
   ]
  },
  {
   "cell_type": "markdown",
   "metadata": {},
   "source": [
    "Ya está la limpieza hecha. Ahora a seguir procesando otras columnas (en este caso vamos a tratar la columna posted)"
   ]
  },
  {
   "cell_type": "code",
   "execution_count": 40,
   "metadata": {},
   "outputs": [],
   "source": [
    "#Hacemos esto porque en la columna Posted estaba la palabra Posted\n",
    "df_user_reviews['posted'] = df_user_reviews['posted'].str.replace('Posted','')"
   ]
  },
  {
   "cell_type": "code",
   "execution_count": 41,
   "metadata": {},
   "outputs": [],
   "source": [
    "#Ahora lo tenenmos que convertir en un dato de date_time\n",
    "df_user_reviews['posted'] = pd.to_datetime(df_user_reviews['posted'],dayfirst=True,errors='coerce')"
   ]
  },
  {
   "cell_type": "code",
   "execution_count": 42,
   "metadata": {},
   "outputs": [
    {
     "name": "stderr",
     "output_type": "stream",
     "text": [
      "C:\\Users\\User\\AppData\\Local\\Temp\\ipykernel_18056\\3037420798.py:4: FutureWarning: A value is trying to be set on a copy of a DataFrame or Series through chained assignment using an inplace method.\n",
      "The behavior will change in pandas 3.0. This inplace method will never work because the intermediate object on which we are setting values always behaves as a copy.\n",
      "\n",
      "For example, when doing 'df[col].method(value, inplace=True)', try using 'df.method({col: value}, inplace=True)' or df[col] = df[col].method(value) instead, to perform the operation inplace on the original object.\n",
      "\n",
      "\n",
      "  df_user_reviews['anio_lanzado'].fillna('Sin dato',inplace=True)\n"
     ]
    }
   ],
   "source": [
    "#Lo que nos interesa ahora es extraer el año\n",
    "df_user_reviews['anio_lanzado'] = df_user_reviews['posted'].dt.year.astype('object')\n",
    "#Imputamos valores por las dudas\n",
    "df_user_reviews['anio_lanzado'].fillna('Sin dato',inplace=True) "
   ]
  },
  {
   "cell_type": "code",
   "execution_count": 45,
   "metadata": {},
   "outputs": [
    {
     "data": {
      "text/plain": [
       "anio_lanzado\n",
       "2014.0      21821\n",
       "2015.0      18146\n",
       "Sin dato     9929\n",
       "2013.0       6707\n",
       "2012.0       1201\n",
       "2011.0        530\n",
       "2010.0         66\n",
       "Name: count, dtype: int64"
      ]
     },
     "execution_count": 45,
     "metadata": {},
     "output_type": "execute_result"
    }
   ],
   "source": [
    "#Esto es para ver los datos solamente\n",
    "frecuencia = df_user_reviews['anio_lanzado'].value_counts()\n",
    "frecuencia"
   ]
  },
  {
   "cell_type": "code",
   "execution_count": 47,
   "metadata": {},
   "outputs": [],
   "source": [
    "#Como hicimos en el data anterior, lo vamos a poner en Int para evitar futuros problemas\n",
    "df_user_reviews['anio_lanzado']= pd.to_numeric(df_user_reviews['anio_lanzado'],errors='coerce').astype('Int64')"
   ]
  },
  {
   "cell_type": "markdown",
   "metadata": {},
   "source": [
    "Ahora una ultima limpieza final"
   ]
  },
  {
   "cell_type": "markdown",
   "metadata": {},
   "source": [
    "Tira error porque ya lo elimine previamente"
   ]
  },
  {
   "cell_type": "code",
   "execution_count": null,
   "metadata": {},
   "outputs": [],
   "source": [
    "eliminacion = ['helpful','user_url','posted']\n",
    "\n",
    "df_user_reviews.drop(eliminacion,axis=1,inplace=True)\n",
    "\n",
    "df_user_reviews"
   ]
  },
  {
   "cell_type": "markdown",
   "metadata": {},
   "source": [
    "Ahora exportamos a parquet"
   ]
  },
  {
   "cell_type": "code",
   "execution_count": 49,
   "metadata": {},
   "outputs": [],
   "source": [
    "df_user_reviews.to_parquet('df_user_reviews.parquet', engine='pyarrow')"
   ]
  },
  {
   "cell_type": "markdown",
   "metadata": {},
   "source": [
    "Importamos para verificar nomás"
   ]
  },
  {
   "cell_type": "code",
   "execution_count": 50,
   "metadata": {},
   "outputs": [
    {
     "name": "stdout",
     "output_type": "stream",
     "text": [
      "<class 'pandas.core.frame.DataFrame'>\n",
      "Index: 58400 entries, 0 to 25798\n",
      "Data columns (total 5 columns):\n",
      " #   Column        Non-Null Count  Dtype \n",
      "---  ------        --------------  ----- \n",
      " 0   user_id       58400 non-null  object\n",
      " 1   item_id       58400 non-null  object\n",
      " 2   recommend     58400 non-null  bool  \n",
      " 3   review        58400 non-null  object\n",
      " 4   anio_lanzado  48471 non-null  Int64 \n",
      "dtypes: Int64(1), bool(1), object(3)\n",
      "memory usage: 2.3+ MB\n",
      "None\n"
     ]
    }
   ],
   "source": [
    "user_parquet= pd.read_parquet('df_user_reviews.parquet')\n",
    "print(user_parquet.info())"
   ]
  },
  {
   "cell_type": "markdown",
   "metadata": {},
   "source": [
    "Salio todo bien"
   ]
  },
  {
   "cell_type": "markdown",
   "metadata": {},
   "source": [
    "**Lectura de User_Items**"
   ]
  },
  {
   "cell_type": "code",
   "execution_count": 51,
   "metadata": {},
   "outputs": [],
   "source": [
    "def descomprimir(archivos_gz,carpeta_destino):\n",
    "    for archivos_gz in archivos_gz:\n",
    "        with gzip.open(archivos_gz,'rb') as f_in:\n",
    "            contenido=f_in.read()\n",
    "            archivo_destino= os.path.join(carpeta_destino,os.path.splitext(os.path.basename(archivos_gz))[0])\n",
    "            with open(archivo_destino,'wb') as f_out:\n",
    "                f_out.write(contenido)\n",
    "            print(f'Archivo descomprimido {archivo_destino}')\n",
    "            \n",
    "\n",
    "\n",
    "archivo_gz_a_descomprimir= ['C:/Users/User/OneDrive/Escritorio/Proyecto Final Individual/PI MLOps - STEAM/user_items.json.gz'] \n",
    "\n",
    "carpeta_destino= 'C:/Users/User/OneDrive/Escritorio/Proyecto Final Individual/PI MLOps - STEAM'"
   ]
  },
  {
   "cell_type": "code",
   "execution_count": 52,
   "metadata": {},
   "outputs": [
    {
     "data": {
      "text/html": [
       "<div>\n",
       "<style scoped>\n",
       "    .dataframe tbody tr th:only-of-type {\n",
       "        vertical-align: middle;\n",
       "    }\n",
       "\n",
       "    .dataframe tbody tr th {\n",
       "        vertical-align: top;\n",
       "    }\n",
       "\n",
       "    .dataframe thead th {\n",
       "        text-align: right;\n",
       "    }\n",
       "</style>\n",
       "<table border=\"1\" class=\"dataframe\">\n",
       "  <thead>\n",
       "    <tr style=\"text-align: right;\">\n",
       "      <th></th>\n",
       "      <th>user_id</th>\n",
       "      <th>items_count</th>\n",
       "      <th>steam_id</th>\n",
       "      <th>user_url</th>\n",
       "      <th>items</th>\n",
       "    </tr>\n",
       "  </thead>\n",
       "  <tbody>\n",
       "    <tr>\n",
       "      <th>52782</th>\n",
       "      <td>paojdsflkasjfda</td>\n",
       "      <td>50</td>\n",
       "      <td>76561198046829272</td>\n",
       "      <td>http://steamcommunity.com/id/paojdsflkasjfda</td>\n",
       "      <td>[{'item_id': '12120', 'item_name': 'Grand Thef...</td>\n",
       "    </tr>\n",
       "    <tr>\n",
       "      <th>30432</th>\n",
       "      <td>kaine123511</td>\n",
       "      <td>194</td>\n",
       "      <td>76561198105283426</td>\n",
       "      <td>http://steamcommunity.com/id/kaine123511</td>\n",
       "      <td>[{'item_id': '320', 'item_name': 'Half-Life 2:...</td>\n",
       "    </tr>\n",
       "  </tbody>\n",
       "</table>\n",
       "</div>"
      ],
      "text/plain": [
       "               user_id  items_count           steam_id  \\\n",
       "52782  paojdsflkasjfda           50  76561198046829272   \n",
       "30432      kaine123511          194  76561198105283426   \n",
       "\n",
       "                                           user_url  \\\n",
       "52782  http://steamcommunity.com/id/paojdsflkasjfda   \n",
       "30432      http://steamcommunity.com/id/kaine123511   \n",
       "\n",
       "                                                   items  \n",
       "52782  [{'item_id': '12120', 'item_name': 'Grand Thef...  \n",
       "30432  [{'item_id': '320', 'item_name': 'Half-Life 2:...  "
      ]
     },
     "execution_count": 52,
     "metadata": {},
     "output_type": "execute_result"
    }
   ],
   "source": [
    "rows = []\n",
    "#Abrir el archivo \"user_reviews.json/australian_user_reviews.json\" con la codificación MacRoman.\n",
    "with open('./australian_users_items.json', encoding='utf-8') as f:\n",
    "    # Leer cada línea del archivo.\n",
    "    for line in f.readlines():\n",
    "        # Utilizar \"ast.literal_eval\" para convertir cada línea en un diccionario de Python\n",
    "        # y agregarlo a la lista \"rows\".\n",
    "        rows.append(ast.literal_eval(line))\n",
    "\n",
    "#Crear un DataFrame de Pandas a partir de la lista de diccionarios \"rows\".\n",
    "df_user_items = pd.DataFrame(rows)\n",
    "#Veamos unos registros al azar\n",
    "df_user_items.sample(2)"
   ]
  },
  {
   "cell_type": "markdown",
   "metadata": {},
   "source": [
    "Esta vez solo voy a utilizar info() porque demora bastante en cargar el df ya que si hago missigno puede llegar a tardar demasiado"
   ]
  },
  {
   "cell_type": "code",
   "execution_count": 53,
   "metadata": {},
   "outputs": [
    {
     "name": "stdout",
     "output_type": "stream",
     "text": [
      "<class 'pandas.core.frame.DataFrame'>\n",
      "RangeIndex: 88310 entries, 0 to 88309\n",
      "Data columns (total 5 columns):\n",
      " #   Column       Non-Null Count  Dtype \n",
      "---  ------       --------------  ----- \n",
      " 0   user_id      88310 non-null  object\n",
      " 1   items_count  88310 non-null  int64 \n",
      " 2   steam_id     88310 non-null  object\n",
      " 3   user_url     88310 non-null  object\n",
      " 4   items        88310 non-null  object\n",
      "dtypes: int64(1), object(4)\n",
      "memory usage: 3.4+ MB\n"
     ]
    }
   ],
   "source": [
    "df_user_items.info()"
   ]
  },
  {
   "cell_type": "markdown",
   "metadata": {},
   "source": [
    "En un primer momento no parece haber nulos pero eso se va desentramando mientras vamos explorando mejor"
   ]
  },
  {
   "cell_type": "markdown",
   "metadata": {},
   "source": [
    "Vamos a eliminar las columnas user_id e items_count porque ya la tenemos en anteriores df"
   ]
  },
  {
   "cell_type": "code",
   "execution_count": 54,
   "metadata": {},
   "outputs": [
    {
     "data": {
      "text/html": [
       "<div>\n",
       "<style scoped>\n",
       "    .dataframe tbody tr th:only-of-type {\n",
       "        vertical-align: middle;\n",
       "    }\n",
       "\n",
       "    .dataframe tbody tr th {\n",
       "        vertical-align: top;\n",
       "    }\n",
       "\n",
       "    .dataframe thead th {\n",
       "        text-align: right;\n",
       "    }\n",
       "</style>\n",
       "<table border=\"1\" class=\"dataframe\">\n",
       "  <thead>\n",
       "    <tr style=\"text-align: right;\">\n",
       "      <th></th>\n",
       "      <th>user_id</th>\n",
       "      <th>steam_id</th>\n",
       "      <th>items</th>\n",
       "    </tr>\n",
       "  </thead>\n",
       "  <tbody>\n",
       "    <tr>\n",
       "      <th>0</th>\n",
       "      <td>76561197970982479</td>\n",
       "      <td>76561197970982479</td>\n",
       "      <td>[{'item_id': '10', 'item_name': 'Counter-Strik...</td>\n",
       "    </tr>\n",
       "    <tr>\n",
       "      <th>1</th>\n",
       "      <td>js41637</td>\n",
       "      <td>76561198035864385</td>\n",
       "      <td>[{'item_id': '10', 'item_name': 'Counter-Strik...</td>\n",
       "    </tr>\n",
       "    <tr>\n",
       "      <th>2</th>\n",
       "      <td>evcentric</td>\n",
       "      <td>76561198007712555</td>\n",
       "      <td>[{'item_id': '1200', 'item_name': 'Red Orchest...</td>\n",
       "    </tr>\n",
       "    <tr>\n",
       "      <th>3</th>\n",
       "      <td>Riot-Punch</td>\n",
       "      <td>76561197963445855</td>\n",
       "      <td>[{'item_id': '10', 'item_name': 'Counter-Strik...</td>\n",
       "    </tr>\n",
       "    <tr>\n",
       "      <th>4</th>\n",
       "      <td>doctr</td>\n",
       "      <td>76561198002099482</td>\n",
       "      <td>[{'item_id': '300', 'item_name': 'Day of Defea...</td>\n",
       "    </tr>\n",
       "    <tr>\n",
       "      <th>...</th>\n",
       "      <td>...</td>\n",
       "      <td>...</td>\n",
       "      <td>...</td>\n",
       "    </tr>\n",
       "    <tr>\n",
       "      <th>88305</th>\n",
       "      <td>76561198323066619</td>\n",
       "      <td>76561198323066619</td>\n",
       "      <td>[{'item_id': '413850', 'item_name': 'CS:GO Pla...</td>\n",
       "    </tr>\n",
       "    <tr>\n",
       "      <th>88306</th>\n",
       "      <td>76561198326700687</td>\n",
       "      <td>76561198326700687</td>\n",
       "      <td>[{'item_id': '11020', 'item_name': 'TrackMania...</td>\n",
       "    </tr>\n",
       "    <tr>\n",
       "      <th>88307</th>\n",
       "      <td>XxLaughingJackClown77xX</td>\n",
       "      <td>76561198328759259</td>\n",
       "      <td>[]</td>\n",
       "    </tr>\n",
       "    <tr>\n",
       "      <th>88308</th>\n",
       "      <td>76561198329548331</td>\n",
       "      <td>76561198329548331</td>\n",
       "      <td>[{'item_id': '304930', 'item_name': 'Unturned'...</td>\n",
       "    </tr>\n",
       "    <tr>\n",
       "      <th>88309</th>\n",
       "      <td>edward_tremethick</td>\n",
       "      <td>76561198331598578</td>\n",
       "      <td>[]</td>\n",
       "    </tr>\n",
       "  </tbody>\n",
       "</table>\n",
       "<p>88310 rows × 3 columns</p>\n",
       "</div>"
      ],
      "text/plain": [
       "                       user_id           steam_id  \\\n",
       "0            76561197970982479  76561197970982479   \n",
       "1                      js41637  76561198035864385   \n",
       "2                    evcentric  76561198007712555   \n",
       "3                   Riot-Punch  76561197963445855   \n",
       "4                        doctr  76561198002099482   \n",
       "...                        ...                ...   \n",
       "88305        76561198323066619  76561198323066619   \n",
       "88306        76561198326700687  76561198326700687   \n",
       "88307  XxLaughingJackClown77xX  76561198328759259   \n",
       "88308        76561198329548331  76561198329548331   \n",
       "88309        edward_tremethick  76561198331598578   \n",
       "\n",
       "                                                   items  \n",
       "0      [{'item_id': '10', 'item_name': 'Counter-Strik...  \n",
       "1      [{'item_id': '10', 'item_name': 'Counter-Strik...  \n",
       "2      [{'item_id': '1200', 'item_name': 'Red Orchest...  \n",
       "3      [{'item_id': '10', 'item_name': 'Counter-Strik...  \n",
       "4      [{'item_id': '300', 'item_name': 'Day of Defea...  \n",
       "...                                                  ...  \n",
       "88305  [{'item_id': '413850', 'item_name': 'CS:GO Pla...  \n",
       "88306  [{'item_id': '11020', 'item_name': 'TrackMania...  \n",
       "88307                                                 []  \n",
       "88308  [{'item_id': '304930', 'item_name': 'Unturned'...  \n",
       "88309                                                 []  \n",
       "\n",
       "[88310 rows x 3 columns]"
      ]
     },
     "execution_count": 54,
     "metadata": {},
     "output_type": "execute_result"
    }
   ],
   "source": [
    "df_user_items=df_user_items.drop(['user_url','items_count'],axis=1)\n",
    "df_user_items"
   ]
  },
  {
   "cell_type": "markdown",
   "metadata": {},
   "source": [
    "Vamos a desanidar la columna items como lo hicimos las otras veces"
   ]
  },
  {
   "cell_type": "markdown",
   "metadata": {},
   "source": [
    "desanidado= df_user_items.explode('items')\n",
    "df_desanidado= pd.concat([desanidado.drop(['items'],axis=1),desanidado['items'].apply(pd.Series)],axis=1)\n",
    "df_desanidado"
   ]
  },
  {
   "cell_type": "markdown",
   "metadata": {},
   "source": [
    "Al final voy a desistir de esta manera porque se estaba demorando más de 6 minutos. Vamos a probar de otra manera "
   ]
  },
  {
   "cell_type": "markdown",
   "metadata": {},
   "source": [
    "La función json_normalize() de la biblioteca pandas en Python se utiliza para aplanar estructuras JSON anidadas y convertirlas en un DataFrame. Esto es especialmente útil cuando trabajas con datos JSON complejos, donde los campos pueden contener listas o diccionarios anidados."
   ]
  },
  {
   "cell_type": "code",
   "execution_count": 62,
   "metadata": {},
   "outputs": [],
   "source": [
    "#Vamos a utilizar json_normalize\n",
    "#El primer parametro rows es donde se almacena el diccionario\n",
    "df_json=pd.json_normalize(rows, record_path=[\"items\"], meta=[\"steam_id\",\"user_id\"])\n",
    "df_user_items=df_json"
   ]
  },
  {
   "cell_type": "markdown",
   "metadata": {},
   "source": [
    "En mi caso duró tan solo 21 segundos en desanidar todo a diferencia de explode() que me estaba demorando 6 minutos y no había respuesta alguna. Ambos metodo sirven igual; no digo que uno es mejor que otro"
   ]
  },
  {
   "cell_type": "code",
   "execution_count": 63,
   "metadata": {},
   "outputs": [
    {
     "data": {
      "text/html": [
       "<div>\n",
       "<style scoped>\n",
       "    .dataframe tbody tr th:only-of-type {\n",
       "        vertical-align: middle;\n",
       "    }\n",
       "\n",
       "    .dataframe tbody tr th {\n",
       "        vertical-align: top;\n",
       "    }\n",
       "\n",
       "    .dataframe thead th {\n",
       "        text-align: right;\n",
       "    }\n",
       "</style>\n",
       "<table border=\"1\" class=\"dataframe\">\n",
       "  <thead>\n",
       "    <tr style=\"text-align: right;\">\n",
       "      <th></th>\n",
       "      <th>item_id</th>\n",
       "      <th>item_name</th>\n",
       "      <th>playtime_forever</th>\n",
       "      <th>playtime_2weeks</th>\n",
       "      <th>steam_id</th>\n",
       "      <th>user_id</th>\n",
       "    </tr>\n",
       "  </thead>\n",
       "  <tbody>\n",
       "    <tr>\n",
       "      <th>0</th>\n",
       "      <td>10</td>\n",
       "      <td>Counter-Strike</td>\n",
       "      <td>6</td>\n",
       "      <td>0</td>\n",
       "      <td>76561197970982479</td>\n",
       "      <td>76561197970982479</td>\n",
       "    </tr>\n",
       "    <tr>\n",
       "      <th>1</th>\n",
       "      <td>20</td>\n",
       "      <td>Team Fortress Classic</td>\n",
       "      <td>0</td>\n",
       "      <td>0</td>\n",
       "      <td>76561197970982479</td>\n",
       "      <td>76561197970982479</td>\n",
       "    </tr>\n",
       "    <tr>\n",
       "      <th>2</th>\n",
       "      <td>30</td>\n",
       "      <td>Day of Defeat</td>\n",
       "      <td>7</td>\n",
       "      <td>0</td>\n",
       "      <td>76561197970982479</td>\n",
       "      <td>76561197970982479</td>\n",
       "    </tr>\n",
       "    <tr>\n",
       "      <th>3</th>\n",
       "      <td>40</td>\n",
       "      <td>Deathmatch Classic</td>\n",
       "      <td>0</td>\n",
       "      <td>0</td>\n",
       "      <td>76561197970982479</td>\n",
       "      <td>76561197970982479</td>\n",
       "    </tr>\n",
       "    <tr>\n",
       "      <th>4</th>\n",
       "      <td>50</td>\n",
       "      <td>Half-Life: Opposing Force</td>\n",
       "      <td>0</td>\n",
       "      <td>0</td>\n",
       "      <td>76561197970982479</td>\n",
       "      <td>76561197970982479</td>\n",
       "    </tr>\n",
       "    <tr>\n",
       "      <th>...</th>\n",
       "      <td>...</td>\n",
       "      <td>...</td>\n",
       "      <td>...</td>\n",
       "      <td>...</td>\n",
       "      <td>...</td>\n",
       "      <td>...</td>\n",
       "    </tr>\n",
       "    <tr>\n",
       "      <th>5153204</th>\n",
       "      <td>346330</td>\n",
       "      <td>BrainBread 2</td>\n",
       "      <td>0</td>\n",
       "      <td>0</td>\n",
       "      <td>76561198329548331</td>\n",
       "      <td>76561198329548331</td>\n",
       "    </tr>\n",
       "    <tr>\n",
       "      <th>5153205</th>\n",
       "      <td>373330</td>\n",
       "      <td>All Is Dust</td>\n",
       "      <td>0</td>\n",
       "      <td>0</td>\n",
       "      <td>76561198329548331</td>\n",
       "      <td>76561198329548331</td>\n",
       "    </tr>\n",
       "    <tr>\n",
       "      <th>5153206</th>\n",
       "      <td>388490</td>\n",
       "      <td>One Way To Die: Steam Edition</td>\n",
       "      <td>3</td>\n",
       "      <td>3</td>\n",
       "      <td>76561198329548331</td>\n",
       "      <td>76561198329548331</td>\n",
       "    </tr>\n",
       "    <tr>\n",
       "      <th>5153207</th>\n",
       "      <td>521570</td>\n",
       "      <td>You Have 10 Seconds 2</td>\n",
       "      <td>4</td>\n",
       "      <td>4</td>\n",
       "      <td>76561198329548331</td>\n",
       "      <td>76561198329548331</td>\n",
       "    </tr>\n",
       "    <tr>\n",
       "      <th>5153208</th>\n",
       "      <td>519140</td>\n",
       "      <td>Minds Eyes</td>\n",
       "      <td>3</td>\n",
       "      <td>3</td>\n",
       "      <td>76561198329548331</td>\n",
       "      <td>76561198329548331</td>\n",
       "    </tr>\n",
       "  </tbody>\n",
       "</table>\n",
       "<p>5153209 rows × 6 columns</p>\n",
       "</div>"
      ],
      "text/plain": [
       "        item_id                      item_name  playtime_forever  \\\n",
       "0            10                 Counter-Strike                 6   \n",
       "1            20          Team Fortress Classic                 0   \n",
       "2            30                  Day of Defeat                 7   \n",
       "3            40             Deathmatch Classic                 0   \n",
       "4            50      Half-Life: Opposing Force                 0   \n",
       "...         ...                            ...               ...   \n",
       "5153204  346330                   BrainBread 2                 0   \n",
       "5153205  373330                    All Is Dust                 0   \n",
       "5153206  388490  One Way To Die: Steam Edition                 3   \n",
       "5153207  521570          You Have 10 Seconds 2                 4   \n",
       "5153208  519140                     Minds Eyes                 3   \n",
       "\n",
       "         playtime_2weeks           steam_id            user_id  \n",
       "0                      0  76561197970982479  76561197970982479  \n",
       "1                      0  76561197970982479  76561197970982479  \n",
       "2                      0  76561197970982479  76561197970982479  \n",
       "3                      0  76561197970982479  76561197970982479  \n",
       "4                      0  76561197970982479  76561197970982479  \n",
       "...                  ...                ...                ...  \n",
       "5153204                0  76561198329548331  76561198329548331  \n",
       "5153205                0  76561198329548331  76561198329548331  \n",
       "5153206                3  76561198329548331  76561198329548331  \n",
       "5153207                4  76561198329548331  76561198329548331  \n",
       "5153208                3  76561198329548331  76561198329548331  \n",
       "\n",
       "[5153209 rows x 6 columns]"
      ]
     },
     "execution_count": 63,
     "metadata": {},
     "output_type": "execute_result"
    }
   ],
   "source": [
    "df_user_items"
   ]
  },
  {
   "cell_type": "code",
   "execution_count": 64,
   "metadata": {},
   "outputs": [
    {
     "data": {
      "text/html": [
       "<div>\n",
       "<style scoped>\n",
       "    .dataframe tbody tr th:only-of-type {\n",
       "        vertical-align: middle;\n",
       "    }\n",
       "\n",
       "    .dataframe tbody tr th {\n",
       "        vertical-align: top;\n",
       "    }\n",
       "\n",
       "    .dataframe thead th {\n",
       "        text-align: right;\n",
       "    }\n",
       "</style>\n",
       "<table border=\"1\" class=\"dataframe\">\n",
       "  <thead>\n",
       "    <tr style=\"text-align: right;\">\n",
       "      <th></th>\n",
       "      <th>user_id</th>\n",
       "      <th>steam_id</th>\n",
       "      <th>item_id</th>\n",
       "      <th>item_name</th>\n",
       "      <th>playtime_forever</th>\n",
       "      <th>playtime_2weeks</th>\n",
       "    </tr>\n",
       "  </thead>\n",
       "  <tbody>\n",
       "    <tr>\n",
       "      <th>0</th>\n",
       "      <td>76561197970982479</td>\n",
       "      <td>76561197970982479</td>\n",
       "      <td>10</td>\n",
       "      <td>Counter-Strike</td>\n",
       "      <td>6</td>\n",
       "      <td>0</td>\n",
       "    </tr>\n",
       "    <tr>\n",
       "      <th>1</th>\n",
       "      <td>76561197970982479</td>\n",
       "      <td>76561197970982479</td>\n",
       "      <td>20</td>\n",
       "      <td>Team Fortress Classic</td>\n",
       "      <td>0</td>\n",
       "      <td>0</td>\n",
       "    </tr>\n",
       "    <tr>\n",
       "      <th>2</th>\n",
       "      <td>76561197970982479</td>\n",
       "      <td>76561197970982479</td>\n",
       "      <td>30</td>\n",
       "      <td>Day of Defeat</td>\n",
       "      <td>7</td>\n",
       "      <td>0</td>\n",
       "    </tr>\n",
       "    <tr>\n",
       "      <th>3</th>\n",
       "      <td>76561197970982479</td>\n",
       "      <td>76561197970982479</td>\n",
       "      <td>40</td>\n",
       "      <td>Deathmatch Classic</td>\n",
       "      <td>0</td>\n",
       "      <td>0</td>\n",
       "    </tr>\n",
       "    <tr>\n",
       "      <th>4</th>\n",
       "      <td>76561197970982479</td>\n",
       "      <td>76561197970982479</td>\n",
       "      <td>50</td>\n",
       "      <td>Half-Life: Opposing Force</td>\n",
       "      <td>0</td>\n",
       "      <td>0</td>\n",
       "    </tr>\n",
       "    <tr>\n",
       "      <th>...</th>\n",
       "      <td>...</td>\n",
       "      <td>...</td>\n",
       "      <td>...</td>\n",
       "      <td>...</td>\n",
       "      <td>...</td>\n",
       "      <td>...</td>\n",
       "    </tr>\n",
       "    <tr>\n",
       "      <th>5153204</th>\n",
       "      <td>76561198329548331</td>\n",
       "      <td>76561198329548331</td>\n",
       "      <td>346330</td>\n",
       "      <td>BrainBread 2</td>\n",
       "      <td>0</td>\n",
       "      <td>0</td>\n",
       "    </tr>\n",
       "    <tr>\n",
       "      <th>5153205</th>\n",
       "      <td>76561198329548331</td>\n",
       "      <td>76561198329548331</td>\n",
       "      <td>373330</td>\n",
       "      <td>All Is Dust</td>\n",
       "      <td>0</td>\n",
       "      <td>0</td>\n",
       "    </tr>\n",
       "    <tr>\n",
       "      <th>5153206</th>\n",
       "      <td>76561198329548331</td>\n",
       "      <td>76561198329548331</td>\n",
       "      <td>388490</td>\n",
       "      <td>One Way To Die: Steam Edition</td>\n",
       "      <td>3</td>\n",
       "      <td>3</td>\n",
       "    </tr>\n",
       "    <tr>\n",
       "      <th>5153207</th>\n",
       "      <td>76561198329548331</td>\n",
       "      <td>76561198329548331</td>\n",
       "      <td>521570</td>\n",
       "      <td>You Have 10 Seconds 2</td>\n",
       "      <td>4</td>\n",
       "      <td>4</td>\n",
       "    </tr>\n",
       "    <tr>\n",
       "      <th>5153208</th>\n",
       "      <td>76561198329548331</td>\n",
       "      <td>76561198329548331</td>\n",
       "      <td>519140</td>\n",
       "      <td>Minds Eyes</td>\n",
       "      <td>3</td>\n",
       "      <td>3</td>\n",
       "    </tr>\n",
       "  </tbody>\n",
       "</table>\n",
       "<p>5153209 rows × 6 columns</p>\n",
       "</div>"
      ],
      "text/plain": [
       "                   user_id           steam_id item_id  \\\n",
       "0        76561197970982479  76561197970982479      10   \n",
       "1        76561197970982479  76561197970982479      20   \n",
       "2        76561197970982479  76561197970982479      30   \n",
       "3        76561197970982479  76561197970982479      40   \n",
       "4        76561197970982479  76561197970982479      50   \n",
       "...                    ...                ...     ...   \n",
       "5153204  76561198329548331  76561198329548331  346330   \n",
       "5153205  76561198329548331  76561198329548331  373330   \n",
       "5153206  76561198329548331  76561198329548331  388490   \n",
       "5153207  76561198329548331  76561198329548331  521570   \n",
       "5153208  76561198329548331  76561198329548331  519140   \n",
       "\n",
       "                             item_name  playtime_forever  playtime_2weeks  \n",
       "0                       Counter-Strike                 6                0  \n",
       "1                Team Fortress Classic                 0                0  \n",
       "2                        Day of Defeat                 7                0  \n",
       "3                   Deathmatch Classic                 0                0  \n",
       "4            Half-Life: Opposing Force                 0                0  \n",
       "...                                ...               ...              ...  \n",
       "5153204                   BrainBread 2                 0                0  \n",
       "5153205                    All Is Dust                 0                0  \n",
       "5153206  One Way To Die: Steam Edition                 3                3  \n",
       "5153207          You Have 10 Seconds 2                 4                4  \n",
       "5153208                     Minds Eyes                 3                3  \n",
       "\n",
       "[5153209 rows x 6 columns]"
      ]
     },
     "execution_count": 64,
     "metadata": {},
     "output_type": "execute_result"
    }
   ],
   "source": [
    "#Ordenamos \n",
    "orden=['user_id','steam_id','item_id','item_name','playtime_forever','playtime_2weeks']\n",
    "\n",
    "#reordenar\n",
    "df_user_items=df_user_items[orden]\n",
    "\n",
    "df_user_items"
   ]
  },
  {
   "cell_type": "markdown",
   "metadata": {},
   "source": [
    "Vemos los duplicados"
   ]
  },
  {
   "cell_type": "code",
   "execution_count": 65,
   "metadata": {},
   "outputs": [
    {
     "name": "stdout",
     "output_type": "stream",
     "text": [
      "59104\n"
     ]
    }
   ],
   "source": [
    "dupli=df_user_items.duplicated().sum()\n",
    "\n",
    "print(dupli)\n"
   ]
  },
  {
   "cell_type": "markdown",
   "metadata": {},
   "source": [
    "Eliminamos los duplicados\n"
   ]
  },
  {
   "cell_type": "code",
   "execution_count": 66,
   "metadata": {},
   "outputs": [
    {
     "name": "stderr",
     "output_type": "stream",
     "text": [
      "C:\\Users\\User\\AppData\\Local\\Temp\\ipykernel_18056\\3352295025.py:1: SettingWithCopyWarning: \n",
      "A value is trying to be set on a copy of a slice from a DataFrame\n",
      "\n",
      "See the caveats in the documentation: https://pandas.pydata.org/pandas-docs/stable/user_guide/indexing.html#returning-a-view-versus-a-copy\n",
      "  df_user_items.drop_duplicates(inplace=True)\n"
     ]
    }
   ],
   "source": [
    "df_user_items.drop_duplicates(inplace=True)"
   ]
  },
  {
   "cell_type": "code",
   "execution_count": 69,
   "metadata": {},
   "outputs": [
    {
     "name": "stdout",
     "output_type": "stream",
     "text": [
      "0\n"
     ]
    }
   ],
   "source": [
    "# verificamos de nuevo,\n",
    "duplicados = df_user_items.duplicated()\n",
    "# Contar duplicados\n",
    "cantidad_duplicados = duplicados.sum()\n",
    "# Mostrar resultados\n",
    "print(cantidad_duplicados)\n"
   ]
  },
  {
   "cell_type": "markdown",
   "metadata": {},
   "source": [
    "Eliminamos la columna de playtime_2weeks si ya tenemos el original que es el tiempo total\n"
   ]
  },
  {
   "cell_type": "code",
   "execution_count": 70,
   "metadata": {},
   "outputs": [
    {
     "data": {
      "text/html": [
       "<div>\n",
       "<style scoped>\n",
       "    .dataframe tbody tr th:only-of-type {\n",
       "        vertical-align: middle;\n",
       "    }\n",
       "\n",
       "    .dataframe tbody tr th {\n",
       "        vertical-align: top;\n",
       "    }\n",
       "\n",
       "    .dataframe thead th {\n",
       "        text-align: right;\n",
       "    }\n",
       "</style>\n",
       "<table border=\"1\" class=\"dataframe\">\n",
       "  <thead>\n",
       "    <tr style=\"text-align: right;\">\n",
       "      <th></th>\n",
       "      <th>user_id</th>\n",
       "      <th>steam_id</th>\n",
       "      <th>item_id</th>\n",
       "      <th>item_name</th>\n",
       "      <th>playtime_forever</th>\n",
       "    </tr>\n",
       "  </thead>\n",
       "  <tbody>\n",
       "    <tr>\n",
       "      <th>0</th>\n",
       "      <td>76561197970982479</td>\n",
       "      <td>76561197970982479</td>\n",
       "      <td>10</td>\n",
       "      <td>Counter-Strike</td>\n",
       "      <td>6</td>\n",
       "    </tr>\n",
       "    <tr>\n",
       "      <th>1</th>\n",
       "      <td>76561197970982479</td>\n",
       "      <td>76561197970982479</td>\n",
       "      <td>20</td>\n",
       "      <td>Team Fortress Classic</td>\n",
       "      <td>0</td>\n",
       "    </tr>\n",
       "    <tr>\n",
       "      <th>2</th>\n",
       "      <td>76561197970982479</td>\n",
       "      <td>76561197970982479</td>\n",
       "      <td>30</td>\n",
       "      <td>Day of Defeat</td>\n",
       "      <td>7</td>\n",
       "    </tr>\n",
       "    <tr>\n",
       "      <th>3</th>\n",
       "      <td>76561197970982479</td>\n",
       "      <td>76561197970982479</td>\n",
       "      <td>40</td>\n",
       "      <td>Deathmatch Classic</td>\n",
       "      <td>0</td>\n",
       "    </tr>\n",
       "    <tr>\n",
       "      <th>4</th>\n",
       "      <td>76561197970982479</td>\n",
       "      <td>76561197970982479</td>\n",
       "      <td>50</td>\n",
       "      <td>Half-Life: Opposing Force</td>\n",
       "      <td>0</td>\n",
       "    </tr>\n",
       "    <tr>\n",
       "      <th>...</th>\n",
       "      <td>...</td>\n",
       "      <td>...</td>\n",
       "      <td>...</td>\n",
       "      <td>...</td>\n",
       "      <td>...</td>\n",
       "    </tr>\n",
       "    <tr>\n",
       "      <th>5153204</th>\n",
       "      <td>76561198329548331</td>\n",
       "      <td>76561198329548331</td>\n",
       "      <td>346330</td>\n",
       "      <td>BrainBread 2</td>\n",
       "      <td>0</td>\n",
       "    </tr>\n",
       "    <tr>\n",
       "      <th>5153205</th>\n",
       "      <td>76561198329548331</td>\n",
       "      <td>76561198329548331</td>\n",
       "      <td>373330</td>\n",
       "      <td>All Is Dust</td>\n",
       "      <td>0</td>\n",
       "    </tr>\n",
       "    <tr>\n",
       "      <th>5153206</th>\n",
       "      <td>76561198329548331</td>\n",
       "      <td>76561198329548331</td>\n",
       "      <td>388490</td>\n",
       "      <td>One Way To Die: Steam Edition</td>\n",
       "      <td>3</td>\n",
       "    </tr>\n",
       "    <tr>\n",
       "      <th>5153207</th>\n",
       "      <td>76561198329548331</td>\n",
       "      <td>76561198329548331</td>\n",
       "      <td>521570</td>\n",
       "      <td>You Have 10 Seconds 2</td>\n",
       "      <td>4</td>\n",
       "    </tr>\n",
       "    <tr>\n",
       "      <th>5153208</th>\n",
       "      <td>76561198329548331</td>\n",
       "      <td>76561198329548331</td>\n",
       "      <td>519140</td>\n",
       "      <td>Minds Eyes</td>\n",
       "      <td>3</td>\n",
       "    </tr>\n",
       "  </tbody>\n",
       "</table>\n",
       "<p>5094105 rows × 5 columns</p>\n",
       "</div>"
      ],
      "text/plain": [
       "                   user_id           steam_id item_id  \\\n",
       "0        76561197970982479  76561197970982479      10   \n",
       "1        76561197970982479  76561197970982479      20   \n",
       "2        76561197970982479  76561197970982479      30   \n",
       "3        76561197970982479  76561197970982479      40   \n",
       "4        76561197970982479  76561197970982479      50   \n",
       "...                    ...                ...     ...   \n",
       "5153204  76561198329548331  76561198329548331  346330   \n",
       "5153205  76561198329548331  76561198329548331  373330   \n",
       "5153206  76561198329548331  76561198329548331  388490   \n",
       "5153207  76561198329548331  76561198329548331  521570   \n",
       "5153208  76561198329548331  76561198329548331  519140   \n",
       "\n",
       "                             item_name  playtime_forever  \n",
       "0                       Counter-Strike                 6  \n",
       "1                Team Fortress Classic                 0  \n",
       "2                        Day of Defeat                 7  \n",
       "3                   Deathmatch Classic                 0  \n",
       "4            Half-Life: Opposing Force                 0  \n",
       "...                                ...               ...  \n",
       "5153204                   BrainBread 2                 0  \n",
       "5153205                    All Is Dust                 0  \n",
       "5153206  One Way To Die: Steam Edition                 3  \n",
       "5153207          You Have 10 Seconds 2                 4  \n",
       "5153208                     Minds Eyes                 3  \n",
       "\n",
       "[5094105 rows x 5 columns]"
      ]
     },
     "execution_count": 70,
     "metadata": {},
     "output_type": "execute_result"
    }
   ],
   "source": [
    "df_user_items=df_user_items.drop(columns=['playtime_2weeks'])\n",
    "\n",
    "df_user_items"
   ]
  },
  {
   "cell_type": "markdown",
   "metadata": {},
   "source": [
    "Se exporta en parquet como las veces anteriores"
   ]
  },
  {
   "cell_type": "code",
   "execution_count": 71,
   "metadata": {},
   "outputs": [],
   "source": [
    "df_user_items.to_parquet('df_user_items.parquet', engine='pyarrow')"
   ]
  },
  {
   "cell_type": "markdown",
   "metadata": {},
   "source": [
    "Se lee por las dudas"
   ]
  },
  {
   "cell_type": "code",
   "execution_count": 72,
   "metadata": {},
   "outputs": [
    {
     "data": {
      "text/html": [
       "<div>\n",
       "<style scoped>\n",
       "    .dataframe tbody tr th:only-of-type {\n",
       "        vertical-align: middle;\n",
       "    }\n",
       "\n",
       "    .dataframe tbody tr th {\n",
       "        vertical-align: top;\n",
       "    }\n",
       "\n",
       "    .dataframe thead th {\n",
       "        text-align: right;\n",
       "    }\n",
       "</style>\n",
       "<table border=\"1\" class=\"dataframe\">\n",
       "  <thead>\n",
       "    <tr style=\"text-align: right;\">\n",
       "      <th></th>\n",
       "      <th>user_id</th>\n",
       "      <th>steam_id</th>\n",
       "      <th>item_id</th>\n",
       "      <th>item_name</th>\n",
       "      <th>playtime_forever</th>\n",
       "    </tr>\n",
       "  </thead>\n",
       "  <tbody>\n",
       "    <tr>\n",
       "      <th>0</th>\n",
       "      <td>76561197970982479</td>\n",
       "      <td>76561197970982479</td>\n",
       "      <td>10</td>\n",
       "      <td>Counter-Strike</td>\n",
       "      <td>6</td>\n",
       "    </tr>\n",
       "    <tr>\n",
       "      <th>1</th>\n",
       "      <td>76561197970982479</td>\n",
       "      <td>76561197970982479</td>\n",
       "      <td>20</td>\n",
       "      <td>Team Fortress Classic</td>\n",
       "      <td>0</td>\n",
       "    </tr>\n",
       "    <tr>\n",
       "      <th>2</th>\n",
       "      <td>76561197970982479</td>\n",
       "      <td>76561197970982479</td>\n",
       "      <td>30</td>\n",
       "      <td>Day of Defeat</td>\n",
       "      <td>7</td>\n",
       "    </tr>\n",
       "    <tr>\n",
       "      <th>3</th>\n",
       "      <td>76561197970982479</td>\n",
       "      <td>76561197970982479</td>\n",
       "      <td>40</td>\n",
       "      <td>Deathmatch Classic</td>\n",
       "      <td>0</td>\n",
       "    </tr>\n",
       "    <tr>\n",
       "      <th>4</th>\n",
       "      <td>76561197970982479</td>\n",
       "      <td>76561197970982479</td>\n",
       "      <td>50</td>\n",
       "      <td>Half-Life: Opposing Force</td>\n",
       "      <td>0</td>\n",
       "    </tr>\n",
       "    <tr>\n",
       "      <th>...</th>\n",
       "      <td>...</td>\n",
       "      <td>...</td>\n",
       "      <td>...</td>\n",
       "      <td>...</td>\n",
       "      <td>...</td>\n",
       "    </tr>\n",
       "    <tr>\n",
       "      <th>5153204</th>\n",
       "      <td>76561198329548331</td>\n",
       "      <td>76561198329548331</td>\n",
       "      <td>346330</td>\n",
       "      <td>BrainBread 2</td>\n",
       "      <td>0</td>\n",
       "    </tr>\n",
       "    <tr>\n",
       "      <th>5153205</th>\n",
       "      <td>76561198329548331</td>\n",
       "      <td>76561198329548331</td>\n",
       "      <td>373330</td>\n",
       "      <td>All Is Dust</td>\n",
       "      <td>0</td>\n",
       "    </tr>\n",
       "    <tr>\n",
       "      <th>5153206</th>\n",
       "      <td>76561198329548331</td>\n",
       "      <td>76561198329548331</td>\n",
       "      <td>388490</td>\n",
       "      <td>One Way To Die: Steam Edition</td>\n",
       "      <td>3</td>\n",
       "    </tr>\n",
       "    <tr>\n",
       "      <th>5153207</th>\n",
       "      <td>76561198329548331</td>\n",
       "      <td>76561198329548331</td>\n",
       "      <td>521570</td>\n",
       "      <td>You Have 10 Seconds 2</td>\n",
       "      <td>4</td>\n",
       "    </tr>\n",
       "    <tr>\n",
       "      <th>5153208</th>\n",
       "      <td>76561198329548331</td>\n",
       "      <td>76561198329548331</td>\n",
       "      <td>519140</td>\n",
       "      <td>Minds Eyes</td>\n",
       "      <td>3</td>\n",
       "    </tr>\n",
       "  </tbody>\n",
       "</table>\n",
       "<p>5094105 rows × 5 columns</p>\n",
       "</div>"
      ],
      "text/plain": [
       "                   user_id           steam_id item_id  \\\n",
       "0        76561197970982479  76561197970982479      10   \n",
       "1        76561197970982479  76561197970982479      20   \n",
       "2        76561197970982479  76561197970982479      30   \n",
       "3        76561197970982479  76561197970982479      40   \n",
       "4        76561197970982479  76561197970982479      50   \n",
       "...                    ...                ...     ...   \n",
       "5153204  76561198329548331  76561198329548331  346330   \n",
       "5153205  76561198329548331  76561198329548331  373330   \n",
       "5153206  76561198329548331  76561198329548331  388490   \n",
       "5153207  76561198329548331  76561198329548331  521570   \n",
       "5153208  76561198329548331  76561198329548331  519140   \n",
       "\n",
       "                             item_name  playtime_forever  \n",
       "0                       Counter-Strike                 6  \n",
       "1                Team Fortress Classic                 0  \n",
       "2                        Day of Defeat                 7  \n",
       "3                   Deathmatch Classic                 0  \n",
       "4            Half-Life: Opposing Force                 0  \n",
       "...                                ...               ...  \n",
       "5153204                   BrainBread 2                 0  \n",
       "5153205                    All Is Dust                 0  \n",
       "5153206  One Way To Die: Steam Edition                 3  \n",
       "5153207          You Have 10 Seconds 2                 4  \n",
       "5153208                     Minds Eyes                 3  \n",
       "\n",
       "[5094105 rows x 5 columns]"
      ]
     },
     "execution_count": 72,
     "metadata": {},
     "output_type": "execute_result"
    }
   ],
   "source": [
    "df_par= pd.read_parquet('df_user_items.parquet')\n",
    "\n",
    "df_par"
   ]
  },
  {
   "cell_type": "markdown",
   "metadata": {},
   "source": [
    "Salio todo bien por suerte"
   ]
  }
 ],
 "metadata": {
  "kernelspec": {
   "display_name": "Python 3",
   "language": "python",
   "name": "python3"
  },
  "language_info": {
   "codemirror_mode": {
    "name": "ipython",
    "version": 3
   },
   "file_extension": ".py",
   "mimetype": "text/x-python",
   "name": "python",
   "nbconvert_exporter": "python",
   "pygments_lexer": "ipython3",
   "version": "3.11.9"
  }
 },
 "nbformat": 4,
 "nbformat_minor": 2
}
