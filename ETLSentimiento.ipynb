{
 "cells": [
  {
   "cell_type": "markdown",
   "metadata": {},
   "source": [
    "**Vamos a ver el df_user_reviews para crear la nueva tabla de análisis de sentimiento**\n"
   ]
  },
  {
   "cell_type": "code",
   "execution_count": 7,
   "metadata": {},
   "outputs": [],
   "source": [
    "import pandas as pd \n",
    "import numpy as np\n",
    "import pyarrow as pa\n",
    "\n",
    "import re\n",
    "#NLTK es una librería para poder usar NLP\n",
    "import nltk\n",
    "from nltk.sentiment.vader import SentimentIntensityAnalyzer\n",
    "#Analizador de texto\n",
    "from textblob import TextBlob\n"
   ]
  },
  {
   "cell_type": "code",
   "execution_count": 8,
   "metadata": {},
   "outputs": [
    {
     "name": "stdout",
     "output_type": "stream",
     "text": [
      "<class 'pandas.core.frame.DataFrame'>\n",
      "Index: 58400 entries, 0 to 25798\n",
      "Data columns (total 5 columns):\n",
      " #   Column        Non-Null Count  Dtype \n",
      "---  ------        --------------  ----- \n",
      " 0   user_id       58400 non-null  object\n",
      " 1   item_id       58400 non-null  object\n",
      " 2   recommend     58400 non-null  bool  \n",
      " 3   review        58400 non-null  object\n",
      " 4   anio_lanzado  48471 non-null  Int64 \n",
      "dtypes: Int64(1), bool(1), object(3)\n",
      "memory usage: 2.3+ MB\n"
     ]
    }
   ],
   "source": [
    "df_user_reviews= pd.read_parquet('df_user_reviews.parquet')\n",
    "\n",
    "df_user_reviews.info()"
   ]
  },
  {
   "cell_type": "markdown",
   "metadata": {},
   "source": [
    "**Ahora vamos a crear el análisis de sentimientos**"
   ]
  },
  {
   "cell_type": "markdown",
   "metadata": {},
   "source": [
    "Vader viene de “Valence Aware Dictionary and sEntiment Reasoner” y es la librería que usa Python para el análisis de sentimientos. Esta librería se basa en reglas y un poderoso lexicón para realizar sus análisis y determinar si una noticia es positiva, negativa y neutra."
   ]
  },
  {
   "cell_type": "code",
   "execution_count": 13,
   "metadata": {},
   "outputs": [
    {
     "name": "stderr",
     "output_type": "stream",
     "text": [
      "[nltk_data] Downloading package vader_lexicon to\n",
      "[nltk_data]     C:\\Users\\User\\AppData\\Roaming\\nltk_data...\n",
      "[nltk_data]   Package vader_lexicon is already up-to-date!\n"
     ]
    },
    {
     "name": "stdout",
     "output_type": "stream",
     "text": [
      "                 user_id item_id  recommend  \\\n",
      "0      76561197970982479    1250       True   \n",
      "0      76561197970982479   22200       True   \n",
      "0      76561197970982479   43110       True   \n",
      "1                js41637  251610       True   \n",
      "1                js41637  227300       True   \n",
      "...                  ...     ...        ...   \n",
      "25797  76561198312638244      70       True   \n",
      "25797  76561198312638244  362890       True   \n",
      "25798        LydiaMorley  273110       True   \n",
      "25798        LydiaMorley     730       True   \n",
      "25798        LydiaMorley     440       True   \n",
      "\n",
      "                                                  review  anio_lanzado  \\\n",
      "0      Simple yet with great replayability. In my opi...          2011   \n",
      "0                   It's unique and worth a playthrough.          2011   \n",
      "0      Great atmosphere. The gunplay can be a bit chu...          2011   \n",
      "1      I know what you think when you see this title ...          2014   \n",
      "1      For a simple (it's actually not all that simpl...          2013   \n",
      "...                                                  ...           ...   \n",
      "25797  a must have classic from steam definitely wort...          <NA>   \n",
      "25797  this game is a perfect remake of the original ...          <NA>   \n",
      "25798  had so much fun plaing this and collecting res...          <NA>   \n",
      "25798                                                 :D          <NA>   \n",
      "25798                                     so much fun :D          <NA>   \n",
      "\n",
      "       Sentiment_Score  \n",
      "0                    1  \n",
      "0                    2  \n",
      "0                    1  \n",
      "1                    1  \n",
      "1                    1  \n",
      "...                ...  \n",
      "25797                2  \n",
      "25797                1  \n",
      "25798                1  \n",
      "25798                2  \n",
      "25798                2  \n",
      "\n",
      "[58400 rows x 6 columns]\n"
     ]
    }
   ],
   "source": [
    "nltk.download('vader_lexicon')\n",
    "\n",
    "#Se inicializa el analizador\n",
    "\n",
    "sia = SentimentIntensityAnalyzer()\n",
    "\n",
    "#Función para designar valores\n",
    "def sentimiento(txt):\n",
    "    if pd.isnull(txt) or txt == '':\n",
    "        return 1 #Se designa que es 1 si está vació o es nulo\n",
    "    elif isinstance(txt,str):\n",
    "        #Aqui utiizamos Vader\n",
    "        vader = sia.polarity_scores(txt)\n",
    "        vader_puntos=vader['compound']\n",
    "        \n",
    "        #Se analiza el texto utilizando TextBlob\n",
    "        textblob = TextBlob(txt)\n",
    "        polaridad=textblob.sentiment.polarity\n",
    "        \n",
    "        #Escalas para asignar valores\n",
    "        \n",
    "        if vader_puntos >= -0.05 and polaridad >= -0.2 and polaridad <=0.2:\n",
    "            return 1 #Neutral\n",
    "        elif vader_puntos >= -0.05 or polaridad >0.2:\n",
    "            return 2 #Positivo\n",
    "        elif vader_puntos <= -0.05 or polaridad < -.2:\n",
    "            return 0 #Negatuvo\n",
    "        \n",
    "    return 1 \n",
    "\n",
    "#Aplicamos la función mientras creamos la nueva columna\n",
    "\n",
    "df_user_reviews['Sentiment_Score'] = df_user_reviews['review'].apply(sentimiento)\n",
    "   \n",
    "   \n",
    "print(df_user_reviews)   "
   ]
  },
  {
   "cell_type": "markdown",
   "metadata": {},
   "source": [
    "Vamos a ver los idiomas que tienen las columnas"
   ]
  },
  {
   "cell_type": "markdown",
   "metadata": {},
   "source": [
    "Hay que instalar la librería de langdetect para que esta reconozca los caracteres que tiene cada lengua en particular"
   ]
  },
  {
   "cell_type": "code",
   "execution_count": null,
   "metadata": {},
   "outputs": [],
   "source": [
    "pip install langdetect\n"
   ]
  },
  {
   "cell_type": "code",
   "execution_count": 19,
   "metadata": {},
   "outputs": [],
   "source": [
    "from langdetect import detect"
   ]
  },
  {
   "cell_type": "code",
   "execution_count": 20,
   "metadata": {},
   "outputs": [
    {
     "data": {
      "text/html": [
       "<div>\n",
       "<style scoped>\n",
       "    .dataframe tbody tr th:only-of-type {\n",
       "        vertical-align: middle;\n",
       "    }\n",
       "\n",
       "    .dataframe tbody tr th {\n",
       "        vertical-align: top;\n",
       "    }\n",
       "\n",
       "    .dataframe thead th {\n",
       "        text-align: right;\n",
       "    }\n",
       "</style>\n",
       "<table border=\"1\" class=\"dataframe\">\n",
       "  <thead>\n",
       "    <tr style=\"text-align: right;\">\n",
       "      <th></th>\n",
       "      <th>user_id</th>\n",
       "      <th>item_id</th>\n",
       "      <th>recommend</th>\n",
       "      <th>review</th>\n",
       "      <th>anio_lanzado</th>\n",
       "      <th>Sentiment_Score</th>\n",
       "      <th>idioma</th>\n",
       "    </tr>\n",
       "  </thead>\n",
       "  <tbody>\n",
       "    <tr>\n",
       "      <th>0</th>\n",
       "      <td>76561197970982479</td>\n",
       "      <td>1250</td>\n",
       "      <td>True</td>\n",
       "      <td>Simple yet with great replayability. In my opi...</td>\n",
       "      <td>2011</td>\n",
       "      <td>1</td>\n",
       "      <td>en</td>\n",
       "    </tr>\n",
       "    <tr>\n",
       "      <th>0</th>\n",
       "      <td>76561197970982479</td>\n",
       "      <td>22200</td>\n",
       "      <td>True</td>\n",
       "      <td>It's unique and worth a playthrough.</td>\n",
       "      <td>2011</td>\n",
       "      <td>2</td>\n",
       "      <td>en</td>\n",
       "    </tr>\n",
       "    <tr>\n",
       "      <th>0</th>\n",
       "      <td>76561197970982479</td>\n",
       "      <td>43110</td>\n",
       "      <td>True</td>\n",
       "      <td>Great atmosphere. The gunplay can be a bit chu...</td>\n",
       "      <td>2011</td>\n",
       "      <td>1</td>\n",
       "      <td>en</td>\n",
       "    </tr>\n",
       "    <tr>\n",
       "      <th>1</th>\n",
       "      <td>js41637</td>\n",
       "      <td>251610</td>\n",
       "      <td>True</td>\n",
       "      <td>I know what you think when you see this title ...</td>\n",
       "      <td>2014</td>\n",
       "      <td>1</td>\n",
       "      <td>en</td>\n",
       "    </tr>\n",
       "    <tr>\n",
       "      <th>1</th>\n",
       "      <td>js41637</td>\n",
       "      <td>227300</td>\n",
       "      <td>True</td>\n",
       "      <td>For a simple (it's actually not all that simpl...</td>\n",
       "      <td>2013</td>\n",
       "      <td>1</td>\n",
       "      <td>en</td>\n",
       "    </tr>\n",
       "    <tr>\n",
       "      <th>...</th>\n",
       "      <td>...</td>\n",
       "      <td>...</td>\n",
       "      <td>...</td>\n",
       "      <td>...</td>\n",
       "      <td>...</td>\n",
       "      <td>...</td>\n",
       "      <td>...</td>\n",
       "    </tr>\n",
       "    <tr>\n",
       "      <th>25797</th>\n",
       "      <td>76561198312638244</td>\n",
       "      <td>70</td>\n",
       "      <td>True</td>\n",
       "      <td>a must have classic from steam definitely wort...</td>\n",
       "      <td>&lt;NA&gt;</td>\n",
       "      <td>2</td>\n",
       "      <td>en</td>\n",
       "    </tr>\n",
       "    <tr>\n",
       "      <th>25797</th>\n",
       "      <td>76561198312638244</td>\n",
       "      <td>362890</td>\n",
       "      <td>True</td>\n",
       "      <td>this game is a perfect remake of the original ...</td>\n",
       "      <td>&lt;NA&gt;</td>\n",
       "      <td>1</td>\n",
       "      <td>en</td>\n",
       "    </tr>\n",
       "    <tr>\n",
       "      <th>25798</th>\n",
       "      <td>LydiaMorley</td>\n",
       "      <td>273110</td>\n",
       "      <td>True</td>\n",
       "      <td>had so much fun plaing this and collecting res...</td>\n",
       "      <td>&lt;NA&gt;</td>\n",
       "      <td>1</td>\n",
       "      <td>en</td>\n",
       "    </tr>\n",
       "    <tr>\n",
       "      <th>25798</th>\n",
       "      <td>LydiaMorley</td>\n",
       "      <td>730</td>\n",
       "      <td>True</td>\n",
       "      <td>:D</td>\n",
       "      <td>&lt;NA&gt;</td>\n",
       "      <td>2</td>\n",
       "      <td>de</td>\n",
       "    </tr>\n",
       "    <tr>\n",
       "      <th>25798</th>\n",
       "      <td>LydiaMorley</td>\n",
       "      <td>440</td>\n",
       "      <td>True</td>\n",
       "      <td>so much fun :D</td>\n",
       "      <td>&lt;NA&gt;</td>\n",
       "      <td>2</td>\n",
       "      <td>es</td>\n",
       "    </tr>\n",
       "  </tbody>\n",
       "</table>\n",
       "<p>58400 rows × 7 columns</p>\n",
       "</div>"
      ],
      "text/plain": [
       "                 user_id item_id  recommend  \\\n",
       "0      76561197970982479    1250       True   \n",
       "0      76561197970982479   22200       True   \n",
       "0      76561197970982479   43110       True   \n",
       "1                js41637  251610       True   \n",
       "1                js41637  227300       True   \n",
       "...                  ...     ...        ...   \n",
       "25797  76561198312638244      70       True   \n",
       "25797  76561198312638244  362890       True   \n",
       "25798        LydiaMorley  273110       True   \n",
       "25798        LydiaMorley     730       True   \n",
       "25798        LydiaMorley     440       True   \n",
       "\n",
       "                                                  review  anio_lanzado  \\\n",
       "0      Simple yet with great replayability. In my opi...          2011   \n",
       "0                   It's unique and worth a playthrough.          2011   \n",
       "0      Great atmosphere. The gunplay can be a bit chu...          2011   \n",
       "1      I know what you think when you see this title ...          2014   \n",
       "1      For a simple (it's actually not all that simpl...          2013   \n",
       "...                                                  ...           ...   \n",
       "25797  a must have classic from steam definitely wort...          <NA>   \n",
       "25797  this game is a perfect remake of the original ...          <NA>   \n",
       "25798  had so much fun plaing this and collecting res...          <NA>   \n",
       "25798                                                 :D          <NA>   \n",
       "25798                                     so much fun :D          <NA>   \n",
       "\n",
       "       Sentiment_Score idioma  \n",
       "0                    1     en  \n",
       "0                    2     en  \n",
       "0                    1     en  \n",
       "1                    1     en  \n",
       "1                    1     en  \n",
       "...                ...    ...  \n",
       "25797                2     en  \n",
       "25797                1     en  \n",
       "25798                1     en  \n",
       "25798                2     de  \n",
       "25798                2     es  \n",
       "\n",
       "[58400 rows x 7 columns]"
      ]
     },
     "execution_count": 20,
     "metadata": {},
     "output_type": "execute_result"
    }
   ],
   "source": [
    "def idioma (txt):\n",
    "    try:\n",
    "        return detect(txt)\n",
    "    except:\n",
    "        return \"No se encuentra\"\n",
    "    \n",
    "df_user_reviews['idioma'] = df_user_reviews ['review'].apply(idioma) \n",
    "\n",
    "df_user_reviews "
   ]
  },
  {
   "cell_type": "markdown",
   "metadata": {},
   "source": [
    "Vamos a ver que idiomas hay en nuestros analisis y si vamos a limpiarlas o no"
   ]
  },
  {
   "cell_type": "code",
   "execution_count": 21,
   "metadata": {},
   "outputs": [
    {
     "name": "stdout",
     "output_type": "stream",
     "text": [
      "idioma\n",
      "en                 45073\n",
      "pt                  2155\n",
      "es                  1259\n",
      "de                  1151\n",
      "so                  1003\n",
      "af                   737\n",
      "th                   708\n",
      "tl                   575\n",
      "No se encuentra      543\n",
      "cy                   450\n",
      "da                   399\n",
      "no                   365\n",
      "nl                   307\n",
      "ca                   261\n",
      "it                   247\n",
      "ro                   244\n",
      "pl                   238\n",
      "id                   238\n",
      "ko                   233\n",
      "fr                   222\n",
      "zh-cn                210\n",
      "ru                   210\n",
      "et                   185\n",
      "sw                   182\n",
      "tr                   160\n",
      "hr                   141\n",
      "sl                   135\n",
      "vi                   122\n",
      "sq                   104\n",
      "fi                    97\n",
      "hu                    97\n",
      "sv                    73\n",
      "sk                    69\n",
      "cs                    42\n",
      "lt                    38\n",
      "ja                    37\n",
      "lv                    37\n",
      "bg                    21\n",
      "uk                    14\n",
      "zh-tw                  8\n",
      "mk                     7\n",
      "ar                     2\n",
      "ta                     1\n",
      "Name: count, dtype: int64\n"
     ]
    }
   ],
   "source": [
    "variedad = df_user_reviews['idioma'].value_counts()\n",
    "\n",
    "print(variedad)"
   ]
  },
  {
   "cell_type": "markdown",
   "metadata": {},
   "source": [
    "Ahora vamos a hacer una especie de limpieza de aquellas reseñas que tienen emojis o estrellas. Lo que vamos a hacer es una función Regex para evitar estos problemas"
   ]
  },
  {
   "cell_type": "code",
   "execution_count": 22,
   "metadata": {},
   "outputs": [
    {
     "name": "stdout",
     "output_type": "stream",
     "text": [
      "                 user_id item_id  recommend  \\\n",
      "0      76561197970982479    1250       True   \n",
      "0      76561197970982479   22200       True   \n",
      "0      76561197970982479   43110       True   \n",
      "1                js41637  251610       True   \n",
      "1                js41637  227300       True   \n",
      "...                  ...     ...        ...   \n",
      "25797  76561198312638244      70       True   \n",
      "25797  76561198312638244  362890       True   \n",
      "25798        LydiaMorley  273110       True   \n",
      "25798        LydiaMorley     730       True   \n",
      "25798        LydiaMorley     440       True   \n",
      "\n",
      "                                                  review  anio_lanzado  \\\n",
      "0      Simple yet with great replayability. In my opi...          2011   \n",
      "0                   It's unique and worth a playthrough.          2011   \n",
      "0      Great atmosphere. The gunplay can be a bit chu...          2011   \n",
      "1      I know what you think when you see this title ...          2014   \n",
      "1      For a simple (it's actually not all that simpl...          2013   \n",
      "...                                                  ...           ...   \n",
      "25797  a must have classic from steam definitely wort...          <NA>   \n",
      "25797  this game is a perfect remake of the original ...          <NA>   \n",
      "25798  had so much fun plaing this and collecting res...          <NA>   \n",
      "25798                                                 :D          <NA>   \n",
      "25798                                     so much fun :D          <NA>   \n",
      "\n",
      "       Sentiment_Score idioma  \n",
      "0                    1     en  \n",
      "0                    2     en  \n",
      "0                    1     en  \n",
      "1                    1     en  \n",
      "1                    1     en  \n",
      "...                ...    ...  \n",
      "25797                2     en  \n",
      "25797                1     en  \n",
      "25798                1     en  \n",
      "25798                2     de  \n",
      "25798                2     es  \n",
      "\n",
      "[58400 rows x 7 columns]\n"
     ]
    }
   ],
   "source": [
    "def parsear (txt):\n",
    "    #Expresiones regex que nos van a decir si es positivo\n",
    "    positivo =[r\"< ?3{3,}\", r\"♥{3,}\", r\":\\){3,}\", r\"★{3,}\"]\n",
    "    #Puntaje\n",
    "    calificacion=[r\"\\d{3,5}/10\", r\"[8-9]/10|[1-9][0-9]{1,3}\", r\"[8-9]/[10-1000]\"]\n",
    "    \n",
    "    for exp in positivo + calificacion:\n",
    "        if re.search(exp,txt):\n",
    "            return 2 # Sentimiento alto\n",
    "        \n",
    "    return 1 # Si no se encuentra nada se le asigna el 1   \n",
    "\n",
    "\n",
    "#creación de mascara para las filas \"No se encuentra\"\n",
    "mascara = df_user_reviews['idioma'] == 'No se encuentra'\n",
    "\n",
    "#Se aplica la función\n",
    "\n",
    "df_user_reviews.loc[mascara,'Sentiment_Score'] = df_user_reviews.loc[mascara,'review'].apply(parsear)\n",
    "\n",
    "print(df_user_reviews)"
   ]
  },
  {
   "cell_type": "markdown",
   "metadata": {},
   "source": [
    "Eliminamos la columna 'idioma' ya que cumplio su función"
   ]
  },
  {
   "cell_type": "code",
   "execution_count": 24,
   "metadata": {},
   "outputs": [],
   "source": [
    "df_user_reviews.drop(columns='idioma',inplace=True)"
   ]
  },
  {
   "cell_type": "markdown",
   "metadata": {},
   "source": [
    "Ahora esto lo exportamos"
   ]
  },
  {
   "cell_type": "code",
   "execution_count": 26,
   "metadata": {},
   "outputs": [],
   "source": [
    "df_user_reviews_clean = df_user_reviews.to_parquet('df_user_reviews_clean.parquet')"
   ]
  },
  {
   "cell_type": "markdown",
   "metadata": {},
   "source": [
    "Al final me di cuenta que todo este proceso lo podría haber hecho en ETLFinal para que sea más fácil y no tener muchos archivos pero es parte del aprendizaje. "
   ]
  }
 ],
 "metadata": {
  "kernelspec": {
   "display_name": "Python 3",
   "language": "python",
   "name": "python3"
  },
  "language_info": {
   "codemirror_mode": {
    "name": "ipython",
    "version": 3
   },
   "file_extension": ".py",
   "mimetype": "text/x-python",
   "name": "python",
   "nbconvert_exporter": "python",
   "pygments_lexer": "ipython3",
   "version": "3.11.9"
  }
 },
 "nbformat": 4,
 "nbformat_minor": 2
}
