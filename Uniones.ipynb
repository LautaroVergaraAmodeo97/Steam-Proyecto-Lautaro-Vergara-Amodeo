{
 "cells": [
  {
   "cell_type": "code",
   "execution_count": 1,
   "metadata": {},
   "outputs": [],
   "source": [
    "import pandas as pd\n",
    "import numpy as np\n",
    "import pyarrow as pa\n",
    "import pyarrow.parquet as pq"
   ]
  },
  {
   "cell_type": "code",
   "execution_count": 3,
   "metadata": {},
   "outputs": [],
   "source": [
    "# Leemos todos\n",
    "\n",
    "df_steam_juegos = pd.read_parquet('steam_games_listo.parquet')\n",
    "\n",
    "df_user_items = pd.read_parquet('df_user_items.parquet')\n",
    "\n",
    "df_user_reviews = pd.read_parquet('df_user_reviews_clean.parquet')\n",
    "\n"
   ]
  },
  {
   "cell_type": "markdown",
   "metadata": {},
   "source": [
    "Como es costumbre vamos a ver las info de los dataframes"
   ]
  },
  {
   "cell_type": "code",
   "execution_count": 4,
   "metadata": {},
   "outputs": [
    {
     "name": "stdout",
     "output_type": "stream",
     "text": [
      "<class 'pandas.core.frame.DataFrame'>\n",
      "Index: 32133 entries, 88310 to 120444\n",
      "Data columns (total 8 columns):\n",
      " #   Column        Non-Null Count  Dtype  \n",
      "---  ------        --------------  -----  \n",
      " 0   id            32133 non-null  object \n",
      " 1   publisher     32133 non-null  object \n",
      " 2   genres        32133 non-null  object \n",
      " 3   app_name      32133 non-null  object \n",
      " 4   price         32133 non-null  float64\n",
      " 5   early_access  32133 non-null  float64\n",
      " 6   developer     32133 non-null  object \n",
      " 7   anio          32133 non-null  object \n",
      "dtypes: float64(2), object(6)\n",
      "memory usage: 2.2+ MB\n"
     ]
    }
   ],
   "source": [
    "df_steam_juegos.info()\n",
    "#Hago este rename porque las demás dataframe tiene item_id y yo en su\n",
    "# momento puse id en este (la verdad que no recuerdo el por qué lo hice)\n",
    "df_steam_juegos.rename(columns={'id': 'item_id'},inplace=True)"
   ]
  },
  {
   "cell_type": "code",
   "execution_count": 5,
   "metadata": {},
   "outputs": [
    {
     "name": "stdout",
     "output_type": "stream",
     "text": [
      "<class 'pandas.core.frame.DataFrame'>\n",
      "Index: 5094105 entries, 0 to 5153208\n",
      "Data columns (total 5 columns):\n",
      " #   Column            Dtype \n",
      "---  ------            ----- \n",
      " 0   user_id           object\n",
      " 1   steam_id          object\n",
      " 2   item_id           object\n",
      " 3   item_name         object\n",
      " 4   playtime_forever  int64 \n",
      "dtypes: int64(1), object(4)\n",
      "memory usage: 233.2+ MB\n"
     ]
    }
   ],
   "source": [
    "df_user_items.info()"
   ]
  },
  {
   "cell_type": "code",
   "execution_count": 6,
   "metadata": {},
   "outputs": [
    {
     "name": "stdout",
     "output_type": "stream",
     "text": [
      "<class 'pandas.core.frame.DataFrame'>\n",
      "Index: 58400 entries, 0 to 25798\n",
      "Data columns (total 6 columns):\n",
      " #   Column           Non-Null Count  Dtype \n",
      "---  ------           --------------  ----- \n",
      " 0   user_id          58400 non-null  object\n",
      " 1   item_id          58400 non-null  object\n",
      " 2   recommend        58400 non-null  bool  \n",
      " 3   review           58400 non-null  object\n",
      " 4   anio_lanzado     48471 non-null  Int64 \n",
      " 5   Sentiment_Score  58400 non-null  int64 \n",
      "dtypes: Int64(1), bool(1), int64(1), object(3)\n",
      "memory usage: 2.8+ MB\n"
     ]
    }
   ],
   "source": [
    "df_user_reviews.info()"
   ]
  },
  {
   "cell_type": "markdown",
   "metadata": {},
   "source": [
    "Voy a tener que hacer varios renames, sobre todo porque quise españolizar (no volver a hacer esto). Además de cambiar los tipos de datos para que todas las tablas tengan lo mismo "
   ]
  },
  {
   "cell_type": "code",
   "execution_count": 7,
   "metadata": {},
   "outputs": [],
   "source": [
    "df_steam_juegos.rename(columns={'anio': 'year_release'},inplace=True)"
   ]
  },
  {
   "cell_type": "code",
   "execution_count": 8,
   "metadata": {},
   "outputs": [],
   "source": [
    "df_user_reviews.rename(columns={'anio_lanzado': 'year_review'},inplace=True)"
   ]
  },
  {
   "cell_type": "code",
   "execution_count": 9,
   "metadata": {},
   "outputs": [
    {
     "name": "stdout",
     "output_type": "stream",
     "text": [
      "<class 'pandas.core.frame.DataFrame'>\n",
      "Index: 32133 entries, 88310 to 120444\n",
      "Data columns (total 8 columns):\n",
      " #   Column        Non-Null Count  Dtype  \n",
      "---  ------        --------------  -----  \n",
      " 0   item_id       32133 non-null  object \n",
      " 1   publisher     32133 non-null  object \n",
      " 2   genres        32133 non-null  object \n",
      " 3   app_name      32133 non-null  object \n",
      " 4   price         32133 non-null  float64\n",
      " 5   early_access  32133 non-null  float64\n",
      " 6   developer     32133 non-null  object \n",
      " 7   year_release  32133 non-null  object \n",
      "dtypes: float64(2), object(6)\n",
      "memory usage: 2.2+ MB\n"
     ]
    }
   ],
   "source": [
    "df_steam_juegos.info()"
   ]
  },
  {
   "cell_type": "markdown",
   "metadata": {},
   "source": [
    "Una vez finalizado los renames vamos a proceder a realizar los cambios necesarios para seguir"
   ]
  },
  {
   "cell_type": "code",
   "execution_count": 10,
   "metadata": {},
   "outputs": [],
   "source": [
    "df_steam_juegos['item_id'] = df_steam_juegos['item_id'].astype(str)\n",
    "df_steam_juegos['year_release'] = pd.to_numeric(df_steam_juegos['year_release'], errors='coerce').astype('Int64')\n",
    "\n",
    "\n",
    "df_user_items[\"playtime_forever\"] = df_user_items[\"playtime_forever\"]/60\n",
    "df_user_items['item_id'] = df_user_items['item_id'].astype(str)\n",
    "\n",
    "df_user_reviews['item_id'] = df_user_reviews['item_id'].astype(str)\n",
    "df_user_reviews['year_review'] = pd.to_numeric(df_user_reviews['year_review'], errors='coerce').astype('Int64')"
   ]
  },
  {
   "cell_type": "code",
   "execution_count": 11,
   "metadata": {},
   "outputs": [
    {
     "name": "stdout",
     "output_type": "stream",
     "text": [
      "<class 'pandas.core.frame.DataFrame'>\n",
      "Index: 32133 entries, 88310 to 120444\n",
      "Data columns (total 8 columns):\n",
      " #   Column        Non-Null Count  Dtype  \n",
      "---  ------        --------------  -----  \n",
      " 0   item_id       32133 non-null  object \n",
      " 1   publisher     32133 non-null  object \n",
      " 2   genres        32133 non-null  object \n",
      " 3   app_name      32133 non-null  object \n",
      " 4   price         32133 non-null  float64\n",
      " 5   early_access  32133 non-null  float64\n",
      " 6   developer     32133 non-null  object \n",
      " 7   year_release  29963 non-null  Int64  \n",
      "dtypes: Int64(1), float64(2), object(5)\n",
      "memory usage: 2.2+ MB\n"
     ]
    }
   ],
   "source": [
    "df_steam_juegos.info()"
   ]
  },
  {
   "cell_type": "code",
   "execution_count": 12,
   "metadata": {},
   "outputs": [
    {
     "name": "stdout",
     "output_type": "stream",
     "text": [
      "Cantidad de valores únicos en 'item_id' en df_steam_juegos: 32133\n",
      "Cantidad de valores únicos en 'item_id' en df_user_items: 10978\n",
      "Cantidad de valores únicos en 'item_id' en df_user_reviews: 3682\n"
     ]
    }
   ],
   "source": [
    "cantidad_unicos_steam_juegos = df_steam_juegos['item_id'].nunique()\n",
    "print(\"Cantidad de valores únicos en 'item_id' en df_steam_juegos:\", cantidad_unicos_steam_juegos)\n",
    "\n",
    "cantidad_unicos_user_items = df_user_items['item_id'].nunique()\n",
    "print(\"Cantidad de valores únicos en 'item_id' en df_user_items:\", cantidad_unicos_user_items)\n",
    "\n",
    "cantidad_unicos_user_reviews = df_user_reviews['item_id'].nunique()\n",
    "print(\"Cantidad de valores únicos en 'item_id' en df_user_reviews:\", cantidad_unicos_user_reviews)\n"
   ]
  },
  {
   "cell_type": "code",
   "execution_count": 13,
   "metadata": {},
   "outputs": [
    {
     "name": "stdout",
     "output_type": "stream",
     "text": [
      "<class 'pandas.core.frame.DataFrame'>\n",
      "Index: 5094105 entries, 0 to 5153208\n",
      "Data columns (total 5 columns):\n",
      " #   Column            Dtype  \n",
      "---  ------            -----  \n",
      " 0   user_id           object \n",
      " 1   steam_id          object \n",
      " 2   item_id           object \n",
      " 3   item_name         object \n",
      " 4   playtime_forever  float64\n",
      "dtypes: float64(1), object(4)\n",
      "memory usage: 233.2+ MB\n"
     ]
    }
   ],
   "source": [
    "df_user_items.info()"
   ]
  },
  {
   "cell_type": "code",
   "execution_count": 14,
   "metadata": {},
   "outputs": [
    {
     "name": "stdout",
     "output_type": "stream",
     "text": [
      "<class 'pandas.core.frame.DataFrame'>\n",
      "Index: 58400 entries, 0 to 25798\n",
      "Data columns (total 6 columns):\n",
      " #   Column           Non-Null Count  Dtype \n",
      "---  ------           --------------  ----- \n",
      " 0   user_id          58400 non-null  object\n",
      " 1   item_id          58400 non-null  object\n",
      " 2   recommend        58400 non-null  bool  \n",
      " 3   review           58400 non-null  object\n",
      " 4   year_review      48471 non-null  Int64 \n",
      " 5   Sentiment_Score  58400 non-null  int64 \n",
      "dtypes: Int64(1), bool(1), int64(1), object(3)\n",
      "memory usage: 2.8+ MB\n"
     ]
    }
   ],
   "source": [
    "df_user_reviews.info()"
   ]
  },
  {
   "cell_type": "markdown",
   "metadata": {},
   "source": [
    "Tuve que reconvertir nuevamente los item_id en entero. Podía hacer el merge perfectamente pero no me devolvía nada así que supuse que era un problema de tipo de dato así que decidí dejarlo en int para evitar más problemas"
   ]
  },
  {
   "cell_type": "code",
   "execution_count": 15,
   "metadata": {},
   "outputs": [],
   "source": [
    "# Convertir la columna 'item_id' a flotante\n",
    "df_steam_juegos['item_id'] = df_steam_juegos['item_id'].astype(float)\n",
    "df_user_items['item_id'] = df_user_items['item_id'].astype(float)\n",
    "df_user_reviews['item_id'] = df_user_reviews['item_id'].astype(float)\n",
    "\n",
    "# Eliminar filas con valores no finitos (NaN o inf)\n",
    "df_steam_juegos = df_steam_juegos[np.isfinite(df_steam_juegos['item_id'])]\n",
    "df_user_items = df_user_items[np.isfinite(df_user_items['item_id'])]\n",
    "df_user_reviews = df_user_reviews[np.isfinite(df_user_reviews['item_id'])]\n",
    "\n",
    "# Convertir la columna 'item_id' de flotante a entero para eliminar la parte decimal\n",
    "df_steam_juegos['item_id'] = df_steam_juegos['item_id'].astype(int)\n",
    "df_user_items['item_id'] = df_user_items['item_id'].astype(int)\n",
    "df_user_reviews['item_id'] = df_user_reviews['item_id'].astype(int)\n"
   ]
  },
  {
   "cell_type": "code",
   "execution_count": 34,
   "metadata": {},
   "outputs": [],
   "source": [
    "# merge primigenio (sirve para combinar otros después)\n",
    "df_primigenio = pd.merge(df_steam_juegos, df_user_items, on='item_id', how='inner')\n",
    "\n"
   ]
  },
  {
   "cell_type": "code",
   "execution_count": 30,
   "metadata": {},
   "outputs": [],
   "source": [
    "df_primigenio"
   ]
  },
  {
   "cell_type": "code",
   "execution_count": 35,
   "metadata": {},
   "outputs": [],
   "source": [
    "# merge User for genre\n",
    "df_ugenre = pd.merge(df_primigenio, df_user_reviews, on=['user_id', 'item_id'], how='inner')\n"
   ]
  },
  {
   "cell_type": "code",
   "execution_count": 36,
   "metadata": {},
   "outputs": [
    {
     "data": {
      "text/html": [
       "<div>\n",
       "<style scoped>\n",
       "    .dataframe tbody tr th:only-of-type {\n",
       "        vertical-align: middle;\n",
       "    }\n",
       "\n",
       "    .dataframe tbody tr th {\n",
       "        vertical-align: top;\n",
       "    }\n",
       "\n",
       "    .dataframe thead th {\n",
       "        text-align: right;\n",
       "    }\n",
       "</style>\n",
       "<table border=\"1\" class=\"dataframe\">\n",
       "  <thead>\n",
       "    <tr style=\"text-align: right;\">\n",
       "      <th></th>\n",
       "      <th>item_id</th>\n",
       "      <th>publisher</th>\n",
       "      <th>genres</th>\n",
       "      <th>app_name</th>\n",
       "      <th>price</th>\n",
       "      <th>early_access</th>\n",
       "      <th>developer</th>\n",
       "      <th>year_release</th>\n",
       "      <th>user_id</th>\n",
       "      <th>steam_id</th>\n",
       "      <th>item_name</th>\n",
       "      <th>playtime_forever</th>\n",
       "      <th>recommend</th>\n",
       "      <th>review</th>\n",
       "      <th>year_review</th>\n",
       "      <th>Sentiment_Score</th>\n",
       "    </tr>\n",
       "  </thead>\n",
       "  <tbody>\n",
       "    <tr>\n",
       "      <th>0</th>\n",
       "      <td>282010</td>\n",
       "      <td>Stainless Games Ltd</td>\n",
       "      <td>Action Indie Racing</td>\n",
       "      <td>Carmageddon Max Pack</td>\n",
       "      <td>9.99</td>\n",
       "      <td>0.0</td>\n",
       "      <td>stainless games ltd</td>\n",
       "      <td>1997</td>\n",
       "      <td>InstigatorAU</td>\n",
       "      <td>76561198067728137</td>\n",
       "      <td>Carmageddon Max Pack</td>\n",
       "      <td>7.766667</td>\n",
       "      <td>True</td>\n",
       "      <td>Oh, where do i start? DOS...</td>\n",
       "      <td>&lt;NA&gt;</td>\n",
       "      <td>1</td>\n",
       "    </tr>\n",
       "    <tr>\n",
       "      <th>1</th>\n",
       "      <td>70</td>\n",
       "      <td>Valve</td>\n",
       "      <td>Action</td>\n",
       "      <td>Half-Life</td>\n",
       "      <td>9.99</td>\n",
       "      <td>0.0</td>\n",
       "      <td>valve</td>\n",
       "      <td>1998</td>\n",
       "      <td>EizanAratoFujimaki</td>\n",
       "      <td>76561198160640899</td>\n",
       "      <td>Half-Life</td>\n",
       "      <td>23.250000</td>\n",
       "      <td>True</td>\n",
       "      <td>ADVERTENCIA:Este Análisis contiene posibles Sp...</td>\n",
       "      <td>2015</td>\n",
       "      <td>1</td>\n",
       "    </tr>\n",
       "    <tr>\n",
       "      <th>2</th>\n",
       "      <td>70</td>\n",
       "      <td>Valve</td>\n",
       "      <td>Action</td>\n",
       "      <td>Half-Life</td>\n",
       "      <td>9.99</td>\n",
       "      <td>0.0</td>\n",
       "      <td>valve</td>\n",
       "      <td>1998</td>\n",
       "      <td>GamerFag</td>\n",
       "      <td>76561198006592023</td>\n",
       "      <td>Half-Life</td>\n",
       "      <td>9.833333</td>\n",
       "      <td>True</td>\n",
       "      <td>If you own any half life but not this one that...</td>\n",
       "      <td>2011</td>\n",
       "      <td>0</td>\n",
       "    </tr>\n",
       "    <tr>\n",
       "      <th>3</th>\n",
       "      <td>70</td>\n",
       "      <td>Valve</td>\n",
       "      <td>Action</td>\n",
       "      <td>Half-Life</td>\n",
       "      <td>9.99</td>\n",
       "      <td>0.0</td>\n",
       "      <td>valve</td>\n",
       "      <td>1998</td>\n",
       "      <td>76561198020928326</td>\n",
       "      <td>76561198020928326</td>\n",
       "      <td>Half-Life</td>\n",
       "      <td>93.316667</td>\n",
       "      <td>True</td>\n",
       "      <td>this game has had me hooked for over 4 years a...</td>\n",
       "      <td>2014</td>\n",
       "      <td>1</td>\n",
       "    </tr>\n",
       "    <tr>\n",
       "      <th>4</th>\n",
       "      <td>70</td>\n",
       "      <td>Valve</td>\n",
       "      <td>Action</td>\n",
       "      <td>Half-Life</td>\n",
       "      <td>9.99</td>\n",
       "      <td>0.0</td>\n",
       "      <td>valve</td>\n",
       "      <td>1998</td>\n",
       "      <td>Bluegills</td>\n",
       "      <td>76561197971857001</td>\n",
       "      <td>Half-Life</td>\n",
       "      <td>1.066667</td>\n",
       "      <td>True</td>\n",
       "      <td>This is, by far my most favourite game I have ...</td>\n",
       "      <td>2013</td>\n",
       "      <td>2</td>\n",
       "    </tr>\n",
       "    <tr>\n",
       "      <th>...</th>\n",
       "      <td>...</td>\n",
       "      <td>...</td>\n",
       "      <td>...</td>\n",
       "      <td>...</td>\n",
       "      <td>...</td>\n",
       "      <td>...</td>\n",
       "      <td>...</td>\n",
       "      <td>...</td>\n",
       "      <td>...</td>\n",
       "      <td>...</td>\n",
       "      <td>...</td>\n",
       "      <td>...</td>\n",
       "      <td>...</td>\n",
       "      <td>...</td>\n",
       "      <td>...</td>\n",
       "      <td>...</td>\n",
       "    </tr>\n",
       "    <tr>\n",
       "      <th>40092</th>\n",
       "      <td>80</td>\n",
       "      <td>Valve</td>\n",
       "      <td>Action</td>\n",
       "      <td>Counter-Strike: Condition Zero</td>\n",
       "      <td>9.99</td>\n",
       "      <td>0.0</td>\n",
       "      <td>valve</td>\n",
       "      <td>2004</td>\n",
       "      <td>76561198015050660</td>\n",
       "      <td>76561198015050660</td>\n",
       "      <td>Counter-Strike: Condition Zero</td>\n",
       "      <td>40.266667</td>\n",
       "      <td>False</td>\n",
       "      <td>作為第一個在steam入手的遊戲，老實說當初是為了1.6來順便帶回來，由於當時網路不太穩的關...</td>\n",
       "      <td>2014</td>\n",
       "      <td>1</td>\n",
       "    </tr>\n",
       "    <tr>\n",
       "      <th>40093</th>\n",
       "      <td>80</td>\n",
       "      <td>Valve</td>\n",
       "      <td>Action</td>\n",
       "      <td>Counter-Strike: Condition Zero</td>\n",
       "      <td>9.99</td>\n",
       "      <td>0.0</td>\n",
       "      <td>valve</td>\n",
       "      <td>2004</td>\n",
       "      <td>76561198023508728</td>\n",
       "      <td>76561198023508728</td>\n",
       "      <td>Counter-Strike: Condition Zero</td>\n",
       "      <td>0.250000</td>\n",
       "      <td>False</td>\n",
       "      <td>i caused 9/11</td>\n",
       "      <td>2014</td>\n",
       "      <td>1</td>\n",
       "    </tr>\n",
       "    <tr>\n",
       "      <th>40094</th>\n",
       "      <td>80</td>\n",
       "      <td>Valve</td>\n",
       "      <td>Action</td>\n",
       "      <td>Counter-Strike: Condition Zero</td>\n",
       "      <td>9.99</td>\n",
       "      <td>0.0</td>\n",
       "      <td>valve</td>\n",
       "      <td>2004</td>\n",
       "      <td>green290</td>\n",
       "      <td>76561198051829216</td>\n",
       "      <td>Counter-Strike: Condition Zero</td>\n",
       "      <td>7.366667</td>\n",
       "      <td>True</td>\n",
       "      <td>This game was suprisingly my first FPS game.11...</td>\n",
       "      <td>2015</td>\n",
       "      <td>2</td>\n",
       "    </tr>\n",
       "    <tr>\n",
       "      <th>40095</th>\n",
       "      <td>80</td>\n",
       "      <td>Valve</td>\n",
       "      <td>Action</td>\n",
       "      <td>Counter-Strike: Condition Zero</td>\n",
       "      <td>9.99</td>\n",
       "      <td>0.0</td>\n",
       "      <td>valve</td>\n",
       "      <td>2004</td>\n",
       "      <td>174gamecuman700kngkakak</td>\n",
       "      <td>76561198099895210</td>\n",
       "      <td>Counter-Strike: Condition Zero</td>\n",
       "      <td>1.200000</td>\n",
       "      <td>True</td>\n",
       "      <td>:v</td>\n",
       "      <td>2014</td>\n",
       "      <td>1</td>\n",
       "    </tr>\n",
       "    <tr>\n",
       "      <th>40096</th>\n",
       "      <td>80</td>\n",
       "      <td>Valve</td>\n",
       "      <td>Action</td>\n",
       "      <td>Counter-Strike: Condition Zero</td>\n",
       "      <td>9.99</td>\n",
       "      <td>0.0</td>\n",
       "      <td>valve</td>\n",
       "      <td>2004</td>\n",
       "      <td>lachwe</td>\n",
       "      <td>76561198189689995</td>\n",
       "      <td>Counter-Strike: Condition Zero</td>\n",
       "      <td>1.033333</td>\n",
       "      <td>True</td>\n",
       "      <td>Random enemies popping out of no where will ma...</td>\n",
       "      <td>2015</td>\n",
       "      <td>0</td>\n",
       "    </tr>\n",
       "  </tbody>\n",
       "</table>\n",
       "<p>40097 rows × 16 columns</p>\n",
       "</div>"
      ],
      "text/plain": [
       "       item_id            publisher               genres  \\\n",
       "0       282010  Stainless Games Ltd  Action Indie Racing   \n",
       "1           70                Valve               Action   \n",
       "2           70                Valve               Action   \n",
       "3           70                Valve               Action   \n",
       "4           70                Valve               Action   \n",
       "...        ...                  ...                  ...   \n",
       "40092       80                Valve               Action   \n",
       "40093       80                Valve               Action   \n",
       "40094       80                Valve               Action   \n",
       "40095       80                Valve               Action   \n",
       "40096       80                Valve               Action   \n",
       "\n",
       "                             app_name  price  early_access  \\\n",
       "0                Carmageddon Max Pack   9.99           0.0   \n",
       "1                           Half-Life   9.99           0.0   \n",
       "2                           Half-Life   9.99           0.0   \n",
       "3                           Half-Life   9.99           0.0   \n",
       "4                           Half-Life   9.99           0.0   \n",
       "...                               ...    ...           ...   \n",
       "40092  Counter-Strike: Condition Zero   9.99           0.0   \n",
       "40093  Counter-Strike: Condition Zero   9.99           0.0   \n",
       "40094  Counter-Strike: Condition Zero   9.99           0.0   \n",
       "40095  Counter-Strike: Condition Zero   9.99           0.0   \n",
       "40096  Counter-Strike: Condition Zero   9.99           0.0   \n",
       "\n",
       "                 developer  year_release                  user_id  \\\n",
       "0      stainless games ltd          1997             InstigatorAU   \n",
       "1                    valve          1998       EizanAratoFujimaki   \n",
       "2                    valve          1998                 GamerFag   \n",
       "3                    valve          1998        76561198020928326   \n",
       "4                    valve          1998                Bluegills   \n",
       "...                    ...           ...                      ...   \n",
       "40092                valve          2004        76561198015050660   \n",
       "40093                valve          2004        76561198023508728   \n",
       "40094                valve          2004                 green290   \n",
       "40095                valve          2004  174gamecuman700kngkakak   \n",
       "40096                valve          2004                   lachwe   \n",
       "\n",
       "                steam_id                       item_name  playtime_forever  \\\n",
       "0      76561198067728137            Carmageddon Max Pack          7.766667   \n",
       "1      76561198160640899                       Half-Life         23.250000   \n",
       "2      76561198006592023                       Half-Life          9.833333   \n",
       "3      76561198020928326                       Half-Life         93.316667   \n",
       "4      76561197971857001                       Half-Life          1.066667   \n",
       "...                  ...                             ...               ...   \n",
       "40092  76561198015050660  Counter-Strike: Condition Zero         40.266667   \n",
       "40093  76561198023508728  Counter-Strike: Condition Zero          0.250000   \n",
       "40094  76561198051829216  Counter-Strike: Condition Zero          7.366667   \n",
       "40095  76561198099895210  Counter-Strike: Condition Zero          1.200000   \n",
       "40096  76561198189689995  Counter-Strike: Condition Zero          1.033333   \n",
       "\n",
       "       recommend                                             review  \\\n",
       "0           True                       Oh, where do i start? DOS...   \n",
       "1           True  ADVERTENCIA:Este Análisis contiene posibles Sp...   \n",
       "2           True  If you own any half life but not this one that...   \n",
       "3           True  this game has had me hooked for over 4 years a...   \n",
       "4           True  This is, by far my most favourite game I have ...   \n",
       "...          ...                                                ...   \n",
       "40092      False  作為第一個在steam入手的遊戲，老實說當初是為了1.6來順便帶回來，由於當時網路不太穩的關...   \n",
       "40093      False                                      i caused 9/11   \n",
       "40094       True  This game was suprisingly my first FPS game.11...   \n",
       "40095       True                                                 :v   \n",
       "40096       True  Random enemies popping out of no where will ma...   \n",
       "\n",
       "       year_review  Sentiment_Score  \n",
       "0             <NA>                1  \n",
       "1             2015                1  \n",
       "2             2011                0  \n",
       "3             2014                1  \n",
       "4             2013                2  \n",
       "...            ...              ...  \n",
       "40092         2014                1  \n",
       "40093         2014                1  \n",
       "40094         2015                2  \n",
       "40095         2014                1  \n",
       "40096         2015                0  \n",
       "\n",
       "[40097 rows x 16 columns]"
      ]
     },
     "execution_count": 36,
     "metadata": {},
     "output_type": "execute_result"
    }
   ],
   "source": [
    "df_ugenre"
   ]
  },
  {
   "cell_type": "code",
   "execution_count": 37,
   "metadata": {},
   "outputs": [],
   "source": [
    "df_ugenre = df_ugenre.to_parquet('df_ugenre.parquet')"
   ]
  },
  {
   "cell_type": "code",
   "execution_count": 21,
   "metadata": {},
   "outputs": [],
   "source": [
    "# merge para bestDeveloperYear\n",
    "df_bdev = pd.merge(df_steam_juegos, df_user_reviews, on='item_id', how='inner')"
   ]
  },
  {
   "cell_type": "code",
   "execution_count": 38,
   "metadata": {},
   "outputs": [],
   "source": [
    "df_bdev"
   ]
  },
  {
   "cell_type": "code",
   "execution_count": 25,
   "metadata": {},
   "outputs": [],
   "source": [
    "df_bdev = df_bdev.to_parquet('df_bdev.parquet')"
   ]
  },
  {
   "cell_type": "code",
   "execution_count": 44,
   "metadata": {},
   "outputs": [],
   "source": [
    "df_sentimiento = pd.merge(df_user_reviews,df_steam_juegos,on='item_id',how='inner')"
   ]
  },
  {
   "cell_type": "code",
   "execution_count": 45,
   "metadata": {},
   "outputs": [],
   "source": [
    "df_sentimiento = df_sentimiento.to_parquet('df_sentimiento.parquet')"
   ]
  }
 ],
 "metadata": {
  "kernelspec": {
   "display_name": "Python 3",
   "language": "python",
   "name": "python3"
  },
  "language_info": {
   "codemirror_mode": {
    "name": "ipython",
    "version": 3
   },
   "file_extension": ".py",
   "mimetype": "text/x-python",
   "name": "python",
   "nbconvert_exporter": "python",
   "pygments_lexer": "ipython3",
   "version": "3.11.9"
  }
 },
 "nbformat": 4,
 "nbformat_minor": 2
}
